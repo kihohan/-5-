{
 "cells": [
  {
   "cell_type": "code",
   "execution_count": 1,
   "metadata": {},
   "outputs": [],
   "source": [
    "import warnings\n",
    "warnings.filterwarnings('ignore')\n",
    "import numpy as np\n",
    "import pandas as pd\n",
    "import seaborn as sns\n",
    "import matplotlib.pyplot as plt"
   ]
  },
  {
   "cell_type": "code",
   "execution_count": 2,
   "metadata": {},
   "outputs": [
    {
     "data": {
      "text/plain": [
       "((6898, 180), (59199, 180), (2957, 180))"
      ]
     },
     "execution_count": 2,
     "metadata": {},
     "output_type": "execute_result"
    }
   ],
   "source": [
    "val = pd.read_csv('PJT002_validation.csv')\n",
    "train = pd.read_csv('PJT002_train.csv')\n",
    "test = pd.read_csv('PJT002_test.csv')\n",
    "\n",
    "train_id = set (train['id'].unique())\n",
    "val_id = set (val['id'].unique())\n",
    "val.shape, train.shape, test.shape"
   ]
  },
  {
   "cell_type": "code",
   "execution_count": 3,
   "metadata": {},
   "outputs": [
    {
     "data": {
      "text/plain": [
       "(69054, 180)"
      ]
     },
     "execution_count": 3,
     "metadata": {},
     "output_type": "execute_result"
    }
   ],
   "source": [
    "df = pd.concat([val,train,test])\n",
    "df['fr_yn'] = df['fr_yn'].apply(lambda x: 0 if x == 'N' else 1 if x == 'Y' else -1)\n",
    "df.shape"
   ]
  },
  {
   "cell_type": "code",
   "execution_count": 4,
   "metadata": {},
   "outputs": [],
   "source": [
    "def fillna_linear(data,time_column,column_name):\n",
    "    data[time_column] = pd.to_datetime(data[time_column])\n",
    "    data = data.sort_values(by = time_column)\n",
    "    data[column_name] = data[column_name].interpolate(method = 'linear')\n",
    "\n",
    "for column_name in ['tmprtr','prcpttn','wnd_spd','wnd_drctn','hmdt']:\n",
    "    fillna_linear(df,'dt_of_fr',column_name)"
   ]
  },
  {
   "cell_type": "code",
   "execution_count": 5,
   "metadata": {},
   "outputs": [],
   "source": [
    "def drop_feature(data, column_name, drop_rate = 0.5):\n",
    "    percent = data[column_name].isnull().sum() / len(data) \n",
    "    print ('{0}: {1}'.format(column_name,round(percent,2)))\n",
    "    if percent >= drop_rate:\n",
    "        del df[column_name]\n",
    "        print ('---------->DELETE: {0}'.format(column_name))"
   ]
  },
  {
   "cell_type": "code",
   "execution_count": 6,
   "metadata": {},
   "outputs": [
    {
     "name": "stdout",
     "output_type": "stream",
     "text": [
      "ahsm_dstnc: 0.0\n",
      "bldng_ar: 0.0\n",
      "bldng_ar_prc: 0.38\n",
      "bldng_archtctr: 0.42\n",
      "bldng_cnt: 0.0\n",
      "bldng_cnt_in_50m: 0.0\n",
      "bldng_us: 0.42\n",
      "bldng_us_clssfctn: 0.46\n",
      "blk_dngrs_thng_mnfctr_yn: 0.83\n",
      "---------->DELETE: blk_dngrs_thng_mnfctr_yn\n",
      "cctv_dstnc: 0.0\n",
      "cctv_in_100m: 0.0\n",
      "cltrl_hrtg_yn: 0.83\n",
      "---------->DELETE: cltrl_hrtg_yn\n",
      "dngrs_thng_yn: 0.83\n",
      "---------->DELETE: dngrs_thng_yn\n",
      "dt_of_athrztn: 0.42\n",
      "dt_of_fr: 0.0\n",
      "ele_engry_us_201401: 0.42\n",
      "ele_engry_us_201402: 0.42\n",
      "ele_engry_us_201403: 0.42\n",
      "ele_engry_us_201404: 0.42\n",
      "ele_engry_us_201405: 0.42\n",
      "ele_engry_us_201406: 0.42\n",
      "ele_engry_us_201407: 0.42\n",
      "ele_engry_us_201408: 0.42\n",
      "ele_engry_us_201409: 0.42\n",
      "ele_engry_us_201410: 0.42\n",
      "ele_engry_us_201411: 0.42\n",
      "ele_engry_us_201412: 0.42\n",
      "ele_engry_us_201501: 0.42\n",
      "ele_engry_us_201502: 0.42\n",
      "ele_engry_us_201503: 0.42\n",
      "ele_engry_us_201504: 0.42\n",
      "ele_engry_us_201505: 0.42\n",
      "ele_engry_us_201506: 0.42\n",
      "ele_engry_us_201507: 0.42\n",
      "ele_engry_us_201508: 0.42\n",
      "ele_engry_us_201509: 0.42\n",
      "ele_engry_us_201510: 0.42\n",
      "ele_engry_us_201511: 0.42\n",
      "ele_engry_us_201512: 0.42\n",
      "ele_engry_us_201601: 0.42\n",
      "ele_engry_us_201602: 0.42\n",
      "ele_engry_us_201603: 0.42\n",
      "ele_engry_us_201604: 0.42\n",
      "ele_engry_us_201605: 0.42\n",
      "ele_engry_us_201606: 0.42\n",
      "ele_engry_us_201607: 0.42\n",
      "ele_engry_us_201608: 0.42\n",
      "ele_engry_us_201609: 0.42\n",
      "ele_engry_us_201610: 0.42\n",
      "ele_engry_us_201611: 0.42\n",
      "ele_engry_us_201612: 0.42\n",
      "ele_engry_us_201701: 0.42\n",
      "ele_engry_us_201702: 0.42\n",
      "ele_engry_us_201703: 0.42\n",
      "ele_engry_us_201704: 0.42\n",
      "ele_engry_us_201705: 0.42\n",
      "ele_engry_us_201706: 0.42\n",
      "ele_engry_us_201707: 0.42\n",
      "ele_engry_us_201708: 0.42\n",
      "ele_engry_us_201709: 0.42\n",
      "ele_engry_us_201710: 0.42\n",
      "ele_engry_us_201711: 0.42\n",
      "ele_engry_us_201712: 0.42\n",
      "ele_engry_us_201801: 0.42\n",
      "ele_engry_us_201802: 0.42\n",
      "ele_engry_us_201803: 0.42\n",
      "ele_engry_us_201804: 0.42\n",
      "ele_engry_us_201805: 0.42\n",
      "ele_engry_us_201806: 0.42\n",
      "ele_engry_us_201807: 0.42\n",
      "ele_engry_us_201808: 0.42\n",
      "ele_engry_us_201809: 0.42\n",
      "ele_engry_us_201810: 0.42\n",
      "ele_engry_us_201811: 0.42\n",
      "ele_engry_us_201812: 0.42\n",
      "emd_nm: 0.0\n",
      "fr_fghtng_fclt_spcl_css_5_yn: 0.85\n",
      "---------->DELETE: fr_fghtng_fclt_spcl_css_5_yn\n",
      "fr_fghtng_fclt_spcl_css_6_yn: 0.85\n",
      "---------->DELETE: fr_fghtng_fclt_spcl_css_6_yn\n",
      "fr_mn_cnt: 0.0\n",
      "fr_sttn_dstnc: 0.0\n",
      "fr_wthr_fclt_dstnc: 0.0\n",
      "fr_wthr_fclt_in_100m: 0.0\n",
      "fr_yn: 0.0\n",
      "gas_engry_us_201401: 0.42\n",
      "gas_engry_us_201402: 0.42\n",
      "gas_engry_us_201403: 0.42\n",
      "gas_engry_us_201404: 0.42\n",
      "gas_engry_us_201405: 0.42\n",
      "gas_engry_us_201406: 0.42\n",
      "gas_engry_us_201407: 0.42\n",
      "gas_engry_us_201408: 0.42\n",
      "gas_engry_us_201409: 0.42\n",
      "gas_engry_us_201410: 0.42\n",
      "gas_engry_us_201411: 0.42\n",
      "gas_engry_us_201412: 0.42\n",
      "gas_engry_us_201501: 0.42\n",
      "gas_engry_us_201502: 0.42\n",
      "gas_engry_us_201503: 0.42\n",
      "gas_engry_us_201504: 0.42\n",
      "gas_engry_us_201505: 0.42\n",
      "gas_engry_us_201506: 0.42\n",
      "gas_engry_us_201507: 0.42\n",
      "gas_engry_us_201508: 0.42\n",
      "gas_engry_us_201509: 0.42\n",
      "gas_engry_us_201510: 0.42\n",
      "gas_engry_us_201511: 0.42\n",
      "gas_engry_us_201512: 0.42\n",
      "gas_engry_us_201601: 0.42\n",
      "gas_engry_us_201602: 0.42\n",
      "gas_engry_us_201603: 0.42\n",
      "gas_engry_us_201604: 0.42\n",
      "gas_engry_us_201605: 0.42\n",
      "gas_engry_us_201606: 0.42\n",
      "gas_engry_us_201607: 0.42\n",
      "gas_engry_us_201608: 0.42\n",
      "gas_engry_us_201609: 0.42\n",
      "gas_engry_us_201610: 0.42\n",
      "gas_engry_us_201611: 0.42\n",
      "gas_engry_us_201612: 0.42\n",
      "gas_engry_us_201701: 0.42\n",
      "gas_engry_us_201702: 0.42\n",
      "gas_engry_us_201703: 0.42\n",
      "gas_engry_us_201704: 0.42\n",
      "gas_engry_us_201705: 0.42\n",
      "gas_engry_us_201706: 0.42\n",
      "gas_engry_us_201707: 0.42\n",
      "gas_engry_us_201708: 0.42\n",
      "gas_engry_us_201709: 0.42\n",
      "gas_engry_us_201710: 0.42\n",
      "gas_engry_us_201711: 0.42\n",
      "gas_engry_us_201712: 0.42\n",
      "gas_engry_us_201801: 0.42\n",
      "gas_engry_us_201802: 0.42\n",
      "gas_engry_us_201803: 0.42\n",
      "gas_engry_us_201804: 0.42\n",
      "gas_engry_us_201805: 0.42\n",
      "gas_engry_us_201806: 0.42\n",
      "gas_engry_us_201807: 0.42\n",
      "gas_engry_us_201808: 0.42\n",
      "gas_engry_us_201809: 0.42\n",
      "gas_engry_us_201810: 0.42\n",
      "gas_engry_us_201811: 0.42\n",
      "gas_engry_us_201812: 0.42\n",
      "hm_cnt: 0.01\n",
      "hmdt: 0.0\n",
      "id: 0.0\n",
      "jmk: 0.0\n",
      "lnd_ar: 0.0\n",
      "lnd_us_sttn_nm: 0.03\n",
      "lw_13101010: 0.99\n",
      "---------->DELETE: lw_13101010\n",
      "lw_13101110: 0.99\n",
      "---------->DELETE: lw_13101110\n",
      "lw_13101210: 0.99\n",
      "---------->DELETE: lw_13101210\n",
      "lw_13101211: 0.99\n",
      "---------->DELETE: lw_13101211\n",
      "lw_13101310: 0.99\n",
      "---------->DELETE: lw_13101310\n",
      "lw_13101410: 0.99\n",
      "---------->DELETE: lw_13101410\n",
      "lw_13111010: 0.99\n",
      "---------->DELETE: lw_13111010\n",
      "lw_13111110: 0.99\n",
      "---------->DELETE: lw_13111110\n",
      "lw_13121010: 0.99\n",
      "---------->DELETE: lw_13121010\n",
      "lw_13121011: 0.99\n",
      "---------->DELETE: lw_13121011\n",
      "lw_13131010: 0.99\n",
      "---------->DELETE: lw_13131010\n",
      "lw_13131110: 0.99\n",
      "---------->DELETE: lw_13131110\n",
      "lw_13141010: 0.99\n",
      "---------->DELETE: lw_13141010\n",
      "lw_13141011: 0.99\n",
      "---------->DELETE: lw_13141011\n",
      "mlt_us_yn: 0.0\n",
      "no_tbc_zn_dstnc: 0.0\n",
      "prcpttn: 0.91\n",
      "---------->DELETE: prcpttn\n",
      "rd_sd_nm: 0.02\n",
      "rgnl_ar_nm: 0.02\n",
      "rgnl_ar_nm2: 0.02\n",
      "sft_emrgnc_bll_dstnc: 0.0\n",
      "slf_fr_brgd_yn: 0.83\n",
      "---------->DELETE: slf_fr_brgd_yn\n",
      "tbc_rtl_str_dstnc: 0.0\n",
      "tmprtr: 0.0\n",
      "trgt_crtr: 0.87\n",
      "---------->DELETE: trgt_crtr\n",
      "ttl_ar: 0.0\n",
      "ttl_dwn_flr: 0.18\n",
      "ttl_grnd_flr: 0.16\n",
      "us_yn: 0.83\n",
      "---------->DELETE: us_yn\n",
      "wnd_drctn: 0.0\n",
      "wnd_spd: 0.0\n",
      "(69054, 157)\n"
     ]
    }
   ],
   "source": [
    "for i in df:\n",
    "    drop_feature(df, i, drop_rate = 0.5)\n",
    "print (df.shape)"
   ]
  },
  {
   "cell_type": "code",
   "execution_count": 7,
   "metadata": {},
   "outputs": [],
   "source": [
    "# str이 너무 다양하면 안맞음\n",
    "def seperate_data_type(data,standard):\n",
    "    binominal = []\n",
    "    continuous = []\n",
    "    for i in data.columns:\n",
    "        if data[i].nunique() < standard:\n",
    "            binominal.append(i)\n",
    "        else:\n",
    "            continuous.append(i)\n",
    "    print ('binominal_data:', len(binominal), '개')\n",
    "    print ('binominal_data:', binominal)\n",
    "    print ('-------------------------------------------------------------------------------')\n",
    "    #binominal_data = data[binominal]\n",
    "    print ('continuous_data:', len(continuous), '개')\n",
    "    print ('continuous_data:', continuous)\n",
    "    #continuous_data = data[continuous]\n",
    "    return binominal,continuous"
   ]
  },
  {
   "cell_type": "code",
   "execution_count": 8,
   "metadata": {},
   "outputs": [
    {
     "name": "stdout",
     "output_type": "stream",
     "text": [
      "binominal_data: 15 개\n",
      "binominal_data: ['bldng_archtctr', 'bldng_us', 'bldng_us_clssfctn', 'cctv_in_100m', 'fr_mn_cnt', 'fr_wthr_fclt_in_100m', 'fr_yn', 'jmk', 'lnd_us_sttn_nm', 'mlt_us_yn', 'rd_sd_nm', 'rgnl_ar_nm', 'rgnl_ar_nm2', 'ttl_dwn_flr', 'wnd_drctn']\n",
      "-------------------------------------------------------------------------------\n",
      "continuous_data: 142 개\n",
      "continuous_data: ['ahsm_dstnc', 'bldng_ar', 'bldng_ar_prc', 'bldng_cnt', 'bldng_cnt_in_50m', 'cctv_dstnc', 'dt_of_athrztn', 'dt_of_fr', 'ele_engry_us_201401', 'ele_engry_us_201402', 'ele_engry_us_201403', 'ele_engry_us_201404', 'ele_engry_us_201405', 'ele_engry_us_201406', 'ele_engry_us_201407', 'ele_engry_us_201408', 'ele_engry_us_201409', 'ele_engry_us_201410', 'ele_engry_us_201411', 'ele_engry_us_201412', 'ele_engry_us_201501', 'ele_engry_us_201502', 'ele_engry_us_201503', 'ele_engry_us_201504', 'ele_engry_us_201505', 'ele_engry_us_201506', 'ele_engry_us_201507', 'ele_engry_us_201508', 'ele_engry_us_201509', 'ele_engry_us_201510', 'ele_engry_us_201511', 'ele_engry_us_201512', 'ele_engry_us_201601', 'ele_engry_us_201602', 'ele_engry_us_201603', 'ele_engry_us_201604', 'ele_engry_us_201605', 'ele_engry_us_201606', 'ele_engry_us_201607', 'ele_engry_us_201608', 'ele_engry_us_201609', 'ele_engry_us_201610', 'ele_engry_us_201611', 'ele_engry_us_201612', 'ele_engry_us_201701', 'ele_engry_us_201702', 'ele_engry_us_201703', 'ele_engry_us_201704', 'ele_engry_us_201705', 'ele_engry_us_201706', 'ele_engry_us_201707', 'ele_engry_us_201708', 'ele_engry_us_201709', 'ele_engry_us_201710', 'ele_engry_us_201711', 'ele_engry_us_201712', 'ele_engry_us_201801', 'ele_engry_us_201802', 'ele_engry_us_201803', 'ele_engry_us_201804', 'ele_engry_us_201805', 'ele_engry_us_201806', 'ele_engry_us_201807', 'ele_engry_us_201808', 'ele_engry_us_201809', 'ele_engry_us_201810', 'ele_engry_us_201811', 'ele_engry_us_201812', 'emd_nm', 'fr_sttn_dstnc', 'fr_wthr_fclt_dstnc', 'gas_engry_us_201401', 'gas_engry_us_201402', 'gas_engry_us_201403', 'gas_engry_us_201404', 'gas_engry_us_201405', 'gas_engry_us_201406', 'gas_engry_us_201407', 'gas_engry_us_201408', 'gas_engry_us_201409', 'gas_engry_us_201410', 'gas_engry_us_201411', 'gas_engry_us_201412', 'gas_engry_us_201501', 'gas_engry_us_201502', 'gas_engry_us_201503', 'gas_engry_us_201504', 'gas_engry_us_201505', 'gas_engry_us_201506', 'gas_engry_us_201507', 'gas_engry_us_201508', 'gas_engry_us_201509', 'gas_engry_us_201510', 'gas_engry_us_201511', 'gas_engry_us_201512', 'gas_engry_us_201601', 'gas_engry_us_201602', 'gas_engry_us_201603', 'gas_engry_us_201604', 'gas_engry_us_201605', 'gas_engry_us_201606', 'gas_engry_us_201607', 'gas_engry_us_201608', 'gas_engry_us_201609', 'gas_engry_us_201610', 'gas_engry_us_201611', 'gas_engry_us_201612', 'gas_engry_us_201701', 'gas_engry_us_201702', 'gas_engry_us_201703', 'gas_engry_us_201704', 'gas_engry_us_201705', 'gas_engry_us_201706', 'gas_engry_us_201707', 'gas_engry_us_201708', 'gas_engry_us_201709', 'gas_engry_us_201710', 'gas_engry_us_201711', 'gas_engry_us_201712', 'gas_engry_us_201801', 'gas_engry_us_201802', 'gas_engry_us_201803', 'gas_engry_us_201804', 'gas_engry_us_201805', 'gas_engry_us_201806', 'gas_engry_us_201807', 'gas_engry_us_201808', 'gas_engry_us_201809', 'gas_engry_us_201810', 'gas_engry_us_201811', 'gas_engry_us_201812', 'hm_cnt', 'hmdt', 'id', 'lnd_ar', 'no_tbc_zn_dstnc', 'sft_emrgnc_bll_dstnc', 'tbc_rtl_str_dstnc', 'tmprtr', 'ttl_ar', 'ttl_grnd_flr', 'wnd_spd']\n"
     ]
    }
   ],
   "source": [
    "binominal_list,continuous_list = seperate_data_type(df,50)"
   ]
  },
  {
   "cell_type": "code",
   "execution_count": 9,
   "metadata": {},
   "outputs": [],
   "source": [
    "df_1 = df[binominal_list]"
   ]
  },
  {
   "cell_type": "code",
   "execution_count": 10,
   "metadata": {},
   "outputs": [],
   "source": [
    "def imputer_cate_most_frequent(data,column_name):\n",
    "    data[column_name] = data[column_name].fillna(data[column_name].value_counts().index[0])"
   ]
  },
  {
   "cell_type": "code",
   "execution_count": 11,
   "metadata": {},
   "outputs": [],
   "source": [
    "for column_name in df_1:\n",
    "    imputer_cate_most_frequent(df_1,column_name)"
   ]
  },
  {
   "cell_type": "code",
   "execution_count": 12,
   "metadata": {},
   "outputs": [],
   "source": [
    "def dummy_data(data, columns):\n",
    "    for column in columns:\n",
    "        data = pd.concat([data, pd.get_dummies(data[column], prefix = column)], axis=1)\n",
    "        data = data.drop(column, axis=1)\n",
    "    return data"
   ]
  },
  {
   "cell_type": "code",
   "execution_count": 13,
   "metadata": {},
   "outputs": [],
   "source": [
    "dummy_columns = list (set(binominal_list) - set(['fr_yn']))\n",
    "df_1 = dummy_data(df_1, dummy_columns)"
   ]
  },
  {
   "cell_type": "code",
   "execution_count": 14,
   "metadata": {},
   "outputs": [],
   "source": [
    "df_2 = df[continuous_list]"
   ]
  },
  {
   "cell_type": "code",
   "execution_count": 15,
   "metadata": {},
   "outputs": [],
   "source": [
    "def imputer_cont_trim_mean(data,column_name):\n",
    "    from scipy import stats\n",
    "    try:\n",
    "        data[column_name] = data[column_name].fillna(stats.trim_mean(data[column_name].dropna(), 0.2))\n",
    "        data[column_name] = round(data[column_name],2)\n",
    "    except:\n",
    "        print ('not_changed ->',column_name)"
   ]
  },
  {
   "cell_type": "code",
   "execution_count": 16,
   "metadata": {},
   "outputs": [
    {
     "name": "stdout",
     "output_type": "stream",
     "text": [
      "not_changed -> dt_of_athrztn\n",
      "not_changed -> dt_of_fr\n",
      "not_changed -> emd_nm\n"
     ]
    }
   ],
   "source": [
    "for column_name in df_2:\n",
    "    imputer_cont_trim_mean(df_2,column_name)"
   ]
  },
  {
   "cell_type": "code",
   "execution_count": 17,
   "metadata": {},
   "outputs": [],
   "source": [
    "df_2['year'] = df_2['dt_of_fr'].dt.year \n",
    "df_2['month'] = df_2['dt_of_fr'].dt.month\n",
    "df_2['day'] = df_2['dt_of_fr'].dt.day\n",
    "df_2['hour'] = df_2['dt_of_fr'].dt.hour"
   ]
  },
  {
   "cell_type": "code",
   "execution_count": 18,
   "metadata": {},
   "outputs": [],
   "source": [
    "df_2 = df_2.drop(['dt_of_athrztn','dt_of_fr','emd_nm'],1)"
   ]
  },
  {
   "cell_type": "code",
   "execution_count": 19,
   "metadata": {
    "scrolled": true
   },
   "outputs": [
    {
     "data": {
      "text/plain": [
       "(69054, 438)"
      ]
     },
     "execution_count": 19,
     "metadata": {},
     "output_type": "execute_result"
    }
   ],
   "source": [
    "da = pd.concat([df_1,df_2],1)\n",
    "da = da.reset_index(drop = True)\n",
    "dt = da.copy()\n",
    "dt.shape"
   ]
  },
  {
   "cell_type": "code",
   "execution_count": 20,
   "metadata": {},
   "outputs": [
    {
     "data": {
      "text/plain": [
       "((6898, 437), (59199, 437), (2957, 436))"
      ]
     },
     "execution_count": 20,
     "metadata": {},
     "output_type": "execute_result"
    }
   ],
   "source": [
    "# 데이터 나누기\n",
    "df_val = dt[dt['id'].isin(val_id)]\n",
    "df_train = dt[dt['id'].isin(train_id)]\n",
    "df_test = dt[dt['fr_yn'] == -1]\n",
    "# 마무으리\n",
    "df_test = df_test.drop(['fr_yn'],1)\n",
    "df_val = df_val.drop('id',1)\n",
    "df_train = df_train.drop('id',1)\n",
    "df_test = df_test.drop('id',1)\n",
    "\n",
    "df_val.shape, df_train.shape, df_test.shape"
   ]
  },
  {
   "cell_type": "code",
   "execution_count": 21,
   "metadata": {},
   "outputs": [],
   "source": [
    "X = df_train.drop('fr_yn',1)\n",
    "Y = df_train[['fr_yn']]\n",
    "val_X = df_val.drop('fr_yn',1)\n",
    "val_Y = df_val[['fr_yn']]\n",
    "\n",
    "from sklearn.model_selection import *\n",
    "from sklearn.metrics import *\n",
    "Train_X,Test_X,Train_Y,Test_Y = train_test_split(X, Y, test_size = 0.1, random_state = 13)"
   ]
  },
  {
   "cell_type": "code",
   "execution_count": 22,
   "metadata": {},
   "outputs": [
    {
     "name": "stdout",
     "output_type": "stream",
     "text": [
      "val_set - precision: 0.46200980392156865\n",
      "val_set - recall: 0.5927672955974843\n",
      "val_set - fl: 0.5192837465564738\n"
     ]
    }
   ],
   "source": [
    "import xgboost as xgb\n",
    "\n",
    "with warnings.catch_warnings():\n",
    "    warnings.simplefilter(\"ignore\")\n",
    "    xgb_model = xgb.XGBClassifier(objective=\"binary:logistic\", learning_rate = 0.15, max_depth = 5,\n",
    "                                 max_delta_step = 7, max_bin = 512, eval_metric = 'poisson-nloglik',\n",
    "                                 random_state = 13)\n",
    "    xgb_model.fit(Train_X, Train_Y,\n",
    "                eval_set=[(Test_X, Test_Y)],\n",
    "                verbose = False,\n",
    "                early_stopping_rounds = 1000)\n",
    "    y_pred = xgb_model.predict(Test_X)\n",
    "    predicted = [round(value) for value in y_pred]\n",
    "    predicted = xgb_model.predict(val_X)\n",
    "    print ('val_set - precision: {0}'.format(precision_score(val_Y,predicted)))\n",
    "    print ('val_set - recall: {0}'.format(recall_score(val_Y,predicted)))\n",
    "    print ('val_set - fl: {0}'.format(f1_score(val_Y,predicted)))"
   ]
  },
  {
   "cell_type": "code",
   "execution_count": 23,
   "metadata": {},
   "outputs": [
    {
     "name": "stdout",
     "output_type": "stream",
     "text": [
      "val_set - precision: 0.46545226130653267\n",
      "val_set - recall: 0.5825471698113207\n",
      "val_set - fl: 0.5174581005586593\n"
     ]
    }
   ],
   "source": [
    "import lightgbm as lgb\n",
    "\n",
    "with warnings.catch_warnings():\n",
    "    warnings.simplefilter(\"ignore\")\n",
    "    lgb_model = lgb.LGBMClassifier(objective='binary', boosting_type='gbdt',learning_rate = 0.15, n_estimators = 60,\n",
    "                                   max_bin = 225, metric='auc', num_leaves = 17,default = 'is_unbalance',\n",
    "                                   random_state = 13)\n",
    "    lgb_model.fit(Train_X, Train_Y,\n",
    "                eval_set=[(Test_X, Test_Y)],\n",
    "                verbose = False,\n",
    "                early_stopping_rounds = 1000)\n",
    "    y_pred = lgb_model.predict(Test_X)\n",
    "    predicted = [round(value) for value in y_pred]\n",
    "    predicted = lgb_model.predict(val_X)\n",
    "    print ('val_set - precision: {0}'.format(precision_score(val_Y,predicted)))\n",
    "    print ('val_set - recall: {0}'.format(recall_score(val_Y,predicted)))\n",
    "    print ('val_set - fl: {0}'.format(f1_score(val_Y,predicted)))"
   ]
  },
  {
   "cell_type": "code",
   "execution_count": 24,
   "metadata": {},
   "outputs": [
    {
     "name": "stdout",
     "output_type": "stream",
     "text": [
      "val_set - precision: 0.462640099626401\n",
      "val_set - recall: 0.5841194968553459\n",
      "val_set - fl: 0.5163307852675469\n"
     ]
    }
   ],
   "source": [
    "from sklearn.ensemble import VotingClassifier \n",
    "\n",
    "with warnings.catch_warnings():\n",
    "    warnings.simplefilter(\"ignore\")\n",
    "    vo_model = VotingClassifier(estimators = [('XGB', xgb_model),('LGBM', lgb_model)],\n",
    "                              voting = 'soft')\n",
    "    vo_model.fit(Train_X, Train_Y)\n",
    "    predicted = [round(value) for value in y_pred]\n",
    "    predicted = vo_model.predict(val_X)\n",
    "    print ('val_set - precision: {0}'.format(precision_score(val_Y,predicted)))\n",
    "    print ('val_set - recall: {0}'.format(recall_score(val_Y,predicted)))\n",
    "    print ('val_set - fl: {0}'.format(f1_score(val_Y,predicted)))"
   ]
  },
  {
   "cell_type": "code",
   "execution_count": 25,
   "metadata": {},
   "outputs": [],
   "source": [
    "def sub(model,test):\n",
    "    predicted = model.predict(test)\n",
    "    sub = pd.DataFrame({'fr_yn': predicted})\n",
    "    sub['fr_yn'] = sub['fr_yn'].apply(lambda x: 'Y' if x == 1 else 'N')\n",
    "    sub.to_csv('화재예측과제_Submission.csv', index = False)\n",
    "    print (sub['fr_yn'].value_counts())"
   ]
  },
  {
   "cell_type": "code",
   "execution_count": 26,
   "metadata": {},
   "outputs": [
    {
     "name": "stdout",
     "output_type": "stream",
     "text": [
      "N    2295\n",
      "Y     662\n",
      "Name: fr_yn, dtype: int64\n"
     ]
    }
   ],
   "source": [
    "sub(vo_model,df_test)"
   ]
  },
  {
   "cell_type": "code",
   "execution_count": null,
   "metadata": {},
   "outputs": [],
   "source": []
  }
 ],
 "metadata": {
  "kernelspec": {
   "display_name": "Python 3",
   "language": "python",
   "name": "python3"
  },
  "language_info": {
   "codemirror_mode": {
    "name": "ipython",
    "version": 3
   },
   "file_extension": ".py",
   "mimetype": "text/x-python",
   "name": "python",
   "nbconvert_exporter": "python",
   "pygments_lexer": "ipython3",
   "version": "3.7.3"
  }
 },
 "nbformat": 4,
 "nbformat_minor": 2
}
