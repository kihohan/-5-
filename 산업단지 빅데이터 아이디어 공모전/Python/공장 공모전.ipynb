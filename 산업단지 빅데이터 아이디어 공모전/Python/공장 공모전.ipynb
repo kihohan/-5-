{
 "cells": [
  {
   "cell_type": "code",
   "execution_count": 19,
   "metadata": {},
   "outputs": [],
   "source": [
    "import platform\n",
    "import pandas as pd\n",
    "import numpy as np\n",
    "from pandas import Series, DataFrame"
   ]
  },
  {
   "cell_type": "code",
   "execution_count": 20,
   "metadata": {},
   "outputs": [
    {
     "data": {
      "text/html": [
       "<div>\n",
       "<style scoped>\n",
       "    .dataframe tbody tr th:only-of-type {\n",
       "        vertical-align: middle;\n",
       "    }\n",
       "\n",
       "    .dataframe tbody tr th {\n",
       "        vertical-align: top;\n",
       "    }\n",
       "\n",
       "    .dataframe thead th {\n",
       "        text-align: right;\n",
       "    }\n",
       "</style>\n",
       "<table border=\"1\" class=\"dataframe\">\n",
       "  <thead>\n",
       "    <tr style=\"text-align: right;\">\n",
       "      <th></th>\n",
       "      <th>순번</th>\n",
       "      <th>시도본부</th>\n",
       "      <th>소방서</th>\n",
       "      <th>119안전센터명</th>\n",
       "      <th>주소</th>\n",
       "      <th>전화번호</th>\n",
       "    </tr>\n",
       "  </thead>\n",
       "  <tbody>\n",
       "    <tr>\n",
       "      <th>0</th>\n",
       "      <td>1</td>\n",
       "      <td>서울소방재난본부</td>\n",
       "      <td>종로소방서</td>\n",
       "      <td>세종로</td>\n",
       "      <td>서울특별시 종로구 종로1길 28 (수송동)</td>\n",
       "      <td>02-734-0119</td>\n",
       "    </tr>\n",
       "    <tr>\n",
       "      <th>1</th>\n",
       "      <td>2</td>\n",
       "      <td>서울소방재난본부</td>\n",
       "      <td>종로소방서</td>\n",
       "      <td>신교</td>\n",
       "      <td>서울특별시 종로구 자하문로 93 (신교동)</td>\n",
       "      <td>02-736-0119</td>\n",
       "    </tr>\n",
       "    <tr>\n",
       "      <th>2</th>\n",
       "      <td>3</td>\n",
       "      <td>서울소방재난본부</td>\n",
       "      <td>종로소방서</td>\n",
       "      <td>종로</td>\n",
       "      <td>서울특별시 종로구 돈화문로 30 (묘동)</td>\n",
       "      <td>02-764-0119</td>\n",
       "    </tr>\n",
       "    <tr>\n",
       "      <th>3</th>\n",
       "      <td>4</td>\n",
       "      <td>서울소방재난본부</td>\n",
       "      <td>종로소방서</td>\n",
       "      <td>연건</td>\n",
       "      <td>서울특별시 종로구 대학로 91 (연건동)</td>\n",
       "      <td>02-762-0119</td>\n",
       "    </tr>\n",
       "    <tr>\n",
       "      <th>4</th>\n",
       "      <td>5</td>\n",
       "      <td>서울소방재난본부</td>\n",
       "      <td>종로소방서</td>\n",
       "      <td>신영</td>\n",
       "      <td>서울특별시 종로구 진흥로 477 (신영동)</td>\n",
       "      <td>02-391-0119</td>\n",
       "    </tr>\n",
       "  </tbody>\n",
       "</table>\n",
       "</div>"
      ],
      "text/plain": [
       "   순번      시도본부    소방서 119안전센터명                       주소         전화번호\n",
       "0   1  서울소방재난본부  종로소방서      세종로  서울특별시 종로구 종로1길 28 (수송동)  02-734-0119\n",
       "1   2  서울소방재난본부  종로소방서       신교  서울특별시 종로구 자하문로 93 (신교동)  02-736-0119\n",
       "2   3  서울소방재난본부  종로소방서       종로   서울특별시 종로구 돈화문로 30 (묘동)  02-764-0119\n",
       "3   4  서울소방재난본부  종로소방서       연건   서울특별시 종로구 대학로 91 (연건동)  02-762-0119\n",
       "4   5  서울소방재난본부  종로소방서       신영  서울특별시 종로구 진흥로 477 (신영동)  02-391-0119"
      ]
     },
     "execution_count": 20,
     "metadata": {},
     "output_type": "execute_result"
    }
   ],
   "source": [
    "firestaion = pd.read_csv('/Users/hankiho/Desktop/Data/전국 119안전센터 현황.csv', encoding = 'CP949')\n",
    "firestaion.head(5)"
   ]
  },
  {
   "cell_type": "code",
   "execution_count": 31,
   "metadata": {},
   "outputs": [
    {
     "data": {
      "text/plain": [
       "Index(['시도본부', '소방서', '119안전센터명', '주소'], dtype='object')"
      ]
     },
     "execution_count": 31,
     "metadata": {},
     "output_type": "execute_result"
    }
   ],
   "source": [
    "firestaion.columns"
   ]
  },
  {
   "cell_type": "code",
   "execution_count": 41,
   "metadata": {},
   "outputs": [
    {
     "data": {
      "text/html": [
       "<div>\n",
       "<style scoped>\n",
       "    .dataframe tbody tr th:only-of-type {\n",
       "        vertical-align: middle;\n",
       "    }\n",
       "\n",
       "    .dataframe tbody tr th {\n",
       "        vertical-align: top;\n",
       "    }\n",
       "\n",
       "    .dataframe thead th {\n",
       "        text-align: right;\n",
       "    }\n",
       "</style>\n",
       "<table border=\"1\" class=\"dataframe\">\n",
       "  <thead>\n",
       "    <tr style=\"text-align: right;\">\n",
       "      <th></th>\n",
       "      <th>시도본부</th>\n",
       "      <th>소방서</th>\n",
       "      <th>119안전센터명</th>\n",
       "      <th>주소</th>\n",
       "    </tr>\n",
       "  </thead>\n",
       "  <tbody>\n",
       "    <tr>\n",
       "      <th>0</th>\n",
       "      <td>서울소방재난본부</td>\n",
       "      <td>종로소방서</td>\n",
       "      <td>세종로</td>\n",
       "      <td>서울특별시 종로구 종로1길 28 (수송동)</td>\n",
       "    </tr>\n",
       "    <tr>\n",
       "      <th>1</th>\n",
       "      <td>서울소방재난본부</td>\n",
       "      <td>종로소방서</td>\n",
       "      <td>신교</td>\n",
       "      <td>서울특별시 종로구 자하문로 93 (신교동)</td>\n",
       "    </tr>\n",
       "    <tr>\n",
       "      <th>2</th>\n",
       "      <td>서울소방재난본부</td>\n",
       "      <td>종로소방서</td>\n",
       "      <td>종로</td>\n",
       "      <td>서울특별시 종로구 돈화문로 30 (묘동)</td>\n",
       "    </tr>\n",
       "    <tr>\n",
       "      <th>3</th>\n",
       "      <td>서울소방재난본부</td>\n",
       "      <td>종로소방서</td>\n",
       "      <td>연건</td>\n",
       "      <td>서울특별시 종로구 대학로 91 (연건동)</td>\n",
       "    </tr>\n",
       "    <tr>\n",
       "      <th>4</th>\n",
       "      <td>서울소방재난본부</td>\n",
       "      <td>종로소방서</td>\n",
       "      <td>신영</td>\n",
       "      <td>서울특별시 종로구 진흥로 477 (신영동)</td>\n",
       "    </tr>\n",
       "  </tbody>\n",
       "</table>\n",
       "</div>"
      ],
      "text/plain": [
       "       시도본부    소방서 119안전센터명                       주소\n",
       "0  서울소방재난본부  종로소방서      세종로  서울특별시 종로구 종로1길 28 (수송동)\n",
       "1  서울소방재난본부  종로소방서       신교  서울특별시 종로구 자하문로 93 (신교동)\n",
       "2  서울소방재난본부  종로소방서       종로   서울특별시 종로구 돈화문로 30 (묘동)\n",
       "3  서울소방재난본부  종로소방서       연건   서울특별시 종로구 대학로 91 (연건동)\n",
       "4  서울소방재난본부  종로소방서       신영  서울특별시 종로구 진흥로 477 (신영동)"
      ]
     },
     "execution_count": 41,
     "metadata": {},
     "output_type": "execute_result"
    }
   ],
   "source": [
    "firestaion = firestaion[[\"시도본부\",\"소방서\",\"119안전센터명\",\"주소\"]]\n",
    "firestaion.head(5)"
   ]
  },
  {
   "cell_type": "code",
   "execution_count": 47,
   "metadata": {},
   "outputs": [
    {
     "data": {
      "text/html": [
       "<div>\n",
       "<style scoped>\n",
       "    .dataframe tbody tr th:only-of-type {\n",
       "        vertical-align: middle;\n",
       "    }\n",
       "\n",
       "    .dataframe tbody tr th {\n",
       "        vertical-align: top;\n",
       "    }\n",
       "\n",
       "    .dataframe thead th {\n",
       "        text-align: right;\n",
       "    }\n",
       "</style>\n",
       "<table border=\"1\" class=\"dataframe\">\n",
       "  <thead>\n",
       "    <tr style=\"text-align: right;\">\n",
       "      <th></th>\n",
       "      <th>시도본부</th>\n",
       "      <th>소방서</th>\n",
       "      <th>119안전센터명</th>\n",
       "      <th>주소</th>\n",
       "    </tr>\n",
       "  </thead>\n",
       "  <tbody>\n",
       "    <tr>\n",
       "      <th>0</th>\n",
       "      <td>서울소방재난본부</td>\n",
       "      <td>종로소방서</td>\n",
       "      <td>세종로</td>\n",
       "      <td>서울특별시 종로구 종로1길 28 (수송동)</td>\n",
       "    </tr>\n",
       "    <tr>\n",
       "      <th>1</th>\n",
       "      <td>서울소방재난본부</td>\n",
       "      <td>종로소방서</td>\n",
       "      <td>신교</td>\n",
       "      <td>서울특별시 종로구 자하문로 93 (신교동)</td>\n",
       "    </tr>\n",
       "    <tr>\n",
       "      <th>2</th>\n",
       "      <td>서울소방재난본부</td>\n",
       "      <td>종로소방서</td>\n",
       "      <td>종로</td>\n",
       "      <td>서울특별시 종로구 돈화문로 30 (묘동)</td>\n",
       "    </tr>\n",
       "    <tr>\n",
       "      <th>3</th>\n",
       "      <td>서울소방재난본부</td>\n",
       "      <td>종로소방서</td>\n",
       "      <td>연건</td>\n",
       "      <td>서울특별시 종로구 대학로 91 (연건동)</td>\n",
       "    </tr>\n",
       "    <tr>\n",
       "      <th>4</th>\n",
       "      <td>서울소방재난본부</td>\n",
       "      <td>종로소방서</td>\n",
       "      <td>신영</td>\n",
       "      <td>서울특별시 종로구 진흥로 477 (신영동)</td>\n",
       "    </tr>\n",
       "  </tbody>\n",
       "</table>\n",
       "</div>"
      ],
      "text/plain": [
       "       시도본부    소방서 119안전센터명                       주소\n",
       "0  서울소방재난본부  종로소방서      세종로  서울특별시 종로구 종로1길 28 (수송동)\n",
       "1  서울소방재난본부  종로소방서       신교  서울특별시 종로구 자하문로 93 (신교동)\n",
       "2  서울소방재난본부  종로소방서       종로   서울특별시 종로구 돈화문로 30 (묘동)\n",
       "3  서울소방재난본부  종로소방서       연건   서울특별시 종로구 대학로 91 (연건동)\n",
       "4  서울소방재난본부  종로소방서       신영  서울특별시 종로구 진흥로 477 (신영동)"
      ]
     },
     "execution_count": 47,
     "metadata": {},
     "output_type": "execute_result"
    }
   ],
   "source": [
    "firestation_seoul = firestaion.loc[firestaion[\"시도본부\"] == \"서울소방재난본부\"]\n",
    "firestation_seoul.head(5)"
   ]
  },
  {
   "cell_type": "code",
   "execution_count": 48,
   "metadata": {},
   "outputs": [
    {
     "name": "stderr",
     "output_type": "stream",
     "text": [
      "/Users/hankiho/anaconda3/lib/python3.6/site-packages/ipykernel_launcher.py:1: SettingWithCopyWarning: \n",
      "A value is trying to be set on a copy of a slice from a DataFrame.\n",
      "Try using .loc[row_indexer,col_indexer] = value instead\n",
      "\n",
      "See the caveats in the documentation: http://pandas.pydata.org/pandas-docs/stable/indexing.html#indexing-view-versus-copy\n",
      "  \"\"\"Entry point for launching an IPython kernel.\n"
     ]
    },
    {
     "data": {
      "text/html": [
       "<div>\n",
       "<style scoped>\n",
       "    .dataframe tbody tr th:only-of-type {\n",
       "        vertical-align: middle;\n",
       "    }\n",
       "\n",
       "    .dataframe tbody tr th {\n",
       "        vertical-align: top;\n",
       "    }\n",
       "\n",
       "    .dataframe thead th {\n",
       "        text-align: right;\n",
       "    }\n",
       "</style>\n",
       "<table border=\"1\" class=\"dataframe\">\n",
       "  <thead>\n",
       "    <tr style=\"text-align: right;\">\n",
       "      <th></th>\n",
       "      <th>시도본부</th>\n",
       "      <th>소방서</th>\n",
       "      <th>119안전센터명</th>\n",
       "      <th>주소</th>\n",
       "      <th>시군구</th>\n",
       "    </tr>\n",
       "  </thead>\n",
       "  <tbody>\n",
       "    <tr>\n",
       "      <th>0</th>\n",
       "      <td>서울소방재난본부</td>\n",
       "      <td>종로소방서</td>\n",
       "      <td>세종로</td>\n",
       "      <td>서울특별시 종로구 종로1길 28 (수송동)</td>\n",
       "      <td></td>\n",
       "    </tr>\n",
       "    <tr>\n",
       "      <th>1</th>\n",
       "      <td>서울소방재난본부</td>\n",
       "      <td>종로소방서</td>\n",
       "      <td>신교</td>\n",
       "      <td>서울특별시 종로구 자하문로 93 (신교동)</td>\n",
       "      <td></td>\n",
       "    </tr>\n",
       "    <tr>\n",
       "      <th>2</th>\n",
       "      <td>서울소방재난본부</td>\n",
       "      <td>종로소방서</td>\n",
       "      <td>종로</td>\n",
       "      <td>서울특별시 종로구 돈화문로 30 (묘동)</td>\n",
       "      <td></td>\n",
       "    </tr>\n",
       "    <tr>\n",
       "      <th>3</th>\n",
       "      <td>서울소방재난본부</td>\n",
       "      <td>종로소방서</td>\n",
       "      <td>연건</td>\n",
       "      <td>서울특별시 종로구 대학로 91 (연건동)</td>\n",
       "      <td></td>\n",
       "    </tr>\n",
       "    <tr>\n",
       "      <th>4</th>\n",
       "      <td>서울소방재난본부</td>\n",
       "      <td>종로소방서</td>\n",
       "      <td>신영</td>\n",
       "      <td>서울특별시 종로구 진흥로 477 (신영동)</td>\n",
       "      <td></td>\n",
       "    </tr>\n",
       "  </tbody>\n",
       "</table>\n",
       "</div>"
      ],
      "text/plain": [
       "       시도본부    소방서 119안전센터명                       주소 시군구\n",
       "0  서울소방재난본부  종로소방서      세종로  서울특별시 종로구 종로1길 28 (수송동)    \n",
       "1  서울소방재난본부  종로소방서       신교  서울특별시 종로구 자하문로 93 (신교동)    \n",
       "2  서울소방재난본부  종로소방서       종로   서울특별시 종로구 돈화문로 30 (묘동)    \n",
       "3  서울소방재난본부  종로소방서       연건   서울특별시 종로구 대학로 91 (연건동)    \n",
       "4  서울소방재난본부  종로소방서       신영  서울특별시 종로구 진흥로 477 (신영동)    "
      ]
     },
     "execution_count": 48,
     "metadata": {},
     "output_type": "execute_result"
    }
   ],
   "source": [
    "firestation_seoul['시군구']= ''\n",
    "firestation_seoul.head(5)"
   ]
  },
  {
   "cell_type": "code",
   "execution_count": 49,
   "metadata": {},
   "outputs": [
    {
     "data": {
      "text/plain": [
       "'영등포구'"
      ]
     },
     "execution_count": 49,
     "metadata": {},
     "output_type": "execute_result"
    }
   ],
   "source": [
    "firestation_seoul['주소'].values[33].split()[1] #[6:9] 이런식으로 나누면 영등포구같은 4글자는 영등포만 나오기떄문에 split() 함수를 사용"
   ]
  },
  {
   "cell_type": "code",
   "execution_count": 50,
   "metadata": {},
   "outputs": [
    {
     "data": {
      "text/html": [
       "<div>\n",
       "<style scoped>\n",
       "    .dataframe tbody tr th:only-of-type {\n",
       "        vertical-align: middle;\n",
       "    }\n",
       "\n",
       "    .dataframe tbody tr th {\n",
       "        vertical-align: top;\n",
       "    }\n",
       "\n",
       "    .dataframe thead th {\n",
       "        text-align: right;\n",
       "    }\n",
       "</style>\n",
       "<table border=\"1\" class=\"dataframe\">\n",
       "  <thead>\n",
       "    <tr style=\"text-align: right;\">\n",
       "      <th></th>\n",
       "      <th>시도본부</th>\n",
       "      <th>소방서</th>\n",
       "      <th>119안전센터명</th>\n",
       "      <th>주소</th>\n",
       "      <th>시군구</th>\n",
       "    </tr>\n",
       "  </thead>\n",
       "  <tbody>\n",
       "    <tr>\n",
       "      <th>0</th>\n",
       "      <td>서울소방재난본부</td>\n",
       "      <td>종로소방서</td>\n",
       "      <td>세종로</td>\n",
       "      <td>서울특별시 종로구 종로1길 28 (수송동)</td>\n",
       "      <td>종로구</td>\n",
       "    </tr>\n",
       "    <tr>\n",
       "      <th>1</th>\n",
       "      <td>서울소방재난본부</td>\n",
       "      <td>종로소방서</td>\n",
       "      <td>신교</td>\n",
       "      <td>서울특별시 종로구 자하문로 93 (신교동)</td>\n",
       "      <td>종로구</td>\n",
       "    </tr>\n",
       "    <tr>\n",
       "      <th>2</th>\n",
       "      <td>서울소방재난본부</td>\n",
       "      <td>종로소방서</td>\n",
       "      <td>종로</td>\n",
       "      <td>서울특별시 종로구 돈화문로 30 (묘동)</td>\n",
       "      <td>종로구</td>\n",
       "    </tr>\n",
       "    <tr>\n",
       "      <th>3</th>\n",
       "      <td>서울소방재난본부</td>\n",
       "      <td>종로소방서</td>\n",
       "      <td>연건</td>\n",
       "      <td>서울특별시 종로구 대학로 91 (연건동)</td>\n",
       "      <td>종로구</td>\n",
       "    </tr>\n",
       "    <tr>\n",
       "      <th>4</th>\n",
       "      <td>서울소방재난본부</td>\n",
       "      <td>종로소방서</td>\n",
       "      <td>신영</td>\n",
       "      <td>서울특별시 종로구 진흥로 477 (신영동)</td>\n",
       "      <td>종로구</td>\n",
       "    </tr>\n",
       "  </tbody>\n",
       "</table>\n",
       "</div>"
      ],
      "text/plain": [
       "       시도본부    소방서 119안전센터명                       주소  시군구\n",
       "0  서울소방재난본부  종로소방서      세종로  서울특별시 종로구 종로1길 28 (수송동)  종로구\n",
       "1  서울소방재난본부  종로소방서       신교  서울특별시 종로구 자하문로 93 (신교동)  종로구\n",
       "2  서울소방재난본부  종로소방서       종로   서울특별시 종로구 돈화문로 30 (묘동)  종로구\n",
       "3  서울소방재난본부  종로소방서       연건   서울특별시 종로구 대학로 91 (연건동)  종로구\n",
       "4  서울소방재난본부  종로소방서       신영  서울특별시 종로구 진흥로 477 (신영동)  종로구"
      ]
     },
     "execution_count": 50,
     "metadata": {},
     "output_type": "execute_result"
    }
   ],
   "source": [
    "for n in np.arange(len(firestation_seoul)):\n",
    "    firestation_seoul['시군구'].values[n] = firestation_seoul['주소'].values[n].split()[1]\n",
    "firestation_seoul.head(5)    "
   ]
  },
  {
   "cell_type": "code",
   "execution_count": 51,
   "metadata": {},
   "outputs": [
    {
     "data": {
      "text/html": [
       "<div>\n",
       "<style scoped>\n",
       "    .dataframe tbody tr th:only-of-type {\n",
       "        vertical-align: middle;\n",
       "    }\n",
       "\n",
       "    .dataframe tbody tr th {\n",
       "        vertical-align: top;\n",
       "    }\n",
       "\n",
       "    .dataframe thead th {\n",
       "        text-align: right;\n",
       "    }\n",
       "</style>\n",
       "<table border=\"1\" class=\"dataframe\">\n",
       "  <thead>\n",
       "    <tr style=\"text-align: right;\">\n",
       "      <th></th>\n",
       "      <th>시군구</th>\n",
       "    </tr>\n",
       "  </thead>\n",
       "  <tbody>\n",
       "    <tr>\n",
       "      <th>강남구</th>\n",
       "      <td>5</td>\n",
       "    </tr>\n",
       "    <tr>\n",
       "      <th>강동구</th>\n",
       "      <td>5</td>\n",
       "    </tr>\n",
       "    <tr>\n",
       "      <th>강북구</th>\n",
       "      <td>4</td>\n",
       "    </tr>\n",
       "    <tr>\n",
       "      <th>강서구</th>\n",
       "      <td>5</td>\n",
       "    </tr>\n",
       "    <tr>\n",
       "      <th>관악구</th>\n",
       "      <td>4</td>\n",
       "    </tr>\n",
       "  </tbody>\n",
       "</table>\n",
       "</div>"
      ],
      "text/plain": [
       "     시군구\n",
       "강남구    5\n",
       "강동구    5\n",
       "강북구    4\n",
       "강서구    5\n",
       "관악구    4"
      ]
     },
     "execution_count": 51,
     "metadata": {},
     "output_type": "execute_result"
    }
   ],
   "source": [
    "firestation_seoul = firestation_seoul['시군구'].value_counts()\n",
    "firestation_seoul = firestation_seoul.sort_index()\n",
    "df_firestation_seoul = pd.DataFrame(firestation_seoul)\n",
    "df_firestation_seoul.head(5)\n",
    "#firestation_seoul.head(5)\n",
    "#unique() 중복 값 제거하고 유일한 값만 반환\n",
    "#f = firestation_seoul.sort_index() 가나다순\n",
    "#DataFrame(data, columns= ['year','pop','state']) #순서 바꾸기"
   ]
  },
  {
   "cell_type": "code",
   "execution_count": 13,
   "metadata": {},
   "outputs": [],
   "source": [
    "firestation_seoul = firestation_seoul.sort_index()"
   ]
  },
  {
   "cell_type": "code",
   "execution_count": 14,
   "metadata": {},
   "outputs": [],
   "source": [
    "시군구 = firestation_seoul.index"
   ]
  },
  {
   "cell_type": "code",
   "execution_count": 16,
   "metadata": {},
   "outputs": [],
   "source": [
    "소방서갯수 = list(firestation_seoul)"
   ]
  },
  {
   "cell_type": "code",
   "execution_count": 17,
   "metadata": {},
   "outputs": [
    {
     "data": {
      "text/plain": [
       "[5, 5, 4, 5, 4, 3, 6, 2, 5, 4, 5, 4, 6, 4, 6, 4, 4, 6, 5, 5, 5, 4, 6, 5, 4]"
      ]
     },
     "execution_count": 17,
     "metadata": {},
     "output_type": "execute_result"
    }
   ],
   "source": [
    "소방서갯수"
   ]
  },
  {
   "cell_type": "code",
   "execution_count": 16,
   "metadata": {},
   "outputs": [],
   "source": [
    "firestation_seoul = {'시군구':시군구,\n",
    "                     '소방서갯수':소방서갯수}"
   ]
  },
  {
   "cell_type": "code",
   "execution_count": 17,
   "metadata": {},
   "outputs": [
    {
     "data": {
      "text/html": [
       "<div>\n",
       "<style scoped>\n",
       "    .dataframe tbody tr th:only-of-type {\n",
       "        vertical-align: middle;\n",
       "    }\n",
       "\n",
       "    .dataframe tbody tr th {\n",
       "        vertical-align: top;\n",
       "    }\n",
       "\n",
       "    .dataframe thead th {\n",
       "        text-align: right;\n",
       "    }\n",
       "</style>\n",
       "<table border=\"1\" class=\"dataframe\">\n",
       "  <thead>\n",
       "    <tr style=\"text-align: right;\">\n",
       "      <th></th>\n",
       "      <th>시군구</th>\n",
       "      <th>소방서갯수</th>\n",
       "    </tr>\n",
       "  </thead>\n",
       "  <tbody>\n",
       "    <tr>\n",
       "      <th>0</th>\n",
       "      <td>강남구</td>\n",
       "      <td>5</td>\n",
       "    </tr>\n",
       "    <tr>\n",
       "      <th>1</th>\n",
       "      <td>강동구</td>\n",
       "      <td>5</td>\n",
       "    </tr>\n",
       "    <tr>\n",
       "      <th>2</th>\n",
       "      <td>강북구</td>\n",
       "      <td>4</td>\n",
       "    </tr>\n",
       "    <tr>\n",
       "      <th>3</th>\n",
       "      <td>강서구</td>\n",
       "      <td>5</td>\n",
       "    </tr>\n",
       "    <tr>\n",
       "      <th>4</th>\n",
       "      <td>관악구</td>\n",
       "      <td>4</td>\n",
       "    </tr>\n",
       "  </tbody>\n",
       "</table>\n",
       "</div>"
      ],
      "text/plain": [
       "   시군구  소방서갯수\n",
       "0  강남구      5\n",
       "1  강동구      5\n",
       "2  강북구      4\n",
       "3  강서구      5\n",
       "4  관악구      4"
      ]
     },
     "execution_count": 17,
     "metadata": {},
     "output_type": "execute_result"
    }
   ],
   "source": [
    "firestation_seoul = DataFrame(firestation_seoul, columns = ['시군구','소방서갯수'])\n",
    "firestation_seoul.head(5)"
   ]
  },
  {
   "cell_type": "code",
   "execution_count": 53,
   "metadata": {},
   "outputs": [
    {
     "data": {
      "text/html": [
       "<div>\n",
       "<style scoped>\n",
       "    .dataframe tbody tr th:only-of-type {\n",
       "        vertical-align: middle;\n",
       "    }\n",
       "\n",
       "    .dataframe tbody tr th {\n",
       "        vertical-align: top;\n",
       "    }\n",
       "\n",
       "    .dataframe thead th {\n",
       "        text-align: right;\n",
       "    }\n",
       "</style>\n",
       "<table border=\"1\" class=\"dataframe\">\n",
       "  <thead>\n",
       "    <tr style=\"text-align: right;\">\n",
       "      <th></th>\n",
       "      <th>기준연도</th>\n",
       "      <th>시도</th>\n",
       "      <th>시군구</th>\n",
       "      <th>회사명</th>\n",
       "      <th>단지명</th>\n",
       "      <th>설립구분</th>\n",
       "      <th>종업원수</th>\n",
       "      <th>용지면적</th>\n",
       "      <th>제조시설면적</th>\n",
       "      <th>부대시설면적</th>\n",
       "      <th>업종분류</th>\n",
       "      <th>Unnamed: 11</th>\n",
       "      <th>Unnamed: 12</th>\n",
       "      <th>Unnamed: 13</th>\n",
       "      <th>시군구.1</th>\n",
       "      <th>갯수</th>\n",
       "    </tr>\n",
       "  </thead>\n",
       "  <tbody>\n",
       "    <tr>\n",
       "      <th>0</th>\n",
       "      <td>201809</td>\n",
       "      <td>서울특별시</td>\n",
       "      <td>종로구</td>\n",
       "      <td>(주)동양그래픽커뮤니케이션</td>\n",
       "      <td></td>\n",
       "      <td>일반</td>\n",
       "      <td>13</td>\n",
       "      <td>181.94</td>\n",
       "      <td>165.46</td>\n",
       "      <td>16.48</td>\n",
       "      <td>18 인쇄 및 기록매체 복제업</td>\n",
       "      <td>NaN</td>\n",
       "      <td>NaN</td>\n",
       "      <td>NaN</td>\n",
       "      <td>종로구</td>\n",
       "      <td>44.0</td>\n",
       "    </tr>\n",
       "    <tr>\n",
       "      <th>1</th>\n",
       "      <td>201809</td>\n",
       "      <td>서울특별시</td>\n",
       "      <td>종로구</td>\n",
       "      <td>(주)작품오늘</td>\n",
       "      <td></td>\n",
       "      <td>일반</td>\n",
       "      <td>31</td>\n",
       "      <td>0.00</td>\n",
       "      <td>32.59</td>\n",
       "      <td>86.31</td>\n",
       "      <td>33 기타제품 제조업</td>\n",
       "      <td>NaN</td>\n",
       "      <td>NaN</td>\n",
       "      <td>NaN</td>\n",
       "      <td>중구</td>\n",
       "      <td>405.0</td>\n",
       "    </tr>\n",
       "    <tr>\n",
       "      <th>2</th>\n",
       "      <td>201809</td>\n",
       "      <td>서울특별시</td>\n",
       "      <td>종로구</td>\n",
       "      <td>(주)계문사</td>\n",
       "      <td></td>\n",
       "      <td>일반</td>\n",
       "      <td>15</td>\n",
       "      <td>103.65</td>\n",
       "      <td>93.05</td>\n",
       "      <td>10.60</td>\n",
       "      <td>18 인쇄 및 기록매체 복제업</td>\n",
       "      <td>NaN</td>\n",
       "      <td>NaN</td>\n",
       "      <td>NaN</td>\n",
       "      <td>용산구</td>\n",
       "      <td>21.0</td>\n",
       "    </tr>\n",
       "    <tr>\n",
       "      <th>3</th>\n",
       "      <td>201809</td>\n",
       "      <td>서울특별시</td>\n",
       "      <td>종로구</td>\n",
       "      <td>삼도실업(주)</td>\n",
       "      <td></td>\n",
       "      <td>일반</td>\n",
       "      <td>17</td>\n",
       "      <td>270.00</td>\n",
       "      <td>180.84</td>\n",
       "      <td>0.00</td>\n",
       "      <td>18 인쇄 및 기록매체 복제업</td>\n",
       "      <td>NaN</td>\n",
       "      <td>NaN</td>\n",
       "      <td>NaN</td>\n",
       "      <td>성동구</td>\n",
       "      <td>541.0</td>\n",
       "    </tr>\n",
       "    <tr>\n",
       "      <th>4</th>\n",
       "      <td>201809</td>\n",
       "      <td>서울특별시</td>\n",
       "      <td>종로구</td>\n",
       "      <td>(주)범신사</td>\n",
       "      <td></td>\n",
       "      <td>일반</td>\n",
       "      <td>14</td>\n",
       "      <td>49.64</td>\n",
       "      <td>49.64</td>\n",
       "      <td>0.00</td>\n",
       "      <td>18 인쇄 및 기록매체 복제업</td>\n",
       "      <td>NaN</td>\n",
       "      <td>NaN</td>\n",
       "      <td>NaN</td>\n",
       "      <td>광진구</td>\n",
       "      <td>36.0</td>\n",
       "    </tr>\n",
       "  </tbody>\n",
       "</table>\n",
       "</div>"
      ],
      "text/plain": [
       "     기준연도     시도  시군구             회사명 단지명 설립구분  종업원수    용지면적  제조시설면적  부대시설면적  \\\n",
       "0  201809  서울특별시  종로구  (주)동양그래픽커뮤니케이션       일반    13  181.94  165.46   16.48   \n",
       "1  201809  서울특별시  종로구         (주)작품오늘       일반    31    0.00   32.59   86.31   \n",
       "2  201809  서울특별시  종로구          (주)계문사       일반    15  103.65   93.05   10.60   \n",
       "3  201809  서울특별시  종로구         삼도실업(주)       일반    17  270.00  180.84    0.00   \n",
       "4  201809  서울특별시  종로구          (주)범신사       일반    14   49.64   49.64    0.00   \n",
       "\n",
       "               업종분류  Unnamed: 11  Unnamed: 12  Unnamed: 13 시군구.1     갯수  \n",
       "0  18 인쇄 및 기록매체 복제업          NaN          NaN          NaN   종로구   44.0  \n",
       "1       33 기타제품 제조업          NaN          NaN          NaN    중구  405.0  \n",
       "2  18 인쇄 및 기록매체 복제업          NaN          NaN          NaN   용산구   21.0  \n",
       "3  18 인쇄 및 기록매체 복제업          NaN          NaN          NaN   성동구  541.0  \n",
       "4  18 인쇄 및 기록매체 복제업          NaN          NaN          NaN   광진구   36.0  "
      ]
     },
     "execution_count": 53,
     "metadata": {},
     "output_type": "execute_result"
    }
   ],
   "source": [
    "factory = pd.read_excel('/Users/hankiho/Desktop/Data/0. 공장 정보 데이터 정리.xlsx')\n",
    "factory.head(5)"
   ]
  },
  {
   "cell_type": "code",
   "execution_count": 19,
   "metadata": {},
   "outputs": [
    {
     "data": {
      "text/html": [
       "<div>\n",
       "<style scoped>\n",
       "    .dataframe tbody tr th:only-of-type {\n",
       "        vertical-align: middle;\n",
       "    }\n",
       "\n",
       "    .dataframe tbody tr th {\n",
       "        vertical-align: top;\n",
       "    }\n",
       "\n",
       "    .dataframe thead th {\n",
       "        text-align: right;\n",
       "    }\n",
       "</style>\n",
       "<table border=\"1\" class=\"dataframe\">\n",
       "  <thead>\n",
       "    <tr style=\"text-align: right;\">\n",
       "      <th></th>\n",
       "      <th>기준연도</th>\n",
       "      <th>종업원수</th>\n",
       "      <th>용지면적</th>\n",
       "      <th>제조시설면적</th>\n",
       "      <th>부대시설면적</th>\n",
       "      <th>Unnamed: 11</th>\n",
       "      <th>Unnamed: 12</th>\n",
       "      <th>Unnamed: 13</th>\n",
       "      <th>갯수</th>\n",
       "    </tr>\n",
       "  </thead>\n",
       "  <tbody>\n",
       "    <tr>\n",
       "      <th>count</th>\n",
       "      <td>68805.0</td>\n",
       "      <td>68805.000000</td>\n",
       "      <td>6.880500e+04</td>\n",
       "      <td>6.880500e+04</td>\n",
       "      <td>6.880500e+04</td>\n",
       "      <td>0.0</td>\n",
       "      <td>0.0</td>\n",
       "      <td>0.0</td>\n",
       "      <td>232.000000</td>\n",
       "    </tr>\n",
       "    <tr>\n",
       "      <th>mean</th>\n",
       "      <td>201809.0</td>\n",
       "      <td>45.586905</td>\n",
       "      <td>9.287326e+03</td>\n",
       "      <td>3.149832e+03</td>\n",
       "      <td>1.856922e+03</td>\n",
       "      <td>NaN</td>\n",
       "      <td>NaN</td>\n",
       "      <td>NaN</td>\n",
       "      <td>296.573276</td>\n",
       "    </tr>\n",
       "    <tr>\n",
       "      <th>std</th>\n",
       "      <td>0.0</td>\n",
       "      <td>333.391355</td>\n",
       "      <td>8.885719e+04</td>\n",
       "      <td>2.906500e+04</td>\n",
       "      <td>9.599360e+04</td>\n",
       "      <td>NaN</td>\n",
       "      <td>NaN</td>\n",
       "      <td>NaN</td>\n",
       "      <td>475.856024</td>\n",
       "    </tr>\n",
       "    <tr>\n",
       "      <th>min</th>\n",
       "      <td>201809.0</td>\n",
       "      <td>11.000000</td>\n",
       "      <td>0.000000e+00</td>\n",
       "      <td>0.000000e+00</td>\n",
       "      <td>0.000000e+00</td>\n",
       "      <td>NaN</td>\n",
       "      <td>NaN</td>\n",
       "      <td>NaN</td>\n",
       "      <td>1.000000</td>\n",
       "    </tr>\n",
       "    <tr>\n",
       "      <th>25%</th>\n",
       "      <td>201809.0</td>\n",
       "      <td>15.000000</td>\n",
       "      <td>8.470000e+02</td>\n",
       "      <td>4.589700e+02</td>\n",
       "      <td>1.196000e+02</td>\n",
       "      <td>NaN</td>\n",
       "      <td>NaN</td>\n",
       "      <td>NaN</td>\n",
       "      <td>37.750000</td>\n",
       "    </tr>\n",
       "    <tr>\n",
       "      <th>50%</th>\n",
       "      <td>201809.0</td>\n",
       "      <td>20.000000</td>\n",
       "      <td>2.980000e+03</td>\n",
       "      <td>1.004860e+03</td>\n",
       "      <td>3.828000e+02</td>\n",
       "      <td>NaN</td>\n",
       "      <td>NaN</td>\n",
       "      <td>NaN</td>\n",
       "      <td>105.000000</td>\n",
       "    </tr>\n",
       "    <tr>\n",
       "      <th>75%</th>\n",
       "      <td>201809.0</td>\n",
       "      <td>36.000000</td>\n",
       "      <td>6.668500e+03</td>\n",
       "      <td>2.300000e+03</td>\n",
       "      <td>9.625000e+02</td>\n",
       "      <td>NaN</td>\n",
       "      <td>NaN</td>\n",
       "      <td>NaN</td>\n",
       "      <td>329.250000</td>\n",
       "    </tr>\n",
       "    <tr>\n",
       "      <th>max</th>\n",
       "      <td>201809.0</td>\n",
       "      <td>37933.000000</td>\n",
       "      <td>1.474171e+07</td>\n",
       "      <td>4.251880e+06</td>\n",
       "      <td>2.472434e+07</td>\n",
       "      <td>NaN</td>\n",
       "      <td>NaN</td>\n",
       "      <td>NaN</td>\n",
       "      <td>3984.000000</td>\n",
       "    </tr>\n",
       "  </tbody>\n",
       "</table>\n",
       "</div>"
      ],
      "text/plain": [
       "           기준연도          종업원수          용지면적        제조시설면적        부대시설면적  \\\n",
       "count   68805.0  68805.000000  6.880500e+04  6.880500e+04  6.880500e+04   \n",
       "mean   201809.0     45.586905  9.287326e+03  3.149832e+03  1.856922e+03   \n",
       "std         0.0    333.391355  8.885719e+04  2.906500e+04  9.599360e+04   \n",
       "min    201809.0     11.000000  0.000000e+00  0.000000e+00  0.000000e+00   \n",
       "25%    201809.0     15.000000  8.470000e+02  4.589700e+02  1.196000e+02   \n",
       "50%    201809.0     20.000000  2.980000e+03  1.004860e+03  3.828000e+02   \n",
       "75%    201809.0     36.000000  6.668500e+03  2.300000e+03  9.625000e+02   \n",
       "max    201809.0  37933.000000  1.474171e+07  4.251880e+06  2.472434e+07   \n",
       "\n",
       "       Unnamed: 11  Unnamed: 12  Unnamed: 13           갯수  \n",
       "count          0.0          0.0          0.0   232.000000  \n",
       "mean           NaN          NaN          NaN   296.573276  \n",
       "std            NaN          NaN          NaN   475.856024  \n",
       "min            NaN          NaN          NaN     1.000000  \n",
       "25%            NaN          NaN          NaN    37.750000  \n",
       "50%            NaN          NaN          NaN   105.000000  \n",
       "75%            NaN          NaN          NaN   329.250000  \n",
       "max            NaN          NaN          NaN  3984.000000  "
      ]
     },
     "execution_count": 19,
     "metadata": {},
     "output_type": "execute_result"
    }
   ],
   "source": [
    "factory.describe() #기술통계 확인"
   ]
  },
  {
   "cell_type": "code",
   "execution_count": 20,
   "metadata": {},
   "outputs": [
    {
     "data": {
      "text/plain": [
       "Index(['기준연도', '시도', '시군구', '회사명', '단지명', '설립구분', '종업원수', '용지면적', '제조시설면적',\n",
       "       '부대시설면적', '업종분류', 'Unnamed: 11', 'Unnamed: 12', 'Unnamed: 13', '시군구.1',\n",
       "       '갯수'],\n",
       "      dtype='object')"
      ]
     },
     "execution_count": 20,
     "metadata": {},
     "output_type": "execute_result"
    }
   ],
   "source": [
    "factory.columns"
   ]
  },
  {
   "cell_type": "code",
   "execution_count": 54,
   "metadata": {},
   "outputs": [
    {
     "data": {
      "text/html": [
       "<div>\n",
       "<style scoped>\n",
       "    .dataframe tbody tr th:only-of-type {\n",
       "        vertical-align: middle;\n",
       "    }\n",
       "\n",
       "    .dataframe tbody tr th {\n",
       "        vertical-align: top;\n",
       "    }\n",
       "\n",
       "    .dataframe thead th {\n",
       "        text-align: right;\n",
       "    }\n",
       "</style>\n",
       "<table border=\"1\" class=\"dataframe\">\n",
       "  <thead>\n",
       "    <tr style=\"text-align: right;\">\n",
       "      <th></th>\n",
       "      <th>시도</th>\n",
       "      <th>시군구</th>\n",
       "      <th>종업원수</th>\n",
       "      <th>용지면적</th>\n",
       "      <th>업종분류</th>\n",
       "    </tr>\n",
       "  </thead>\n",
       "  <tbody>\n",
       "    <tr>\n",
       "      <th>0</th>\n",
       "      <td>서울특별시</td>\n",
       "      <td>종로구</td>\n",
       "      <td>13</td>\n",
       "      <td>181.94</td>\n",
       "      <td>18 인쇄 및 기록매체 복제업</td>\n",
       "    </tr>\n",
       "    <tr>\n",
       "      <th>1</th>\n",
       "      <td>서울특별시</td>\n",
       "      <td>종로구</td>\n",
       "      <td>31</td>\n",
       "      <td>0.00</td>\n",
       "      <td>33 기타제품 제조업</td>\n",
       "    </tr>\n",
       "    <tr>\n",
       "      <th>2</th>\n",
       "      <td>서울특별시</td>\n",
       "      <td>종로구</td>\n",
       "      <td>15</td>\n",
       "      <td>103.65</td>\n",
       "      <td>18 인쇄 및 기록매체 복제업</td>\n",
       "    </tr>\n",
       "    <tr>\n",
       "      <th>3</th>\n",
       "      <td>서울특별시</td>\n",
       "      <td>종로구</td>\n",
       "      <td>17</td>\n",
       "      <td>270.00</td>\n",
       "      <td>18 인쇄 및 기록매체 복제업</td>\n",
       "    </tr>\n",
       "    <tr>\n",
       "      <th>4</th>\n",
       "      <td>서울특별시</td>\n",
       "      <td>종로구</td>\n",
       "      <td>14</td>\n",
       "      <td>49.64</td>\n",
       "      <td>18 인쇄 및 기록매체 복제업</td>\n",
       "    </tr>\n",
       "  </tbody>\n",
       "</table>\n",
       "</div>"
      ],
      "text/plain": [
       "      시도  시군구  종업원수    용지면적              업종분류\n",
       "0  서울특별시  종로구    13  181.94  18 인쇄 및 기록매체 복제업\n",
       "1  서울특별시  종로구    31    0.00       33 기타제품 제조업\n",
       "2  서울특별시  종로구    15  103.65  18 인쇄 및 기록매체 복제업\n",
       "3  서울특별시  종로구    17  270.00  18 인쇄 및 기록매체 복제업\n",
       "4  서울특별시  종로구    14   49.64  18 인쇄 및 기록매체 복제업"
      ]
     },
     "execution_count": 54,
     "metadata": {},
     "output_type": "execute_result"
    }
   ],
   "source": [
    "df_factory = factory[[\"시도\",\"시군구\",\"종업원수\",\"용지면적\",\"업종분류\"]]\n",
    "#factory_01.sort_values(by=\"시군구\", ascending=True).head(10)\n",
    "df_factory.head()"
   ]
  },
  {
   "cell_type": "code",
   "execution_count": 22,
   "metadata": {},
   "outputs": [
    {
     "data": {
      "text/html": [
       "<div>\n",
       "<style scoped>\n",
       "    .dataframe tbody tr th:only-of-type {\n",
       "        vertical-align: middle;\n",
       "    }\n",
       "\n",
       "    .dataframe tbody tr th {\n",
       "        vertical-align: top;\n",
       "    }\n",
       "\n",
       "    .dataframe thead th {\n",
       "        text-align: right;\n",
       "    }\n",
       "</style>\n",
       "<table border=\"1\" class=\"dataframe\">\n",
       "  <thead>\n",
       "    <tr style=\"text-align: right;\">\n",
       "      <th></th>\n",
       "      <th>시도</th>\n",
       "      <th>시군구</th>\n",
       "      <th>종업원수</th>\n",
       "      <th>용지면적</th>\n",
       "      <th>업종분류</th>\n",
       "    </tr>\n",
       "  </thead>\n",
       "  <tbody>\n",
       "    <tr>\n",
       "      <th>0</th>\n",
       "      <td>서울특별시</td>\n",
       "      <td>종로구</td>\n",
       "      <td>13</td>\n",
       "      <td>181.94</td>\n",
       "      <td>18 인쇄 및 기록매체 복제업</td>\n",
       "    </tr>\n",
       "    <tr>\n",
       "      <th>1</th>\n",
       "      <td>서울특별시</td>\n",
       "      <td>종로구</td>\n",
       "      <td>31</td>\n",
       "      <td>0.00</td>\n",
       "      <td>33 기타제품 제조업</td>\n",
       "    </tr>\n",
       "    <tr>\n",
       "      <th>2</th>\n",
       "      <td>서울특별시</td>\n",
       "      <td>종로구</td>\n",
       "      <td>15</td>\n",
       "      <td>103.65</td>\n",
       "      <td>18 인쇄 및 기록매체 복제업</td>\n",
       "    </tr>\n",
       "    <tr>\n",
       "      <th>3</th>\n",
       "      <td>서울특별시</td>\n",
       "      <td>종로구</td>\n",
       "      <td>17</td>\n",
       "      <td>270.00</td>\n",
       "      <td>18 인쇄 및 기록매체 복제업</td>\n",
       "    </tr>\n",
       "    <tr>\n",
       "      <th>4</th>\n",
       "      <td>서울특별시</td>\n",
       "      <td>종로구</td>\n",
       "      <td>14</td>\n",
       "      <td>49.64</td>\n",
       "      <td>18 인쇄 및 기록매체 복제업</td>\n",
       "    </tr>\n",
       "  </tbody>\n",
       "</table>\n",
       "</div>"
      ],
      "text/plain": [
       "      시도  시군구  종업원수    용지면적              업종분류\n",
       "0  서울특별시  종로구    13  181.94  18 인쇄 및 기록매체 복제업\n",
       "1  서울특별시  종로구    31    0.00       33 기타제품 제조업\n",
       "2  서울특별시  종로구    15  103.65  18 인쇄 및 기록매체 복제업\n",
       "3  서울특별시  종로구    17  270.00  18 인쇄 및 기록매체 복제업\n",
       "4  서울특별시  종로구    14   49.64  18 인쇄 및 기록매체 복제업"
      ]
     },
     "execution_count": 22,
     "metadata": {},
     "output_type": "execute_result"
    }
   ],
   "source": [
    "factory_seoul = df_factory.loc[df_factory[\"시도\"] == \"서울특별시\"]\n",
    "factory_seoul.head()"
   ]
  },
  {
   "cell_type": "code",
   "execution_count": 23,
   "metadata": {},
   "outputs": [
    {
     "data": {
      "text/plain": [
       "금천구    1199\n",
       "성동구     541\n",
       "구로구     442\n",
       "중구      269\n",
       "강서구     225\n",
       "Name: 시군구, dtype: int64"
      ]
     },
     "execution_count": 23,
     "metadata": {},
     "output_type": "execute_result"
    }
   ],
   "source": [
    "공장갯수데이터 = factory_seoul['시군구'].value_counts()\n",
    "공장갯수데이터.head(5)"
   ]
  },
  {
   "cell_type": "code",
   "execution_count": 24,
   "metadata": {},
   "outputs": [],
   "source": [
    "공장갯수데이터 = 공장갯수데이터.sort_index()"
   ]
  },
  {
   "cell_type": "code",
   "execution_count": 25,
   "metadata": {},
   "outputs": [],
   "source": [
    "시군구 = 공장갯수데이터.index"
   ]
  },
  {
   "cell_type": "code",
   "execution_count": 26,
   "metadata": {},
   "outputs": [],
   "source": [
    "공장갯수 = list(공장갯수데이터)"
   ]
  },
  {
   "cell_type": "code",
   "execution_count": 27,
   "metadata": {},
   "outputs": [],
   "source": [
    "공장갯수데이터 = {'시군구':시군구,\n",
    "              '공장갯수':공장갯수}"
   ]
  },
  {
   "cell_type": "code",
   "execution_count": 28,
   "metadata": {},
   "outputs": [
    {
     "data": {
      "text/html": [
       "<div>\n",
       "<style scoped>\n",
       "    .dataframe tbody tr th:only-of-type {\n",
       "        vertical-align: middle;\n",
       "    }\n",
       "\n",
       "    .dataframe tbody tr th {\n",
       "        vertical-align: top;\n",
       "    }\n",
       "\n",
       "    .dataframe thead th {\n",
       "        text-align: right;\n",
       "    }\n",
       "</style>\n",
       "<table border=\"1\" class=\"dataframe\">\n",
       "  <thead>\n",
       "    <tr style=\"text-align: right;\">\n",
       "      <th></th>\n",
       "      <th>시군구</th>\n",
       "      <th>공장갯수</th>\n",
       "    </tr>\n",
       "  </thead>\n",
       "  <tbody>\n",
       "    <tr>\n",
       "      <th>0</th>\n",
       "      <td>강남구</td>\n",
       "      <td>92</td>\n",
       "    </tr>\n",
       "    <tr>\n",
       "      <th>1</th>\n",
       "      <td>강동구</td>\n",
       "      <td>40</td>\n",
       "    </tr>\n",
       "    <tr>\n",
       "      <th>2</th>\n",
       "      <td>강북구</td>\n",
       "      <td>27</td>\n",
       "    </tr>\n",
       "    <tr>\n",
       "      <th>3</th>\n",
       "      <td>강서구</td>\n",
       "      <td>225</td>\n",
       "    </tr>\n",
       "    <tr>\n",
       "      <th>4</th>\n",
       "      <td>관악구</td>\n",
       "      <td>22</td>\n",
       "    </tr>\n",
       "  </tbody>\n",
       "</table>\n",
       "</div>"
      ],
      "text/plain": [
       "   시군구  공장갯수\n",
       "0  강남구    92\n",
       "1  강동구    40\n",
       "2  강북구    27\n",
       "3  강서구   225\n",
       "4  관악구    22"
      ]
     },
     "execution_count": 28,
     "metadata": {},
     "output_type": "execute_result"
    }
   ],
   "source": [
    "공장갯수데이터 = DataFrame(공장갯수데이터, columns = ['시군구','공장갯수'])\n",
    "공장갯수데이터.head(5)"
   ]
  },
  {
   "cell_type": "code",
   "execution_count": 29,
   "metadata": {},
   "outputs": [
    {
     "data": {
      "text/plain": [
       "시군구\n",
       "강남구    26.032609\n",
       "강동구    21.275000\n",
       "강북구    22.888889\n",
       "강서구    69.711111\n",
       "관악구    28.363636\n",
       "Name: 종업원수, dtype: float64"
      ]
     },
     "execution_count": 29,
     "metadata": {},
     "output_type": "execute_result"
    }
   ],
   "source": [
    "공장종업원수평균 = factory_seoul[\"종업원수\"].groupby(factory_seoul[\"시군구\"])\n",
    "공장종업원수평균데이터 = 공장종업원수평균.mean()\n",
    "공장종업원수평균데이터.head(5)"
   ]
  },
  {
   "cell_type": "code",
   "execution_count": 30,
   "metadata": {},
   "outputs": [],
   "source": [
    "공장종업원수평균데이터 = 공장종업원수평균데이터.sort_index()"
   ]
  },
  {
   "cell_type": "code",
   "execution_count": 31,
   "metadata": {},
   "outputs": [],
   "source": [
    "시군구 = 공장종업원수평균데이터.index"
   ]
  },
  {
   "cell_type": "code",
   "execution_count": 32,
   "metadata": {},
   "outputs": [],
   "source": [
    "종업원수평균 = list(공장종업원수평균데이터)"
   ]
  },
  {
   "cell_type": "code",
   "execution_count": 33,
   "metadata": {},
   "outputs": [],
   "source": [
    "공장종업원수평균데이터 = {'시군구':시군구,\n",
    "                    '종업원수평균':종업원수평균}"
   ]
  },
  {
   "cell_type": "code",
   "execution_count": 34,
   "metadata": {},
   "outputs": [
    {
     "data": {
      "text/html": [
       "<div>\n",
       "<style scoped>\n",
       "    .dataframe tbody tr th:only-of-type {\n",
       "        vertical-align: middle;\n",
       "    }\n",
       "\n",
       "    .dataframe tbody tr th {\n",
       "        vertical-align: top;\n",
       "    }\n",
       "\n",
       "    .dataframe thead th {\n",
       "        text-align: right;\n",
       "    }\n",
       "</style>\n",
       "<table border=\"1\" class=\"dataframe\">\n",
       "  <thead>\n",
       "    <tr style=\"text-align: right;\">\n",
       "      <th></th>\n",
       "      <th>시군구</th>\n",
       "      <th>종업원수평균</th>\n",
       "    </tr>\n",
       "  </thead>\n",
       "  <tbody>\n",
       "    <tr>\n",
       "      <th>0</th>\n",
       "      <td>강남구</td>\n",
       "      <td>26.032609</td>\n",
       "    </tr>\n",
       "    <tr>\n",
       "      <th>1</th>\n",
       "      <td>강동구</td>\n",
       "      <td>21.275000</td>\n",
       "    </tr>\n",
       "    <tr>\n",
       "      <th>2</th>\n",
       "      <td>강북구</td>\n",
       "      <td>22.888889</td>\n",
       "    </tr>\n",
       "    <tr>\n",
       "      <th>3</th>\n",
       "      <td>강서구</td>\n",
       "      <td>69.711111</td>\n",
       "    </tr>\n",
       "    <tr>\n",
       "      <th>4</th>\n",
       "      <td>관악구</td>\n",
       "      <td>28.363636</td>\n",
       "    </tr>\n",
       "  </tbody>\n",
       "</table>\n",
       "</div>"
      ],
      "text/plain": [
       "   시군구     종업원수평균\n",
       "0  강남구  26.032609\n",
       "1  강동구  21.275000\n",
       "2  강북구  22.888889\n",
       "3  강서구  69.711111\n",
       "4  관악구  28.363636"
      ]
     },
     "execution_count": 34,
     "metadata": {},
     "output_type": "execute_result"
    }
   ],
   "source": [
    "공장종업원수평균데이터 = DataFrame(공장종업원수평균데이터, columns = ['시군구','종업원수평균'])\n",
    "공장종업원수평균데이터.head(5)"
   ]
  },
  {
   "cell_type": "code",
   "execution_count": 35,
   "metadata": {},
   "outputs": [
    {
     "name": "stderr",
     "output_type": "stream",
     "text": [
      "/anaconda3/lib/python3.6/site-packages/ipykernel_launcher.py:1: SettingWithCopyWarning: \n",
      "A value is trying to be set on a copy of a slice from a DataFrame.\n",
      "Try using .loc[row_indexer,col_indexer] = value instead\n",
      "\n",
      "See the caveats in the documentation: http://pandas.pydata.org/pandas-docs/stable/indexing.html#indexing-view-versus-copy\n",
      "  \"\"\"Entry point for launching an IPython kernel.\n"
     ]
    }
   ],
   "source": [
    "factory_seoul['업종별점수'] = float(0) #sum함수를 이용해야 하므로 일다 정수형 공간으로 만들어준다\n",
    "#factory_seoul.sort_values(by = '시군구',axis=1).head(5) -> 왜 안되지 가나다순으로 할라 그랬는데"
   ]
  },
  {
   "cell_type": "code",
   "execution_count": 36,
   "metadata": {},
   "outputs": [
    {
     "data": {
      "text/html": [
       "<div>\n",
       "<style scoped>\n",
       "    .dataframe tbody tr th:only-of-type {\n",
       "        vertical-align: middle;\n",
       "    }\n",
       "\n",
       "    .dataframe tbody tr th {\n",
       "        vertical-align: top;\n",
       "    }\n",
       "\n",
       "    .dataframe thead th {\n",
       "        text-align: right;\n",
       "    }\n",
       "</style>\n",
       "<table border=\"1\" class=\"dataframe\">\n",
       "  <thead>\n",
       "    <tr style=\"text-align: right;\">\n",
       "      <th></th>\n",
       "      <th>시도</th>\n",
       "      <th>시군구</th>\n",
       "      <th>종업원수</th>\n",
       "      <th>용지면적</th>\n",
       "      <th>업종분류</th>\n",
       "      <th>업종별점수</th>\n",
       "    </tr>\n",
       "  </thead>\n",
       "  <tbody>\n",
       "    <tr>\n",
       "      <th>0</th>\n",
       "      <td>서울특별시</td>\n",
       "      <td>종로구</td>\n",
       "      <td>13</td>\n",
       "      <td>181.94</td>\n",
       "      <td>18 인쇄 및 기록매체 복제업</td>\n",
       "      <td>0.1</td>\n",
       "    </tr>\n",
       "    <tr>\n",
       "      <th>1</th>\n",
       "      <td>서울특별시</td>\n",
       "      <td>종로구</td>\n",
       "      <td>31</td>\n",
       "      <td>0.00</td>\n",
       "      <td>33 기타제품 제조업</td>\n",
       "      <td>0.3</td>\n",
       "    </tr>\n",
       "    <tr>\n",
       "      <th>2</th>\n",
       "      <td>서울특별시</td>\n",
       "      <td>종로구</td>\n",
       "      <td>15</td>\n",
       "      <td>103.65</td>\n",
       "      <td>18 인쇄 및 기록매체 복제업</td>\n",
       "      <td>0.1</td>\n",
       "    </tr>\n",
       "    <tr>\n",
       "      <th>3</th>\n",
       "      <td>서울특별시</td>\n",
       "      <td>종로구</td>\n",
       "      <td>17</td>\n",
       "      <td>270.00</td>\n",
       "      <td>18 인쇄 및 기록매체 복제업</td>\n",
       "      <td>0.1</td>\n",
       "    </tr>\n",
       "    <tr>\n",
       "      <th>4</th>\n",
       "      <td>서울특별시</td>\n",
       "      <td>종로구</td>\n",
       "      <td>14</td>\n",
       "      <td>49.64</td>\n",
       "      <td>18 인쇄 및 기록매체 복제업</td>\n",
       "      <td>0.1</td>\n",
       "    </tr>\n",
       "  </tbody>\n",
       "</table>\n",
       "</div>"
      ],
      "text/plain": [
       "      시도  시군구  종업원수    용지면적              업종분류  업종별점수\n",
       "0  서울특별시  종로구    13  181.94  18 인쇄 및 기록매체 복제업    0.1\n",
       "1  서울특별시  종로구    31    0.00       33 기타제품 제조업    0.3\n",
       "2  서울특별시  종로구    15  103.65  18 인쇄 및 기록매체 복제업    0.1\n",
       "3  서울특별시  종로구    17  270.00  18 인쇄 및 기록매체 복제업    0.1\n",
       "4  서울특별시  종로구    14   49.64  18 인쇄 및 기록매체 복제업    0.1"
      ]
     },
     "execution_count": 36,
     "metadata": {},
     "output_type": "execute_result"
    }
   ],
   "source": [
    "f = factory_seoul['업종분류']\n",
    "s = factory_seoul['업종별점수']\n",
    "for n in np.arange(len(factory_seoul)):\n",
    "    if f.values[n] == '10 식료품 제조업' or f.values[n] == '11 음료 제조업': \n",
    "        s.values[n] = 0.15\n",
    "    elif f.values[n] == '12 담배 제조' or f.values[n] == '13 섬유제품 제조업(의복제외)' or f.values[n] == '14 의복,의복엑세서리 및 모피제품 제조업' or f.values[n] == '15 가죽,가방 및 신발 제조업' or f.values[n] == '16 목재 및 나무제품 제조업(가구제외)'or f.values[n] == '17 펄프,종이 및 종이제품 제조업' or f.values[n] == '18 인쇄 및 기록매체 복제업' or f.values[n] == '32 가구 제조업':\n",
    "        s.values[n] = 0.1\n",
    "    elif f.values[n] == '19 코크스,연탄 및 석유정제품 제조업' or f.values[n] == '20 화학물질 및 화학제품 제조업(의약품제외)' or f.values[n] == '21 의료용물질 및 의약품 제조업' :\n",
    "        s.values[n] = 0.25\n",
    "    elif f.values[n] == '22 고무제품 및 플라스틱 제조업' or f.values[n] == '23 비금속 광물제품 제조업' or f.values[n] == '24 1차금속 제조업' or f.values[n] == '25 금속가공제품 제조업(기계 및 가구제외)':    \n",
    "        s.values[n] = 0.2\n",
    "    elif f.values[n] == '26 전자부품,컴퓨터,영상,음향 및 통신장비 제조업' or f.values[n] == '27 의료,정밀,광학기기 및 시계제조업' or f.values[n] == '28 전기장비 제조업' or f.values[n] == '29 기타 기계 및 장비 제조업' or f.values[n] == '30 자동차 및 트레일러 제조업' or f.values[n] == '31 기타 운송장비 제조업' or f.values[n] == '34 산업용 기계 및 장비 수리업' or f.values[n] == '33 기타제품 제조업' :\n",
    "        s.values[n] = 0.3\n",
    "factory_seoul.head(5)    "
   ]
  },
  {
   "cell_type": "code",
   "execution_count": 37,
   "metadata": {},
   "outputs": [
    {
     "data": {
      "text/plain": [
       "시군구\n",
       "강남구    20.45\n",
       "강동구     8.00\n",
       "강북구     5.40\n",
       "강서구    52.10\n",
       "관악구     3.20\n",
       "Name: 업종별점수, dtype: float64"
      ]
     },
     "execution_count": 37,
     "metadata": {},
     "output_type": "execute_result"
    }
   ],
   "source": [
    "가중치점수 = factory_seoul['업종별점수'].groupby(factory_seoul[\"시군구\"])\n",
    "가중치점수 = 가중치점수.sum()\n",
    "가중치점수.head(5)"
   ]
  },
  {
   "cell_type": "code",
   "execution_count": 38,
   "metadata": {},
   "outputs": [],
   "source": [
    "가중치점수 = 가중치점수.sort_index()"
   ]
  },
  {
   "cell_type": "code",
   "execution_count": 39,
   "metadata": {},
   "outputs": [],
   "source": [
    "시군구 = 가중치점수.index"
   ]
  },
  {
   "cell_type": "code",
   "execution_count": 40,
   "metadata": {},
   "outputs": [],
   "source": [
    "가중치점수 = list(가중치점수)"
   ]
  },
  {
   "cell_type": "code",
   "execution_count": 41,
   "metadata": {},
   "outputs": [],
   "source": [
    "가중치점수 = {'시군구':시군구,\n",
    "           '가중치점수':가중치점수}"
   ]
  },
  {
   "cell_type": "code",
   "execution_count": 42,
   "metadata": {},
   "outputs": [
    {
     "data": {
      "text/html": [
       "<div>\n",
       "<style scoped>\n",
       "    .dataframe tbody tr th:only-of-type {\n",
       "        vertical-align: middle;\n",
       "    }\n",
       "\n",
       "    .dataframe tbody tr th {\n",
       "        vertical-align: top;\n",
       "    }\n",
       "\n",
       "    .dataframe thead th {\n",
       "        text-align: right;\n",
       "    }\n",
       "</style>\n",
       "<table border=\"1\" class=\"dataframe\">\n",
       "  <thead>\n",
       "    <tr style=\"text-align: right;\">\n",
       "      <th></th>\n",
       "      <th>시군구</th>\n",
       "      <th>가중치점수</th>\n",
       "    </tr>\n",
       "  </thead>\n",
       "  <tbody>\n",
       "    <tr>\n",
       "      <th>0</th>\n",
       "      <td>강남구</td>\n",
       "      <td>20.45</td>\n",
       "    </tr>\n",
       "    <tr>\n",
       "      <th>1</th>\n",
       "      <td>강동구</td>\n",
       "      <td>8.00</td>\n",
       "    </tr>\n",
       "    <tr>\n",
       "      <th>2</th>\n",
       "      <td>강북구</td>\n",
       "      <td>5.40</td>\n",
       "    </tr>\n",
       "    <tr>\n",
       "      <th>3</th>\n",
       "      <td>강서구</td>\n",
       "      <td>52.10</td>\n",
       "    </tr>\n",
       "    <tr>\n",
       "      <th>4</th>\n",
       "      <td>관악구</td>\n",
       "      <td>3.20</td>\n",
       "    </tr>\n",
       "  </tbody>\n",
       "</table>\n",
       "</div>"
      ],
      "text/plain": [
       "   시군구  가중치점수\n",
       "0  강남구  20.45\n",
       "1  강동구   8.00\n",
       "2  강북구   5.40\n",
       "3  강서구  52.10\n",
       "4  관악구   3.20"
      ]
     },
     "execution_count": 42,
     "metadata": {},
     "output_type": "execute_result"
    }
   ],
   "source": [
    "가중치점수 = DataFrame(가중치점수, columns = ['시군구','가중치점수'])\n",
    "가중치점수.head(5)"
   ]
  },
  {
   "cell_type": "code",
   "execution_count": 87,
   "metadata": {},
   "outputs": [
    {
     "data": {
      "text/plain": [
       "시군구\n",
       "강남구     250.238478\n",
       "강동구     330.325250\n",
       "강북구     236.735185\n",
       "강서구    1945.545413\n",
       "관악구     134.387273\n",
       "Name: 용지면적, dtype: float64"
      ]
     },
     "execution_count": 87,
     "metadata": {},
     "output_type": "execute_result"
    }
   ],
   "source": [
    "용지면적평균 = factory_seoul[\"용지면적\"].groupby(factory_seoul[\"시군구\"])\n",
    "용지면적평균 = 용지면적평균.mean()\n",
    "용지면적평균.head(5)"
   ]
  },
  {
   "cell_type": "code",
   "execution_count": 88,
   "metadata": {},
   "outputs": [],
   "source": [
    "용지면적평균 = 용지면적평균.sort_index()"
   ]
  },
  {
   "cell_type": "code",
   "execution_count": 89,
   "metadata": {},
   "outputs": [],
   "source": [
    "시군구 = 용지면적평균.index"
   ]
  },
  {
   "cell_type": "code",
   "execution_count": 90,
   "metadata": {},
   "outputs": [],
   "source": [
    "용지면적평균 = list(용지면적평균)"
   ]
  },
  {
   "cell_type": "code",
   "execution_count": 91,
   "metadata": {},
   "outputs": [],
   "source": [
    "용지면적평균 = {'시군구': 시군구,\n",
    "            '용지면적평균': 용지면적평균}"
   ]
  },
  {
   "cell_type": "code",
   "execution_count": 92,
   "metadata": {},
   "outputs": [
    {
     "data": {
      "text/html": [
       "<div>\n",
       "<style scoped>\n",
       "    .dataframe tbody tr th:only-of-type {\n",
       "        vertical-align: middle;\n",
       "    }\n",
       "\n",
       "    .dataframe tbody tr th {\n",
       "        vertical-align: top;\n",
       "    }\n",
       "\n",
       "    .dataframe thead th {\n",
       "        text-align: right;\n",
       "    }\n",
       "</style>\n",
       "<table border=\"1\" class=\"dataframe\">\n",
       "  <thead>\n",
       "    <tr style=\"text-align: right;\">\n",
       "      <th></th>\n",
       "      <th>시군구</th>\n",
       "      <th>용지면적평균</th>\n",
       "    </tr>\n",
       "  </thead>\n",
       "  <tbody>\n",
       "    <tr>\n",
       "      <th>0</th>\n",
       "      <td>강남구</td>\n",
       "      <td>250.238478</td>\n",
       "    </tr>\n",
       "    <tr>\n",
       "      <th>1</th>\n",
       "      <td>강동구</td>\n",
       "      <td>330.325250</td>\n",
       "    </tr>\n",
       "    <tr>\n",
       "      <th>2</th>\n",
       "      <td>강북구</td>\n",
       "      <td>236.735185</td>\n",
       "    </tr>\n",
       "    <tr>\n",
       "      <th>3</th>\n",
       "      <td>강서구</td>\n",
       "      <td>1945.545413</td>\n",
       "    </tr>\n",
       "    <tr>\n",
       "      <th>4</th>\n",
       "      <td>관악구</td>\n",
       "      <td>134.387273</td>\n",
       "    </tr>\n",
       "  </tbody>\n",
       "</table>\n",
       "</div>"
      ],
      "text/plain": [
       "   시군구       용지면적평균\n",
       "0  강남구   250.238478\n",
       "1  강동구   330.325250\n",
       "2  강북구   236.735185\n",
       "3  강서구  1945.545413\n",
       "4  관악구   134.387273"
      ]
     },
     "execution_count": 92,
     "metadata": {},
     "output_type": "execute_result"
    }
   ],
   "source": [
    "용지면적평균 = DataFrame(용지면적평균, columns = ['시군구','용지면적평균'])\n",
    "용지면적평균.head(5)"
   ]
  },
  {
   "cell_type": "code",
   "execution_count": 93,
   "metadata": {},
   "outputs": [
    {
     "name": "stdout",
     "output_type": "stream",
     "text": [
      "25\n",
      "25\n",
      "25\n",
      "25\n",
      "25\n"
     ]
    }
   ],
   "source": [
    "print(len(firestation_seoul))\n",
    "print(len(공장갯수데이터))\n",
    "print(len(공장종업원수평균데이터))\n",
    "print(len(가중치점수))\n",
    "print(len(용지면적평균))"
   ]
  },
  {
   "cell_type": "code",
   "execution_count": 94,
   "metadata": {},
   "outputs": [
    {
     "data": {
      "text/html": [
       "<div>\n",
       "<style scoped>\n",
       "    .dataframe tbody tr th:only-of-type {\n",
       "        vertical-align: middle;\n",
       "    }\n",
       "\n",
       "    .dataframe tbody tr th {\n",
       "        vertical-align: top;\n",
       "    }\n",
       "\n",
       "    .dataframe thead th {\n",
       "        text-align: right;\n",
       "    }\n",
       "</style>\n",
       "<table border=\"1\" class=\"dataframe\">\n",
       "  <thead>\n",
       "    <tr style=\"text-align: right;\">\n",
       "      <th></th>\n",
       "      <th>시군구</th>\n",
       "      <th>소방서갯수</th>\n",
       "      <th>공장갯수</th>\n",
       "      <th>종업원수평균</th>\n",
       "      <th>가중치점수</th>\n",
       "      <th>용지면적평균</th>\n",
       "    </tr>\n",
       "  </thead>\n",
       "  <tbody>\n",
       "    <tr>\n",
       "      <th>0</th>\n",
       "      <td>강남구</td>\n",
       "      <td>5</td>\n",
       "      <td>92</td>\n",
       "      <td>26.032609</td>\n",
       "      <td>20.45</td>\n",
       "      <td>250.238478</td>\n",
       "    </tr>\n",
       "    <tr>\n",
       "      <th>1</th>\n",
       "      <td>강동구</td>\n",
       "      <td>5</td>\n",
       "      <td>40</td>\n",
       "      <td>21.275000</td>\n",
       "      <td>8.00</td>\n",
       "      <td>330.325250</td>\n",
       "    </tr>\n",
       "    <tr>\n",
       "      <th>2</th>\n",
       "      <td>강북구</td>\n",
       "      <td>4</td>\n",
       "      <td>27</td>\n",
       "      <td>22.888889</td>\n",
       "      <td>5.40</td>\n",
       "      <td>236.735185</td>\n",
       "    </tr>\n",
       "    <tr>\n",
       "      <th>3</th>\n",
       "      <td>강서구</td>\n",
       "      <td>5</td>\n",
       "      <td>225</td>\n",
       "      <td>69.711111</td>\n",
       "      <td>52.10</td>\n",
       "      <td>1945.545413</td>\n",
       "    </tr>\n",
       "    <tr>\n",
       "      <th>4</th>\n",
       "      <td>관악구</td>\n",
       "      <td>4</td>\n",
       "      <td>22</td>\n",
       "      <td>28.363636</td>\n",
       "      <td>3.20</td>\n",
       "      <td>134.387273</td>\n",
       "    </tr>\n",
       "  </tbody>\n",
       "</table>\n",
       "</div>"
      ],
      "text/plain": [
       "   시군구  소방서갯수  공장갯수     종업원수평균  가중치점수       용지면적평균\n",
       "0  강남구      5    92  26.032609  20.45   250.238478\n",
       "1  강동구      5    40  21.275000   8.00   330.325250\n",
       "2  강북구      4    27  22.888889   5.40   236.735185\n",
       "3  강서구      5   225  69.711111  52.10  1945.545413\n",
       "4  관악구      4    22  28.363636   3.20   134.387273"
      ]
     },
     "execution_count": 94,
     "metadata": {},
     "output_type": "execute_result"
    }
   ],
   "source": [
    "a = pd.merge(firestation_seoul,공장갯수데이터, on = \"시군구\")\n",
    "b = pd.merge(공장종업원수평균데이터,가중치점수, on = \"시군구\")\n",
    "c = pd.merge(a,b)\n",
    "df_final_factory = pd.merge(c,용지면적평균, on = \"시군구\")\n",
    "df_final_factory.head()"
   ]
  },
  {
   "cell_type": "code",
   "execution_count": 104,
   "metadata": {},
   "outputs": [
    {
     "data": {
      "text/html": [
       "<div>\n",
       "<style scoped>\n",
       "    .dataframe tbody tr th:only-of-type {\n",
       "        vertical-align: middle;\n",
       "    }\n",
       "\n",
       "    .dataframe tbody tr th {\n",
       "        vertical-align: top;\n",
       "    }\n",
       "\n",
       "    .dataframe thead th {\n",
       "        text-align: right;\n",
       "    }\n",
       "</style>\n",
       "<table border=\"1\" class=\"dataframe\">\n",
       "  <thead>\n",
       "    <tr style=\"text-align: right;\">\n",
       "      <th></th>\n",
       "      <th>시군구</th>\n",
       "      <th>소방서갯수</th>\n",
       "      <th>공장갯수</th>\n",
       "      <th>종업원수평균</th>\n",
       "      <th>가중치점수</th>\n",
       "      <th>용지면적평균</th>\n",
       "      <th>인명피해지수</th>\n",
       "      <th>재산피해지수</th>\n",
       "      <th>골든타임지수</th>\n",
       "      <th>공장규모지슈</th>\n",
       "      <th>공장규모지수</th>\n",
       "    </tr>\n",
       "  </thead>\n",
       "  <tbody>\n",
       "    <tr>\n",
       "      <th>0</th>\n",
       "      <td>강남구</td>\n",
       "      <td>5</td>\n",
       "      <td>92</td>\n",
       "      <td>26.032609</td>\n",
       "      <td>20.45</td>\n",
       "      <td>250.238478</td>\n",
       "      <td>0.104031</td>\n",
       "      <td>20.45</td>\n",
       "      <td>18.40</td>\n",
       "      <td>0.619140</td>\n",
       "      <td>0.619140</td>\n",
       "    </tr>\n",
       "    <tr>\n",
       "      <th>1</th>\n",
       "      <td>강동구</td>\n",
       "      <td>5</td>\n",
       "      <td>40</td>\n",
       "      <td>21.275000</td>\n",
       "      <td>8.00</td>\n",
       "      <td>330.325250</td>\n",
       "      <td>0.064406</td>\n",
       "      <td>8.00</td>\n",
       "      <td>8.00</td>\n",
       "      <td>0.817291</td>\n",
       "      <td>0.817291</td>\n",
       "    </tr>\n",
       "    <tr>\n",
       "      <th>2</th>\n",
       "      <td>강북구</td>\n",
       "      <td>4</td>\n",
       "      <td>27</td>\n",
       "      <td>22.888889</td>\n",
       "      <td>5.40</td>\n",
       "      <td>236.735185</td>\n",
       "      <td>0.096686</td>\n",
       "      <td>5.40</td>\n",
       "      <td>6.75</td>\n",
       "      <td>0.585731</td>\n",
       "      <td>0.585731</td>\n",
       "    </tr>\n",
       "    <tr>\n",
       "      <th>3</th>\n",
       "      <td>강서구</td>\n",
       "      <td>5</td>\n",
       "      <td>225</td>\n",
       "      <td>69.711111</td>\n",
       "      <td>52.10</td>\n",
       "      <td>1945.545413</td>\n",
       "      <td>0.035831</td>\n",
       "      <td>52.10</td>\n",
       "      <td>45.00</td>\n",
       "      <td>4.813671</td>\n",
       "      <td>4.813671</td>\n",
       "    </tr>\n",
       "    <tr>\n",
       "      <th>4</th>\n",
       "      <td>관악구</td>\n",
       "      <td>4</td>\n",
       "      <td>22</td>\n",
       "      <td>28.363636</td>\n",
       "      <td>3.20</td>\n",
       "      <td>134.387273</td>\n",
       "      <td>0.211059</td>\n",
       "      <td>3.20</td>\n",
       "      <td>5.50</td>\n",
       "      <td>0.332501</td>\n",
       "      <td>0.332501</td>\n",
       "    </tr>\n",
       "  </tbody>\n",
       "</table>\n",
       "</div>"
      ],
      "text/plain": [
       "   시군구  소방서갯수  공장갯수     종업원수평균  가중치점수       용지면적평균    인명피해지수  재산피해지수  골든타임지수  \\\n",
       "0  강남구      5    92  26.032609  20.45   250.238478  0.104031   20.45   18.40   \n",
       "1  강동구      5    40  21.275000   8.00   330.325250  0.064406    8.00    8.00   \n",
       "2  강북구      4    27  22.888889   5.40   236.735185  0.096686    5.40    6.75   \n",
       "3  강서구      5   225  69.711111  52.10  1945.545413  0.035831   52.10   45.00   \n",
       "4  관악구      4    22  28.363636   3.20   134.387273  0.211059    3.20    5.50   \n",
       "\n",
       "     공장규모지슈    공장규모지수  \n",
       "0  0.619140  0.619140  \n",
       "1  0.817291  0.817291  \n",
       "2  0.585731  0.585731  \n",
       "3  4.813671  4.813671  \n",
       "4  0.332501  0.332501  "
      ]
     },
     "execution_count": 104,
     "metadata": {},
     "output_type": "execute_result"
    }
   ],
   "source": [
    "df_final_factory['재산피해지수'] = df_final_factory['가중치점수']\n",
    "df_final_factory['인명피해지수'] = df_final_factory['종업원수평균'] / df_final_factory['용지면적평균']\n",
    "df_final_factory['골든타임지수'] = df_final_factory['공장갯수'] / df_final_factory['소방서갯수']\n",
    "df_final_factory['공장규모지수'] = df_final_factory['용지면적평균'] / df_final_factory['용지면적평균'].mean()\n",
    "df_final_factory.head(5)"
   ]
  },
  {
   "cell_type": "code",
   "execution_count": 117,
   "metadata": {},
   "outputs": [
    {
     "data": {
      "text/html": [
       "<div>\n",
       "<style scoped>\n",
       "    .dataframe tbody tr th:only-of-type {\n",
       "        vertical-align: middle;\n",
       "    }\n",
       "\n",
       "    .dataframe tbody tr th {\n",
       "        vertical-align: top;\n",
       "    }\n",
       "\n",
       "    .dataframe thead th {\n",
       "        text-align: right;\n",
       "    }\n",
       "</style>\n",
       "<table border=\"1\" class=\"dataframe\">\n",
       "  <thead>\n",
       "    <tr style=\"text-align: right;\">\n",
       "      <th></th>\n",
       "      <th>시군구</th>\n",
       "      <th>인명피해지수</th>\n",
       "      <th>재산피해지수</th>\n",
       "      <th>골든타임지수</th>\n",
       "      <th>공장규모지수</th>\n",
       "    </tr>\n",
       "  </thead>\n",
       "  <tbody>\n",
       "    <tr>\n",
       "      <th>0</th>\n",
       "      <td>강남구</td>\n",
       "      <td>0.104031</td>\n",
       "      <td>20.45</td>\n",
       "      <td>18.40</td>\n",
       "      <td>0.619140</td>\n",
       "    </tr>\n",
       "    <tr>\n",
       "      <th>1</th>\n",
       "      <td>강동구</td>\n",
       "      <td>0.064406</td>\n",
       "      <td>8.00</td>\n",
       "      <td>8.00</td>\n",
       "      <td>0.817291</td>\n",
       "    </tr>\n",
       "    <tr>\n",
       "      <th>2</th>\n",
       "      <td>강북구</td>\n",
       "      <td>0.096686</td>\n",
       "      <td>5.40</td>\n",
       "      <td>6.75</td>\n",
       "      <td>0.585731</td>\n",
       "    </tr>\n",
       "    <tr>\n",
       "      <th>3</th>\n",
       "      <td>강서구</td>\n",
       "      <td>0.035831</td>\n",
       "      <td>52.10</td>\n",
       "      <td>45.00</td>\n",
       "      <td>4.813671</td>\n",
       "    </tr>\n",
       "    <tr>\n",
       "      <th>4</th>\n",
       "      <td>관악구</td>\n",
       "      <td>0.211059</td>\n",
       "      <td>3.20</td>\n",
       "      <td>5.50</td>\n",
       "      <td>0.332501</td>\n",
       "    </tr>\n",
       "  </tbody>\n",
       "</table>\n",
       "</div>"
      ],
      "text/plain": [
       "   시군구    인명피해지수  재산피해지수  골든타임지수    공장규모지수\n",
       "0  강남구  0.104031   20.45   18.40  0.619140\n",
       "1  강동구  0.064406    8.00    8.00  0.817291\n",
       "2  강북구  0.096686    5.40    6.75  0.585731\n",
       "3  강서구  0.035831   52.10   45.00  4.813671\n",
       "4  관악구  0.211059    3.20    5.50  0.332501"
      ]
     },
     "execution_count": 117,
     "metadata": {},
     "output_type": "execute_result"
    }
   ],
   "source": [
    "df_final_factory_index = df_final_factory[[\"시군구\",\"인명피해지수\",\"재산피해지수\",\"골든타임지수\",\"공장규모지수\"]]\n",
    "df_final_factory_index.head(5)"
   ]
  },
  {
   "cell_type": "code",
   "execution_count": 108,
   "metadata": {},
   "outputs": [],
   "source": [
    "from sklearn.preprocessing import scale, robust_scale, minmax_scale, maxabs_scale\n",
    "from sklearn.preprocessing import normalize\n",
    "# scikit learn : 파이썬의 머신러닝 관련 모듈\n",
    "# preprocessing: scikit learn에 있는 전처리 도구 (최소값, 최대값을 이용해 정규화하는 함수 포함)\n",
    "#scale(X): 기본 스케일. 평균과 표준편차 사용\n",
    "#robust_scale(X): 중앙값(median)과 IQR(interquartile range) 사용. 아웃라이어의 영향을 최소화\n",
    "#minmax_scale(X): 최대/최소값이 각각 1, 0이 되도록 스케일링\n",
    "#maxabs_scale(X): 최대절대값과 0이 각각 1, 0이 되도록 스케일링\n",
    "# https://datascienceschool.net/view-notebook/f43be7d6515b48c0beb909826993c856/ 여기 참조"
   ]
  },
  {
   "cell_type": "code",
   "execution_count": 109,
   "metadata": {},
   "outputs": [],
   "source": [
    "#col = ['소방서갯수', '공장갯수', '종업원수평균', '가중치점수']\n",
    "#시군구 = df_final_factory['시군구']\n",
    "#del df_final_factory['시군구'] #정규화를위해 삭제\n",
    "#df_final_factory_scale = normalize(df_final_factory)\n",
    "#df_final_factory_scale\n",
    "#df_final_factory_scale = pd.DataFrame(df_final_factory_scale, columns = col, index = 시군구)\n",
    "#df_final_factory_scale"
   ]
  },
  {
   "cell_type": "code",
   "execution_count": 119,
   "metadata": {},
   "outputs": [],
   "source": [
    "e = pd.DataFrame(minmax_scale(df_final_factory_index['인명피해지수']),columns = {'인명피해지수'},index = 시군구)\n",
    "f = pd.DataFrame(minmax_scale(df_final_factory_index['재산피해지수']),columns = {'재산피해지수'},index = 시군구)\n",
    "g = pd.DataFrame(minmax_scale(df_final_factory_index['골든타임지수']),columns = {'골든타임지수'},index = 시군구)\n",
    "h = pd.DataFrame(minmax_scale(df_final_factory_index['공장규모지수']),columns = {'공장규모지수'},index = 시군구)"
   ]
  },
  {
   "cell_type": "code",
   "execution_count": 142,
   "metadata": {},
   "outputs": [
    {
     "data": {
      "text/html": [
       "<div>\n",
       "<style scoped>\n",
       "    .dataframe tbody tr th:only-of-type {\n",
       "        vertical-align: middle;\n",
       "    }\n",
       "\n",
       "    .dataframe tbody tr th {\n",
       "        vertical-align: top;\n",
       "    }\n",
       "\n",
       "    .dataframe thead th {\n",
       "        text-align: right;\n",
       "    }\n",
       "</style>\n",
       "<table border=\"1\" class=\"dataframe\">\n",
       "  <thead>\n",
       "    <tr style=\"text-align: right;\">\n",
       "      <th></th>\n",
       "      <th>인명피해지수</th>\n",
       "      <th>재산피해지수</th>\n",
       "      <th>골든타임지수</th>\n",
       "      <th>공장규모지수</th>\n",
       "    </tr>\n",
       "    <tr>\n",
       "      <th>시군구</th>\n",
       "      <th></th>\n",
       "      <th></th>\n",
       "      <th></th>\n",
       "      <th></th>\n",
       "    </tr>\n",
       "  </thead>\n",
       "  <tbody>\n",
       "    <tr>\n",
       "      <th>강남구</th>\n",
       "      <td>0.39</td>\n",
       "      <td>0.06</td>\n",
       "      <td>0.03</td>\n",
       "      <td>0.06</td>\n",
       "    </tr>\n",
       "    <tr>\n",
       "      <th>강동구</th>\n",
       "      <td>0.16</td>\n",
       "      <td>0.02</td>\n",
       "      <td>0.01</td>\n",
       "      <td>0.11</td>\n",
       "    </tr>\n",
       "    <tr>\n",
       "      <th>강북구</th>\n",
       "      <td>0.35</td>\n",
       "      <td>0.01</td>\n",
       "      <td>0.01</td>\n",
       "      <td>0.06</td>\n",
       "    </tr>\n",
       "    <tr>\n",
       "      <th>강서구</th>\n",
       "      <td>0.00</td>\n",
       "      <td>0.17</td>\n",
       "      <td>0.07</td>\n",
       "      <td>1.00</td>\n",
       "    </tr>\n",
       "    <tr>\n",
       "      <th>관악구</th>\n",
       "      <td>1.00</td>\n",
       "      <td>0.01</td>\n",
       "      <td>0.01</td>\n",
       "      <td>0.00</td>\n",
       "    </tr>\n",
       "  </tbody>\n",
       "</table>\n",
       "</div>"
      ],
      "text/plain": [
       "     인명피해지수  재산피해지수  골든타임지수  공장규모지수\n",
       "시군구                                \n",
       "강남구    0.39    0.06    0.03    0.06\n",
       "강동구    0.16    0.02    0.01    0.11\n",
       "강북구    0.35    0.01    0.01    0.06\n",
       "강서구    0.00    0.17    0.07    1.00\n",
       "관악구    1.00    0.01    0.01    0.00"
      ]
     },
     "execution_count": 142,
     "metadata": {},
     "output_type": "execute_result"
    }
   ],
   "source": [
    "i= pd.concat([e,f],axis = 1)\n",
    "j= pd.concat([g,h],axis = 1)\n",
    "df_final_factory_scale_indx = pd.concat([i,j],axis = 1)\n",
    "df_final_factory_scale_index = df_final_factory_scale.round(2) #소수둘쩃자리까지 표시\n",
    "df_final_factory_scale_index.head(5)"
   ]
  },
  {
   "cell_type": "code",
   "execution_count": 112,
   "metadata": {},
   "outputs": [],
   "source": [
    "import matplotlib.pyplot as plt\n",
    "import seaborn as sns # Matplotlib과 함께 사용하는 시각화도구. 반드시 같이 import해야함  # 터미널에서 pip install seaborn 으로 설치"
   ]
  },
  {
   "cell_type": "code",
   "execution_count": 113,
   "metadata": {},
   "outputs": [],
   "source": [
    "%matplotlib inline"
   ]
  },
  {
   "cell_type": "code",
   "execution_count": 114,
   "metadata": {},
   "outputs": [
    {
     "name": "stdout",
     "output_type": "stream",
     "text": [
      "10.0\n",
      "['sans-serif']\n",
      "['DejaVu Serif', 'Bitstream Vera Serif', 'Computer Modern Roman', 'New Century Schoolbook', 'Century Schoolbook L', 'Utopia', 'ITC Bookman', 'Bookman', 'Nimbus Roman No9 L', 'Times New Roman', 'Times', 'Palatino', 'Charter', 'serif']\n",
      "['DejaVu Sans', 'Bitstream Vera Sans', 'Computer Modern Sans Serif', 'Lucida Grande', 'Verdana', 'Geneva', 'Lucid', 'Arial', 'Helvetica', 'Avant Garde', 'sans-serif']\n",
      "['DejaVu Sans Mono', 'Bitstream Vera Sans Mono', 'Computer Modern Typewriter', 'Andale Mono', 'Nimbus Mono L', 'Courier New', 'Courier', 'Fixed', 'Terminal', 'monospace']\n"
     ]
    }
   ],
   "source": [
    "# 기본 설정 읽기\n",
    "import matplotlib.pyplot as plt\n",
    "\n",
    "# size, family\n",
    "print (plt.rcParams['font.size'] ) \n",
    "print (plt.rcParams['font.family'] )\n",
    "# serif, sans-serif, monospace \n",
    "print (plt.rcParams['font.serif']) \n",
    "print (plt.rcParams['font.sans-serif']) \n",
    "print (plt.rcParams['font.monospace']) \n",
    "\n",
    "#폰트의 기본값들을 다음과 같이 설정할 수 있다\n",
    "import matplotlib.pyplot as plt\n",
    "\n",
    "plt.rcParams[\"font.family\"] = 'AppleGothic'\n",
    "plt.rcParams['font.size'] = 9.\n",
    "plt.rcParams['xtick.labelsize'] = 9.\n",
    "plt.rcParams['ytick.labelsize'] = 9.\n",
    "plt.rcParams['axes.labelsize'] = 9.\n",
    "\n",
    "\n",
    "#한글꺠짐 방지 https://financedata.github.io/posts/matplotlib-hangul-for-osx.html"
   ]
  },
  {
   "cell_type": "code",
   "execution_count": 138,
   "metadata": {},
   "outputs": [
    {
     "data": {
      "image/png": "[encoded data removed]",
      "text/plain": [
       "<matplotlib.figure.Figure at 0x1a25a382e8>"
      ]
     },
     "metadata": {},
     "output_type": "display_data"
    }
   ],
   "source": [
    "k = pd.DataFrame(df_final_factory_scale['인명피해지수'] + df_final_factory_scale['재산피해지수'],columns = {'화재피해지수'},index = 시군구)\n",
    "l = pd.DataFrame(df_final_factory_scale['골든타임지수'] + df_final_factory_scale['공장규모지수'],columns = {'화재진압지연지수'},index = 시군구)\n",
    "\n",
    "m= pd.concat([k,l],axis = 1)\n",
    "\n",
    "plt.scatter(m['화재피해지수'],m['화재진압지연지수'], color = 'r', marker = 'o')\n",
    "plt.axhline(y=0.6, color='b', linestyle=':', linewidth=2) #y축 선그리기\n",
    "plt.axvline(x=0.6, color='b', linestyle=':', linewidth=2) #x축 선그리기\n",
    "plt.xlabel('화재피해지수')\n",
    "plt.ylabel('화재진압지연지수')\n",
    "\n",
    "#plt.colorbar()\n",
    "plt.grid()\n",
    "plt.show()"
   ]
  },
  {
   "cell_type": "code",
   "execution_count": 121,
   "metadata": {},
   "outputs": [
    {
     "ename": "KeyError",
     "evalue": "'소방서갯수'",
     "output_type": "error",
     "traceback": [
      "\u001b[0;31m---------------------------------------------------------------------------\u001b[0m",
      "\u001b[0;31mKeyError\u001b[0m                                  Traceback (most recent call last)",
      "\u001b[0;32m/anaconda3/lib/python3.6/site-packages/pandas/core/indexes/base.py\u001b[0m in \u001b[0;36mget_loc\u001b[0;34m(self, key, method, tolerance)\u001b[0m\n\u001b[1;32m   2524\u001b[0m             \u001b[0;32mtry\u001b[0m\u001b[0;34m:\u001b[0m\u001b[0;34m\u001b[0m\u001b[0m\n\u001b[0;32m-> 2525\u001b[0;31m                 \u001b[0;32mreturn\u001b[0m \u001b[0mself\u001b[0m\u001b[0;34m.\u001b[0m\u001b[0m_engine\u001b[0m\u001b[0;34m.\u001b[0m\u001b[0mget_loc\u001b[0m\u001b[0;34m(\u001b[0m\u001b[0mkey\u001b[0m\u001b[0;34m)\u001b[0m\u001b[0;34m\u001b[0m\u001b[0m\n\u001b[0m\u001b[1;32m   2526\u001b[0m             \u001b[0;32mexcept\u001b[0m \u001b[0mKeyError\u001b[0m\u001b[0;34m:\u001b[0m\u001b[0;34m\u001b[0m\u001b[0m\n",
      "\u001b[0;32mpandas/_libs/index.pyx\u001b[0m in \u001b[0;36mpandas._libs.index.IndexEngine.get_loc\u001b[0;34m()\u001b[0m\n",
      "\u001b[0;32mpandas/_libs/index.pyx\u001b[0m in \u001b[0;36mpandas._libs.index.IndexEngine.get_loc\u001b[0;34m()\u001b[0m\n",
      "\u001b[0;32mpandas/_libs/hashtable_class_helper.pxi\u001b[0m in \u001b[0;36mpandas._libs.hashtable.PyObjectHashTable.get_item\u001b[0;34m()\u001b[0m\n",
      "\u001b[0;32mpandas/_libs/hashtable_class_helper.pxi\u001b[0m in \u001b[0;36mpandas._libs.hashtable.PyObjectHashTable.get_item\u001b[0;34m()\u001b[0m\n",
      "\u001b[0;31mKeyError\u001b[0m: '소방서갯수'",
      "\nDuring handling of the above exception, another exception occurred:\n",
      "\u001b[0;31mKeyError\u001b[0m                                  Traceback (most recent call last)",
      "\u001b[0;32m<ipython-input-121-5abbe6b8bf6a>\u001b[0m in \u001b[0;36m<module>\u001b[0;34m()\u001b[0m\n\u001b[0;32m----> 1\u001b[0;31m \u001b[0msns\u001b[0m\u001b[0;34m.\u001b[0m\u001b[0mpairplot\u001b[0m\u001b[0;34m(\u001b[0m\u001b[0mdf_final_factory_scale\u001b[0m\u001b[0;34m,\u001b[0m \u001b[0mvars\u001b[0m\u001b[0;34m=\u001b[0m\u001b[0;34m[\u001b[0m\u001b[0;34m'소방서갯수'\u001b[0m\u001b[0;34m,\u001b[0m \u001b[0;34m'공장갯수'\u001b[0m\u001b[0;34m,\u001b[0m \u001b[0;34m'종업원수평균'\u001b[0m\u001b[0;34m,\u001b[0m \u001b[0;34m'가중치점수'\u001b[0m\u001b[0;34m]\u001b[0m\u001b[0;34m,\u001b[0m \u001b[0mkind\u001b[0m \u001b[0;34m=\u001b[0m \u001b[0;34m'reg'\u001b[0m\u001b[0;34m,\u001b[0m \u001b[0msize\u001b[0m \u001b[0;34m=\u001b[0m \u001b[0;36m3\u001b[0m\u001b[0;34m)\u001b[0m\u001b[0;34m\u001b[0m\u001b[0m\n\u001b[0m\u001b[1;32m      2\u001b[0m \u001b[0mplt\u001b[0m\u001b[0;34m.\u001b[0m\u001b[0mshow\u001b[0m\u001b[0;34m(\u001b[0m\u001b[0;34m)\u001b[0m\u001b[0;34m\u001b[0m\u001b[0m\n",
      "\u001b[0;32m/anaconda3/lib/python3.6/site-packages/seaborn/axisgrid.py\u001b[0m in \u001b[0;36mpairplot\u001b[0;34m(data, hue, hue_order, palette, vars, x_vars, y_vars, kind, diag_kind, markers, size, aspect, dropna, plot_kws, diag_kws, grid_kws)\u001b[0m\n\u001b[1;32m   2058\u001b[0m     \u001b[0;32mif\u001b[0m \u001b[0mgrid\u001b[0m\u001b[0;34m.\u001b[0m\u001b[0msquare_grid\u001b[0m\u001b[0;34m:\u001b[0m\u001b[0;34m\u001b[0m\u001b[0m\n\u001b[1;32m   2059\u001b[0m         \u001b[0;32mif\u001b[0m \u001b[0mdiag_kind\u001b[0m \u001b[0;34m==\u001b[0m \u001b[0;34m\"hist\"\u001b[0m\u001b[0;34m:\u001b[0m\u001b[0;34m\u001b[0m\u001b[0m\n\u001b[0;32m-> 2060\u001b[0;31m             \u001b[0mgrid\u001b[0m\u001b[0;34m.\u001b[0m\u001b[0mmap_diag\u001b[0m\u001b[0;34m(\u001b[0m\u001b[0mplt\u001b[0m\u001b[0;34m.\u001b[0m\u001b[0mhist\u001b[0m\u001b[0;34m,\u001b[0m \u001b[0;34m**\u001b[0m\u001b[0mdiag_kws\u001b[0m\u001b[0;34m)\u001b[0m\u001b[0;34m\u001b[0m\u001b[0m\n\u001b[0m\u001b[1;32m   2061\u001b[0m         \u001b[0;32melif\u001b[0m \u001b[0mdiag_kind\u001b[0m \u001b[0;34m==\u001b[0m \u001b[0;34m\"kde\"\u001b[0m\u001b[0;34m:\u001b[0m\u001b[0;34m\u001b[0m\u001b[0m\n\u001b[1;32m   2062\u001b[0m             \u001b[0mdiag_kws\u001b[0m\u001b[0;34m[\u001b[0m\u001b[0;34m\"legend\"\u001b[0m\u001b[0;34m]\u001b[0m \u001b[0;34m=\u001b[0m \u001b[0;32mFalse\u001b[0m\u001b[0;34m\u001b[0m\u001b[0m\n",
      "\u001b[0;32m/anaconda3/lib/python3.6/site-packages/seaborn/axisgrid.py\u001b[0m in \u001b[0;36mmap_diag\u001b[0;34m(self, func, **kwargs)\u001b[0m\n\u001b[1;32m   1344\u001b[0m         \u001b[0;32mfor\u001b[0m \u001b[0mi\u001b[0m\u001b[0;34m,\u001b[0m \u001b[0mvar\u001b[0m \u001b[0;32min\u001b[0m \u001b[0menumerate\u001b[0m\u001b[0;34m(\u001b[0m\u001b[0mself\u001b[0m\u001b[0;34m.\u001b[0m\u001b[0mx_vars\u001b[0m\u001b[0;34m)\u001b[0m\u001b[0;34m:\u001b[0m\u001b[0;34m\u001b[0m\u001b[0m\n\u001b[1;32m   1345\u001b[0m             \u001b[0max\u001b[0m \u001b[0;34m=\u001b[0m \u001b[0mself\u001b[0m\u001b[0;34m.\u001b[0m\u001b[0mdiag_axes\u001b[0m\u001b[0;34m[\u001b[0m\u001b[0mi\u001b[0m\u001b[0;34m]\u001b[0m\u001b[0;34m\u001b[0m\u001b[0m\n\u001b[0;32m-> 1346\u001b[0;31m             \u001b[0mhue_grouped\u001b[0m \u001b[0;34m=\u001b[0m \u001b[0mself\u001b[0m\u001b[0;34m.\u001b[0m\u001b[0mdata\u001b[0m\u001b[0;34m[\u001b[0m\u001b[0mvar\u001b[0m\u001b[0;34m]\u001b[0m\u001b[0;34m.\u001b[0m\u001b[0mgroupby\u001b[0m\u001b[0;34m(\u001b[0m\u001b[0mself\u001b[0m\u001b[0;34m.\u001b[0m\u001b[0mhue_vals\u001b[0m\u001b[0;34m)\u001b[0m\u001b[0;34m\u001b[0m\u001b[0m\n\u001b[0m\u001b[1;32m   1347\u001b[0m \u001b[0;34m\u001b[0m\u001b[0m\n\u001b[1;32m   1348\u001b[0m             \u001b[0;31m# Special-case plt.hist with stacked bars\u001b[0m\u001b[0;34m\u001b[0m\u001b[0;34m\u001b[0m\u001b[0m\n",
      "\u001b[0;32m/anaconda3/lib/python3.6/site-packages/pandas/core/frame.py\u001b[0m in \u001b[0;36m__getitem__\u001b[0;34m(self, key)\u001b[0m\n\u001b[1;32m   2137\u001b[0m             \u001b[0;32mreturn\u001b[0m \u001b[0mself\u001b[0m\u001b[0;34m.\u001b[0m\u001b[0m_getitem_multilevel\u001b[0m\u001b[0;34m(\u001b[0m\u001b[0mkey\u001b[0m\u001b[0;34m)\u001b[0m\u001b[0;34m\u001b[0m\u001b[0m\n\u001b[1;32m   2138\u001b[0m         \u001b[0;32melse\u001b[0m\u001b[0;34m:\u001b[0m\u001b[0;34m\u001b[0m\u001b[0m\n\u001b[0;32m-> 2139\u001b[0;31m             \u001b[0;32mreturn\u001b[0m \u001b[0mself\u001b[0m\u001b[0;34m.\u001b[0m\u001b[0m_getitem_column\u001b[0m\u001b[0;34m(\u001b[0m\u001b[0mkey\u001b[0m\u001b[0;34m)\u001b[0m\u001b[0;34m\u001b[0m\u001b[0m\n\u001b[0m\u001b[1;32m   2140\u001b[0m \u001b[0;34m\u001b[0m\u001b[0m\n\u001b[1;32m   2141\u001b[0m     \u001b[0;32mdef\u001b[0m \u001b[0m_getitem_column\u001b[0m\u001b[0;34m(\u001b[0m\u001b[0mself\u001b[0m\u001b[0;34m,\u001b[0m \u001b[0mkey\u001b[0m\u001b[0;34m)\u001b[0m\u001b[0;34m:\u001b[0m\u001b[0;34m\u001b[0m\u001b[0m\n",
      "\u001b[0;32m/anaconda3/lib/python3.6/site-packages/pandas/core/frame.py\u001b[0m in \u001b[0;36m_getitem_column\u001b[0;34m(self, key)\u001b[0m\n\u001b[1;32m   2144\u001b[0m         \u001b[0;31m# get column\u001b[0m\u001b[0;34m\u001b[0m\u001b[0;34m\u001b[0m\u001b[0m\n\u001b[1;32m   2145\u001b[0m         \u001b[0;32mif\u001b[0m \u001b[0mself\u001b[0m\u001b[0;34m.\u001b[0m\u001b[0mcolumns\u001b[0m\u001b[0;34m.\u001b[0m\u001b[0mis_unique\u001b[0m\u001b[0;34m:\u001b[0m\u001b[0;34m\u001b[0m\u001b[0m\n\u001b[0;32m-> 2146\u001b[0;31m             \u001b[0;32mreturn\u001b[0m \u001b[0mself\u001b[0m\u001b[0;34m.\u001b[0m\u001b[0m_get_item_cache\u001b[0m\u001b[0;34m(\u001b[0m\u001b[0mkey\u001b[0m\u001b[0;34m)\u001b[0m\u001b[0;34m\u001b[0m\u001b[0m\n\u001b[0m\u001b[1;32m   2147\u001b[0m \u001b[0;34m\u001b[0m\u001b[0m\n\u001b[1;32m   2148\u001b[0m         \u001b[0;31m# duplicate columns & possible reduce dimensionality\u001b[0m\u001b[0;34m\u001b[0m\u001b[0;34m\u001b[0m\u001b[0m\n",
      "\u001b[0;32m/anaconda3/lib/python3.6/site-packages/pandas/core/generic.py\u001b[0m in \u001b[0;36m_get_item_cache\u001b[0;34m(self, item)\u001b[0m\n\u001b[1;32m   1840\u001b[0m         \u001b[0mres\u001b[0m \u001b[0;34m=\u001b[0m \u001b[0mcache\u001b[0m\u001b[0;34m.\u001b[0m\u001b[0mget\u001b[0m\u001b[0;34m(\u001b[0m\u001b[0mitem\u001b[0m\u001b[0;34m)\u001b[0m\u001b[0;34m\u001b[0m\u001b[0m\n\u001b[1;32m   1841\u001b[0m         \u001b[0;32mif\u001b[0m \u001b[0mres\u001b[0m \u001b[0;32mis\u001b[0m \u001b[0;32mNone\u001b[0m\u001b[0;34m:\u001b[0m\u001b[0;34m\u001b[0m\u001b[0m\n\u001b[0;32m-> 1842\u001b[0;31m             \u001b[0mvalues\u001b[0m \u001b[0;34m=\u001b[0m \u001b[0mself\u001b[0m\u001b[0;34m.\u001b[0m\u001b[0m_data\u001b[0m\u001b[0;34m.\u001b[0m\u001b[0mget\u001b[0m\u001b[0;34m(\u001b[0m\u001b[0mitem\u001b[0m\u001b[0;34m)\u001b[0m\u001b[0;34m\u001b[0m\u001b[0m\n\u001b[0m\u001b[1;32m   1843\u001b[0m             \u001b[0mres\u001b[0m \u001b[0;34m=\u001b[0m \u001b[0mself\u001b[0m\u001b[0;34m.\u001b[0m\u001b[0m_box_item_values\u001b[0m\u001b[0;34m(\u001b[0m\u001b[0mitem\u001b[0m\u001b[0;34m,\u001b[0m \u001b[0mvalues\u001b[0m\u001b[0;34m)\u001b[0m\u001b[0;34m\u001b[0m\u001b[0m\n\u001b[1;32m   1844\u001b[0m             \u001b[0mcache\u001b[0m\u001b[0;34m[\u001b[0m\u001b[0mitem\u001b[0m\u001b[0;34m]\u001b[0m \u001b[0;34m=\u001b[0m \u001b[0mres\u001b[0m\u001b[0;34m\u001b[0m\u001b[0m\n",
      "\u001b[0;32m/anaconda3/lib/python3.6/site-packages/pandas/core/internals.py\u001b[0m in \u001b[0;36mget\u001b[0;34m(self, item, fastpath)\u001b[0m\n\u001b[1;32m   3841\u001b[0m \u001b[0;34m\u001b[0m\u001b[0m\n\u001b[1;32m   3842\u001b[0m             \u001b[0;32mif\u001b[0m \u001b[0;32mnot\u001b[0m \u001b[0misna\u001b[0m\u001b[0;34m(\u001b[0m\u001b[0mitem\u001b[0m\u001b[0;34m)\u001b[0m\u001b[0;34m:\u001b[0m\u001b[0;34m\u001b[0m\u001b[0m\n\u001b[0;32m-> 3843\u001b[0;31m                 \u001b[0mloc\u001b[0m \u001b[0;34m=\u001b[0m \u001b[0mself\u001b[0m\u001b[0;34m.\u001b[0m\u001b[0mitems\u001b[0m\u001b[0;34m.\u001b[0m\u001b[0mget_loc\u001b[0m\u001b[0;34m(\u001b[0m\u001b[0mitem\u001b[0m\u001b[0;34m)\u001b[0m\u001b[0;34m\u001b[0m\u001b[0m\n\u001b[0m\u001b[1;32m   3844\u001b[0m             \u001b[0;32melse\u001b[0m\u001b[0;34m:\u001b[0m\u001b[0;34m\u001b[0m\u001b[0m\n\u001b[1;32m   3845\u001b[0m                 \u001b[0mindexer\u001b[0m \u001b[0;34m=\u001b[0m \u001b[0mnp\u001b[0m\u001b[0;34m.\u001b[0m\u001b[0marange\u001b[0m\u001b[0;34m(\u001b[0m\u001b[0mlen\u001b[0m\u001b[0;34m(\u001b[0m\u001b[0mself\u001b[0m\u001b[0;34m.\u001b[0m\u001b[0mitems\u001b[0m\u001b[0;34m)\u001b[0m\u001b[0;34m)\u001b[0m\u001b[0;34m[\u001b[0m\u001b[0misna\u001b[0m\u001b[0;34m(\u001b[0m\u001b[0mself\u001b[0m\u001b[0;34m.\u001b[0m\u001b[0mitems\u001b[0m\u001b[0;34m)\u001b[0m\u001b[0;34m]\u001b[0m\u001b[0;34m\u001b[0m\u001b[0m\n",
      "\u001b[0;32m/anaconda3/lib/python3.6/site-packages/pandas/core/indexes/base.py\u001b[0m in \u001b[0;36mget_loc\u001b[0;34m(self, key, method, tolerance)\u001b[0m\n\u001b[1;32m   2525\u001b[0m                 \u001b[0;32mreturn\u001b[0m \u001b[0mself\u001b[0m\u001b[0;34m.\u001b[0m\u001b[0m_engine\u001b[0m\u001b[0;34m.\u001b[0m\u001b[0mget_loc\u001b[0m\u001b[0;34m(\u001b[0m\u001b[0mkey\u001b[0m\u001b[0;34m)\u001b[0m\u001b[0;34m\u001b[0m\u001b[0m\n\u001b[1;32m   2526\u001b[0m             \u001b[0;32mexcept\u001b[0m \u001b[0mKeyError\u001b[0m\u001b[0;34m:\u001b[0m\u001b[0;34m\u001b[0m\u001b[0m\n\u001b[0;32m-> 2527\u001b[0;31m                 \u001b[0;32mreturn\u001b[0m \u001b[0mself\u001b[0m\u001b[0;34m.\u001b[0m\u001b[0m_engine\u001b[0m\u001b[0;34m.\u001b[0m\u001b[0mget_loc\u001b[0m\u001b[0;34m(\u001b[0m\u001b[0mself\u001b[0m\u001b[0;34m.\u001b[0m\u001b[0m_maybe_cast_indexer\u001b[0m\u001b[0;34m(\u001b[0m\u001b[0mkey\u001b[0m\u001b[0;34m)\u001b[0m\u001b[0;34m)\u001b[0m\u001b[0;34m\u001b[0m\u001b[0m\n\u001b[0m\u001b[1;32m   2528\u001b[0m \u001b[0;34m\u001b[0m\u001b[0m\n\u001b[1;32m   2529\u001b[0m         \u001b[0mindexer\u001b[0m \u001b[0;34m=\u001b[0m \u001b[0mself\u001b[0m\u001b[0;34m.\u001b[0m\u001b[0mget_indexer\u001b[0m\u001b[0;34m(\u001b[0m\u001b[0;34m[\u001b[0m\u001b[0mkey\u001b[0m\u001b[0;34m]\u001b[0m\u001b[0;34m,\u001b[0m \u001b[0mmethod\u001b[0m\u001b[0;34m=\u001b[0m\u001b[0mmethod\u001b[0m\u001b[0;34m,\u001b[0m \u001b[0mtolerance\u001b[0m\u001b[0;34m=\u001b[0m\u001b[0mtolerance\u001b[0m\u001b[0;34m)\u001b[0m\u001b[0;34m\u001b[0m\u001b[0m\n",
      "\u001b[0;32mpandas/_libs/index.pyx\u001b[0m in \u001b[0;36mpandas._libs.index.IndexEngine.get_loc\u001b[0;34m()\u001b[0m\n",
      "\u001b[0;32mpandas/_libs/index.pyx\u001b[0m in \u001b[0;36mpandas._libs.index.IndexEngine.get_loc\u001b[0;34m()\u001b[0m\n",
      "\u001b[0;32mpandas/_libs/hashtable_class_helper.pxi\u001b[0m in \u001b[0;36mpandas._libs.hashtable.PyObjectHashTable.get_item\u001b[0;34m()\u001b[0m\n",
      "\u001b[0;32mpandas/_libs/hashtable_class_helper.pxi\u001b[0m in \u001b[0;36mpandas._libs.hashtable.PyObjectHashTable.get_item\u001b[0;34m()\u001b[0m\n",
      "\u001b[0;31mKeyError\u001b[0m: '소방서갯수'"
     ]
    },
    {
     "data": {
      "image/png": "[encoded data removed]",
      "text/plain": [
       "<matplotlib.figure.Figure at 0x1a243a4080>"
      ]
     },
     "metadata": {},
     "output_type": "display_data"
    }
   ],
   "source": [
    "sns.pairplot(df_final_factory_scale, vars=['소방서갯수', '공장갯수', '종업원수평균', '가중치점수'], kind = 'reg', size = 3)\n",
    "plt.show()"
   ]
  },
  {
   "cell_type": "code",
   "execution_count": 73,
   "metadata": {},
   "outputs": [
    {
     "data": {
      "image/png": "[encoded data removed]",
      "text/plain": [
       "<matplotlib.figure.Figure at 0x1a1763d2e8>"
      ]
     },
     "metadata": {},
     "output_type": "display_data"
    }
   ],
   "source": [
    "sns.pairplot(df_final_factory_scale, x_vars=[\"종업원수평균\", \"가중치점수\"], y_vars=[\"소방서갯수\", \"공장갯수\"], kind = 'reg', size = 6) \n",
    "plt.show() "
   ]
  },
  {
   "cell_type": "code",
   "execution_count": 116,
   "metadata": {},
   "outputs": [
    {
     "ename": "KeyError",
     "evalue": "\"['소방서갯수' '공장갯수' '종업원수평균' '가중치점수'] not in index\"",
     "output_type": "error",
     "traceback": [
      "\u001b[0;31m---------------------------------------------------------------------------\u001b[0m",
      "\u001b[0;31mKeyError\u001b[0m                                  Traceback (most recent call last)",
      "\u001b[0;32m<ipython-input-116-ac1fd38b91da>\u001b[0m in \u001b[0;36m<module>\u001b[0;34m()\u001b[0m\n\u001b[1;32m      2\u001b[0m \u001b[0;34m\u001b[0m\u001b[0m\n\u001b[1;32m      3\u001b[0m \u001b[0mplt\u001b[0m\u001b[0;34m.\u001b[0m\u001b[0mfigure\u001b[0m\u001b[0;34m(\u001b[0m\u001b[0mfigsize\u001b[0m \u001b[0;34m=\u001b[0m \u001b[0;34m(\u001b[0m\u001b[0;36m10\u001b[0m\u001b[0;34m,\u001b[0m \u001b[0;36m10\u001b[0m\u001b[0;34m)\u001b[0m\u001b[0;34m)\u001b[0m\u001b[0;34m\u001b[0m\u001b[0m\n\u001b[0;32m----> 4\u001b[0;31m \u001b[0msns\u001b[0m\u001b[0;34m.\u001b[0m\u001b[0mheatmap\u001b[0m\u001b[0;34m(\u001b[0m\u001b[0mdf_final_factory_scale\u001b[0m\u001b[0;34m[\u001b[0m\u001b[0mtarget_col\u001b[0m\u001b[0;34m]\u001b[0m\u001b[0;34m,\u001b[0m \u001b[0mannot\u001b[0m\u001b[0;34m=\u001b[0m\u001b[0;32mTrue\u001b[0m\u001b[0;34m,\u001b[0m \u001b[0mlinewidths\u001b[0m\u001b[0;34m=\u001b[0m\u001b[0;36m.5\u001b[0m\u001b[0;34m,\u001b[0m \u001b[0mcmap\u001b[0m\u001b[0;34m=\u001b[0m\u001b[0;34m'Blues'\u001b[0m\u001b[0;34m)\u001b[0m \u001b[0;31m# fmt='f'\u001b[0m\u001b[0;34m\u001b[0m\u001b[0m\n\u001b[0m\u001b[1;32m      5\u001b[0m \u001b[0mplt\u001b[0m\u001b[0;34m.\u001b[0m\u001b[0mshow\u001b[0m\u001b[0;34m(\u001b[0m\u001b[0;34m)\u001b[0m\u001b[0;34m\u001b[0m\u001b[0m\n\u001b[1;32m      6\u001b[0m \u001b[0;31m# annot: 각 셀의 값 표시여부\u001b[0m\u001b[0;34m\u001b[0m\u001b[0;34m\u001b[0m\u001b[0m\n",
      "\u001b[0;32m/anaconda3/lib/python3.6/site-packages/pandas/core/frame.py\u001b[0m in \u001b[0;36m__getitem__\u001b[0;34m(self, key)\u001b[0m\n\u001b[1;32m   2131\u001b[0m         \u001b[0;32mif\u001b[0m \u001b[0misinstance\u001b[0m\u001b[0;34m(\u001b[0m\u001b[0mkey\u001b[0m\u001b[0;34m,\u001b[0m \u001b[0;34m(\u001b[0m\u001b[0mSeries\u001b[0m\u001b[0;34m,\u001b[0m \u001b[0mnp\u001b[0m\u001b[0;34m.\u001b[0m\u001b[0mndarray\u001b[0m\u001b[0;34m,\u001b[0m \u001b[0mIndex\u001b[0m\u001b[0;34m,\u001b[0m \u001b[0mlist\u001b[0m\u001b[0;34m)\u001b[0m\u001b[0;34m)\u001b[0m\u001b[0;34m:\u001b[0m\u001b[0;34m\u001b[0m\u001b[0m\n\u001b[1;32m   2132\u001b[0m             \u001b[0;31m# either boolean or fancy integer index\u001b[0m\u001b[0;34m\u001b[0m\u001b[0;34m\u001b[0m\u001b[0m\n\u001b[0;32m-> 2133\u001b[0;31m             \u001b[0;32mreturn\u001b[0m \u001b[0mself\u001b[0m\u001b[0;34m.\u001b[0m\u001b[0m_getitem_array\u001b[0m\u001b[0;34m(\u001b[0m\u001b[0mkey\u001b[0m\u001b[0;34m)\u001b[0m\u001b[0;34m\u001b[0m\u001b[0m\n\u001b[0m\u001b[1;32m   2134\u001b[0m         \u001b[0;32melif\u001b[0m \u001b[0misinstance\u001b[0m\u001b[0;34m(\u001b[0m\u001b[0mkey\u001b[0m\u001b[0;34m,\u001b[0m \u001b[0mDataFrame\u001b[0m\u001b[0;34m)\u001b[0m\u001b[0;34m:\u001b[0m\u001b[0;34m\u001b[0m\u001b[0m\n\u001b[1;32m   2135\u001b[0m             \u001b[0;32mreturn\u001b[0m \u001b[0mself\u001b[0m\u001b[0;34m.\u001b[0m\u001b[0m_getitem_frame\u001b[0m\u001b[0;34m(\u001b[0m\u001b[0mkey\u001b[0m\u001b[0;34m)\u001b[0m\u001b[0;34m\u001b[0m\u001b[0m\n",
      "\u001b[0;32m/anaconda3/lib/python3.6/site-packages/pandas/core/frame.py\u001b[0m in \u001b[0;36m_getitem_array\u001b[0;34m(self, key)\u001b[0m\n\u001b[1;32m   2175\u001b[0m             \u001b[0;32mreturn\u001b[0m \u001b[0mself\u001b[0m\u001b[0;34m.\u001b[0m\u001b[0m_take\u001b[0m\u001b[0;34m(\u001b[0m\u001b[0mindexer\u001b[0m\u001b[0;34m,\u001b[0m \u001b[0maxis\u001b[0m\u001b[0;34m=\u001b[0m\u001b[0;36m0\u001b[0m\u001b[0;34m,\u001b[0m \u001b[0mconvert\u001b[0m\u001b[0;34m=\u001b[0m\u001b[0;32mFalse\u001b[0m\u001b[0;34m)\u001b[0m\u001b[0;34m\u001b[0m\u001b[0m\n\u001b[1;32m   2176\u001b[0m         \u001b[0;32melse\u001b[0m\u001b[0;34m:\u001b[0m\u001b[0;34m\u001b[0m\u001b[0m\n\u001b[0;32m-> 2177\u001b[0;31m             \u001b[0mindexer\u001b[0m \u001b[0;34m=\u001b[0m \u001b[0mself\u001b[0m\u001b[0;34m.\u001b[0m\u001b[0mloc\u001b[0m\u001b[0;34m.\u001b[0m\u001b[0m_convert_to_indexer\u001b[0m\u001b[0;34m(\u001b[0m\u001b[0mkey\u001b[0m\u001b[0;34m,\u001b[0m \u001b[0maxis\u001b[0m\u001b[0;34m=\u001b[0m\u001b[0;36m1\u001b[0m\u001b[0;34m)\u001b[0m\u001b[0;34m\u001b[0m\u001b[0m\n\u001b[0m\u001b[1;32m   2178\u001b[0m             \u001b[0;32mreturn\u001b[0m \u001b[0mself\u001b[0m\u001b[0;34m.\u001b[0m\u001b[0m_take\u001b[0m\u001b[0;34m(\u001b[0m\u001b[0mindexer\u001b[0m\u001b[0;34m,\u001b[0m \u001b[0maxis\u001b[0m\u001b[0;34m=\u001b[0m\u001b[0;36m1\u001b[0m\u001b[0;34m,\u001b[0m \u001b[0mconvert\u001b[0m\u001b[0;34m=\u001b[0m\u001b[0;32mTrue\u001b[0m\u001b[0;34m)\u001b[0m\u001b[0;34m\u001b[0m\u001b[0m\n\u001b[1;32m   2179\u001b[0m \u001b[0;34m\u001b[0m\u001b[0m\n",
      "\u001b[0;32m/anaconda3/lib/python3.6/site-packages/pandas/core/indexing.py\u001b[0m in \u001b[0;36m_convert_to_indexer\u001b[0;34m(self, obj, axis, is_setter)\u001b[0m\n\u001b[1;32m   1267\u001b[0m                 \u001b[0;32mif\u001b[0m \u001b[0mmask\u001b[0m\u001b[0;34m.\u001b[0m\u001b[0many\u001b[0m\u001b[0;34m(\u001b[0m\u001b[0;34m)\u001b[0m\u001b[0;34m:\u001b[0m\u001b[0;34m\u001b[0m\u001b[0m\n\u001b[1;32m   1268\u001b[0m                     raise KeyError('{mask} not in index'\n\u001b[0;32m-> 1269\u001b[0;31m                                    .format(mask=objarr[mask]))\n\u001b[0m\u001b[1;32m   1270\u001b[0m \u001b[0;34m\u001b[0m\u001b[0m\n\u001b[1;32m   1271\u001b[0m                 \u001b[0;32mreturn\u001b[0m \u001b[0m_values_from_object\u001b[0m\u001b[0;34m(\u001b[0m\u001b[0mindexer\u001b[0m\u001b[0;34m)\u001b[0m\u001b[0;34m\u001b[0m\u001b[0m\n",
      "\u001b[0;31mKeyError\u001b[0m: \"['소방서갯수' '공장갯수' '종업원수평균' '가중치점수'] not in index\""
     ]
    },
    {
     "data": {
      "text/plain": [
       "<matplotlib.figure.Figure at 0x1a21b19ac8>"
      ]
     },
     "metadata": {},
     "output_type": "display_data"
    }
   ],
   "source": [
    "#히트맵 그리는 법\n",
    "target_col = ['소방서갯수', '공장갯수', '종업원수평균', '가중치점수']\n",
    "\n",
    "plt.figure(figsize = (10, 10))\n",
    "sns.heatmap(df_final_factory_scale[target_col], annot=True, linewidths=.5, cmap='Blues') # fmt='f'\n",
    "plt.show()\n",
    "# annot: 각 셀의 값 표시여부\n",
    "# fmt: annot=True일 경우 숫자 표시 타입 지정"
   ]
  },
  {
   "cell_type": "code",
   "execution_count": 75,
   "metadata": {},
   "outputs": [
    {
     "data": {
      "image/png": "[encoded data removed]",
      "text/plain": [
       "<matplotlib.figure.Figure at 0x1a176c34a8>"
      ]
     },
     "metadata": {},
     "output_type": "display_data"
    }
   ],
   "source": [
    "plt.figure(figsize=(6,6))\n",
    "plt.scatter(df_final_factory_scale['소방서갯수'], df_final_factory_scale['공장갯수'], s=50) # scatter함수 사용. s : 점크기\n",
    "plt.xlabel('소방서갯수') # x축라벨정함\n",
    "plt.ylabel('공장갯수') #y축라벨정함, plt.title(‘ ‘) :그래프제목정하기\n",
    "plt.grid() # 격자무늬 만들기\n",
    "plt.show()"
   ]
  },
  {
   "cell_type": "code",
   "execution_count": 76,
   "metadata": {},
   "outputs": [
    {
     "data": {
      "image/png": "[encoded data removed]",
      "text/plain": [
       "<matplotlib.figure.Figure at 0x1a181f5da0>"
      ]
     },
     "metadata": {},
     "output_type": "display_data"
    }
   ],
   "source": [
    "fp1 = np.polyfit(df_final_factory_scale['소방서갯수'], df_final_factory_scale['공장갯수'], 1) # ‘소방서갯수’와 공장갯수의 1차항 회귀계수생성 \n",
    "fp1 # ([기울기, 절편])\n",
    "f1 = np.poly1d(fp1) # poly1d: y축 데이터 생성\n",
    "fx = np.linspace(5, 40, 5) # linespace: x축 데이터 생성 5~40까지 5단위로\n",
    "plt.figure(figsize=(10,10))\n",
    "plt.scatter(df_final_factory_scale['소방서갯수'], df_final_factory_scale['공장갯수'], s=50)\n",
    "plt.plot(fx, f1(fx), ls = 'dashed', lw = 3, color = 'r') # (x값, y값, dashed : 점선, lw : line width, r=빨강)\n",
    "plt.show()"
   ]
  },
  {
   "cell_type": "code",
   "execution_count": 78,
   "metadata": {},
   "outputs": [
    {
     "data": {
      "image/png": "[encoded data removed]",
      "text/plain": [
       "<matplotlib.figure.Figure at 0x1a183b2898>"
      ]
     },
     "metadata": {},
     "output_type": "display_data"
    }
   ],
   "source": [
    "plt.figure(figsize=(14,10))\n",
    "plt.scatter(df_final_factory_scale['소방서갯수'], df_final_factory_scale['공장갯수'], s=50) \n",
    "plt.plot(fx, f1(fx), ls='dashed', lw=3, color='r')\n",
    "\n",
    "for n in range(5): #제일 멀리있는 지역 5개 확인\n",
    "    plt.text(df_final_factory_scale['소방서갯수'][n]*1.02, df_final_factory_scale['공장갯수'][n]*0.98, #글자위치지\n",
    "             df_final_factory_scale.index[n], fontsize=12)\n",
    "\n",
    "plt.xlabel('소방서갯수')\n",
    "plt.ylabel('공장갯수')\n",
    "\n",
    "#plt.colorbar()\n",
    "plt.grid()\n",
    "plt.show()\n"
   ]
  },
  {
   "cell_type": "code",
   "execution_count": 71,
   "metadata": {},
   "outputs": [
    {
     "data": {
      "image/png": "[encoded data removed]",
      "text/plain": [
       "<matplotlib.figure.Figure at 0x1a1e2327b8>"
      ]
     },
     "metadata": {},
     "output_type": "display_data"
    }
   ],
   "source": [
    "df_final_factory_scale['공장갯수'].sort_values().plot(kind = 'barh', grid = True, figsize = (10,10)) #데이터정렬하기\n",
    "plt.show()"
   ]
  },
  {
   "cell_type": "code",
   "execution_count": 72,
   "metadata": {},
   "outputs": [
    {
     "data": {
      "image/png": "[encoded data removed]",
      "text/plain": [
       "<matplotlib.figure.Figure at 0x10d0249b0>"
      ]
     },
     "metadata": {},
     "output_type": "display_data"
    }
   ],
   "source": [
    "df_final_factory_scale['공장갯수비율'] = df_final_factory_scale['소방서갯수'] / df_final_factory_scale['공장갯수'] *100\n",
    "df_final_factory_scale['공장갯수비율'].sort_values().plot(kind = 'barh', grid = True, figsize = (10,10)) #데이터 정렬하기\n",
    "plt.show()"
   ]
  },
  {
   "cell_type": "code",
   "execution_count": null,
   "metadata": {},
   "outputs": [],
   "source": []
  }
 ],
 "metadata": {
  "kernelspec": {
   "display_name": "Python 3",
   "language": "python",
   "name": "python3"
  },
  "language_info": {
   "codemirror_mode": {
    "name": "ipython",
    "version": 3
   },
   "file_extension": ".py",
   "mimetype": "text/x-python",
   "name": "python",
   "nbconvert_exporter": "python",
   "pygments_lexer": "ipython3",
   "version": "3.6.8"
  }
 },
 "nbformat": 4,
 "nbformat_minor": 2
}
