{
 "cells": [
  {
   "cell_type": "code",
   "execution_count": 1,
   "metadata": {},
   "outputs": [],
   "source": [
    "import platform\n",
    "import pandas as pd\n",
    "import numpy as np\n",
    "from pandas import Series, DataFrame"
   ]
  },
  {
   "cell_type": "code",
   "execution_count": 2,
   "metadata": {},
   "outputs": [
    {
     "data": {
      "text/html": [
       "<div>\n",
       "<style scoped>\n",
       "    .dataframe tbody tr th:only-of-type {\n",
       "        vertical-align: middle;\n",
       "    }\n",
       "\n",
       "    .dataframe tbody tr th {\n",
       "        vertical-align: top;\n",
       "    }\n",
       "\n",
       "    .dataframe thead th {\n",
       "        text-align: right;\n",
       "    }\n",
       "</style>\n",
       "<table border=\"1\" class=\"dataframe\">\n",
       "  <thead>\n",
       "    <tr style=\"text-align: right;\">\n",
       "      <th></th>\n",
       "      <th>순번</th>\n",
       "      <th>시도본부</th>\n",
       "      <th>소방서</th>\n",
       "      <th>119안전센터명</th>\n",
       "      <th>주소</th>\n",
       "      <th>전화번호</th>\n",
       "    </tr>\n",
       "  </thead>\n",
       "  <tbody>\n",
       "    <tr>\n",
       "      <th>0</th>\n",
       "      <td>1</td>\n",
       "      <td>서울소방재난본부</td>\n",
       "      <td>종로소방서</td>\n",
       "      <td>세종로</td>\n",
       "      <td>서울특별시 종로구 종로1길 28 (수송동)</td>\n",
       "      <td>02-734-0119</td>\n",
       "    </tr>\n",
       "    <tr>\n",
       "      <th>1</th>\n",
       "      <td>2</td>\n",
       "      <td>서울소방재난본부</td>\n",
       "      <td>종로소방서</td>\n",
       "      <td>신교</td>\n",
       "      <td>서울특별시 종로구 자하문로 93 (신교동)</td>\n",
       "      <td>02-736-0119</td>\n",
       "    </tr>\n",
       "    <tr>\n",
       "      <th>2</th>\n",
       "      <td>3</td>\n",
       "      <td>서울소방재난본부</td>\n",
       "      <td>종로소방서</td>\n",
       "      <td>종로</td>\n",
       "      <td>서울특별시 종로구 돈화문로 30 (묘동)</td>\n",
       "      <td>02-764-0119</td>\n",
       "    </tr>\n",
       "    <tr>\n",
       "      <th>3</th>\n",
       "      <td>4</td>\n",
       "      <td>서울소방재난본부</td>\n",
       "      <td>종로소방서</td>\n",
       "      <td>연건</td>\n",
       "      <td>서울특별시 종로구 대학로 91 (연건동)</td>\n",
       "      <td>02-762-0119</td>\n",
       "    </tr>\n",
       "    <tr>\n",
       "      <th>4</th>\n",
       "      <td>5</td>\n",
       "      <td>서울소방재난본부</td>\n",
       "      <td>종로소방서</td>\n",
       "      <td>신영</td>\n",
       "      <td>서울특별시 종로구 진흥로 477 (신영동)</td>\n",
       "      <td>02-391-0119</td>\n",
       "    </tr>\n",
       "  </tbody>\n",
       "</table>\n",
       "</div>"
      ],
      "text/plain": [
       "   순번      시도본부    소방서 119안전센터명                       주소         전화번호\n",
       "0   1  서울소방재난본부  종로소방서      세종로  서울특별시 종로구 종로1길 28 (수송동)  02-734-0119\n",
       "1   2  서울소방재난본부  종로소방서       신교  서울특별시 종로구 자하문로 93 (신교동)  02-736-0119\n",
       "2   3  서울소방재난본부  종로소방서       종로   서울특별시 종로구 돈화문로 30 (묘동)  02-764-0119\n",
       "3   4  서울소방재난본부  종로소방서       연건   서울특별시 종로구 대학로 91 (연건동)  02-762-0119\n",
       "4   5  서울소방재난본부  종로소방서       신영  서울특별시 종로구 진흥로 477 (신영동)  02-391-0119"
      ]
     },
     "execution_count": 2,
     "metadata": {},
     "output_type": "execute_result"
    }
   ],
   "source": [
    "firestaion = pd.read_csv('전국 119안전센터 현황.csv', encoding = 'CP949')\n",
    "firestaion.head(5)"
   ]
  },
  {
   "cell_type": "code",
   "execution_count": 3,
   "metadata": {},
   "outputs": [
    {
     "name": "stdout",
     "output_type": "stream",
     "text": [
      "<class 'pandas.core.frame.DataFrame'>\n",
      "RangeIndex: 1027 entries, 0 to 1026\n",
      "Data columns (total 6 columns):\n",
      "순번          1027 non-null int64\n",
      "시도본부        1027 non-null object\n",
      "소방서         1027 non-null object\n",
      "119안전센터명    1027 non-null object\n",
      "주소          1027 non-null object\n",
      "전화번호        1027 non-null object\n",
      "dtypes: int64(1), object(5)\n",
      "memory usage: 48.2+ KB\n"
     ]
    }
   ],
   "source": [
    "firestaion.info()"
   ]
  },
  {
   "cell_type": "code",
   "execution_count": 4,
   "metadata": {},
   "outputs": [
    {
     "data": {
      "text/plain": [
       "(1027, 6)"
      ]
     },
     "execution_count": 4,
     "metadata": {},
     "output_type": "execute_result"
    }
   ],
   "source": [
    "firestaion.shape"
   ]
  },
  {
   "cell_type": "code",
   "execution_count": 5,
   "metadata": {},
   "outputs": [
    {
     "data": {
      "text/plain": [
       "Index(['순번', '시도본부', '소방서', '119안전센터명', '주소', '전화번호'], dtype='object')"
      ]
     },
     "execution_count": 5,
     "metadata": {},
     "output_type": "execute_result"
    }
   ],
   "source": [
    "firestaion.columns"
   ]
  },
  {
   "cell_type": "code",
   "execution_count": 6,
   "metadata": {},
   "outputs": [
    {
     "data": {
      "text/html": [
       "<div>\n",
       "<style scoped>\n",
       "    .dataframe tbody tr th:only-of-type {\n",
       "        vertical-align: middle;\n",
       "    }\n",
       "\n",
       "    .dataframe tbody tr th {\n",
       "        vertical-align: top;\n",
       "    }\n",
       "\n",
       "    .dataframe thead th {\n",
       "        text-align: right;\n",
       "    }\n",
       "</style>\n",
       "<table border=\"1\" class=\"dataframe\">\n",
       "  <thead>\n",
       "    <tr style=\"text-align: right;\">\n",
       "      <th></th>\n",
       "      <th>시도본부</th>\n",
       "      <th>소방서</th>\n",
       "      <th>119안전센터명</th>\n",
       "      <th>주소</th>\n",
       "    </tr>\n",
       "  </thead>\n",
       "  <tbody>\n",
       "    <tr>\n",
       "      <th>0</th>\n",
       "      <td>서울소방재난본부</td>\n",
       "      <td>종로소방서</td>\n",
       "      <td>세종로</td>\n",
       "      <td>서울특별시 종로구 종로1길 28 (수송동)</td>\n",
       "    </tr>\n",
       "    <tr>\n",
       "      <th>1</th>\n",
       "      <td>서울소방재난본부</td>\n",
       "      <td>종로소방서</td>\n",
       "      <td>신교</td>\n",
       "      <td>서울특별시 종로구 자하문로 93 (신교동)</td>\n",
       "    </tr>\n",
       "    <tr>\n",
       "      <th>2</th>\n",
       "      <td>서울소방재난본부</td>\n",
       "      <td>종로소방서</td>\n",
       "      <td>종로</td>\n",
       "      <td>서울특별시 종로구 돈화문로 30 (묘동)</td>\n",
       "    </tr>\n",
       "    <tr>\n",
       "      <th>3</th>\n",
       "      <td>서울소방재난본부</td>\n",
       "      <td>종로소방서</td>\n",
       "      <td>연건</td>\n",
       "      <td>서울특별시 종로구 대학로 91 (연건동)</td>\n",
       "    </tr>\n",
       "    <tr>\n",
       "      <th>4</th>\n",
       "      <td>서울소방재난본부</td>\n",
       "      <td>종로소방서</td>\n",
       "      <td>신영</td>\n",
       "      <td>서울특별시 종로구 진흥로 477 (신영동)</td>\n",
       "    </tr>\n",
       "  </tbody>\n",
       "</table>\n",
       "</div>"
      ],
      "text/plain": [
       "       시도본부    소방서 119안전센터명                       주소\n",
       "0  서울소방재난본부  종로소방서      세종로  서울특별시 종로구 종로1길 28 (수송동)\n",
       "1  서울소방재난본부  종로소방서       신교  서울특별시 종로구 자하문로 93 (신교동)\n",
       "2  서울소방재난본부  종로소방서       종로   서울특별시 종로구 돈화문로 30 (묘동)\n",
       "3  서울소방재난본부  종로소방서       연건   서울특별시 종로구 대학로 91 (연건동)\n",
       "4  서울소방재난본부  종로소방서       신영  서울특별시 종로구 진흥로 477 (신영동)"
      ]
     },
     "execution_count": 6,
     "metadata": {},
     "output_type": "execute_result"
    }
   ],
   "source": [
    "firestaion = firestaion[[\"시도본부\",\"소방서\",\"119안전센터명\",\"주소\"]]\n",
    "firestaion.head(5)"
   ]
  },
  {
   "cell_type": "code",
   "execution_count": 7,
   "metadata": {},
   "outputs": [
    {
     "data": {
      "text/html": [
       "<div>\n",
       "<style scoped>\n",
       "    .dataframe tbody tr th:only-of-type {\n",
       "        vertical-align: middle;\n",
       "    }\n",
       "\n",
       "    .dataframe tbody tr th {\n",
       "        vertical-align: top;\n",
       "    }\n",
       "\n",
       "    .dataframe thead th {\n",
       "        text-align: right;\n",
       "    }\n",
       "</style>\n",
       "<table border=\"1\" class=\"dataframe\">\n",
       "  <thead>\n",
       "    <tr style=\"text-align: right;\">\n",
       "      <th></th>\n",
       "      <th>시도본부</th>\n",
       "      <th>소방서</th>\n",
       "      <th>119안전센터명</th>\n",
       "      <th>주소</th>\n",
       "    </tr>\n",
       "  </thead>\n",
       "  <tbody>\n",
       "    <tr>\n",
       "      <th>0</th>\n",
       "      <td>서울소방재난본부</td>\n",
       "      <td>종로소방서</td>\n",
       "      <td>세종로</td>\n",
       "      <td>서울특별시 종로구 종로1길 28 (수송동)</td>\n",
       "    </tr>\n",
       "    <tr>\n",
       "      <th>1</th>\n",
       "      <td>서울소방재난본부</td>\n",
       "      <td>종로소방서</td>\n",
       "      <td>신교</td>\n",
       "      <td>서울특별시 종로구 자하문로 93 (신교동)</td>\n",
       "    </tr>\n",
       "    <tr>\n",
       "      <th>2</th>\n",
       "      <td>서울소방재난본부</td>\n",
       "      <td>종로소방서</td>\n",
       "      <td>종로</td>\n",
       "      <td>서울특별시 종로구 돈화문로 30 (묘동)</td>\n",
       "    </tr>\n",
       "    <tr>\n",
       "      <th>3</th>\n",
       "      <td>서울소방재난본부</td>\n",
       "      <td>종로소방서</td>\n",
       "      <td>연건</td>\n",
       "      <td>서울특별시 종로구 대학로 91 (연건동)</td>\n",
       "    </tr>\n",
       "    <tr>\n",
       "      <th>4</th>\n",
       "      <td>서울소방재난본부</td>\n",
       "      <td>종로소방서</td>\n",
       "      <td>신영</td>\n",
       "      <td>서울특별시 종로구 진흥로 477 (신영동)</td>\n",
       "    </tr>\n",
       "  </tbody>\n",
       "</table>\n",
       "</div>"
      ],
      "text/plain": [
       "       시도본부    소방서 119안전센터명                       주소\n",
       "0  서울소방재난본부  종로소방서      세종로  서울특별시 종로구 종로1길 28 (수송동)\n",
       "1  서울소방재난본부  종로소방서       신교  서울특별시 종로구 자하문로 93 (신교동)\n",
       "2  서울소방재난본부  종로소방서       종로   서울특별시 종로구 돈화문로 30 (묘동)\n",
       "3  서울소방재난본부  종로소방서       연건   서울특별시 종로구 대학로 91 (연건동)\n",
       "4  서울소방재난본부  종로소방서       신영  서울특별시 종로구 진흥로 477 (신영동)"
      ]
     },
     "execution_count": 7,
     "metadata": {},
     "output_type": "execute_result"
    }
   ],
   "source": [
    "firestation_seoul = firestaion.loc[firestaion[\"시도본부\"] == \"서울소방재난본부\"]\n",
    "firestation_seoul.head(5)"
   ]
  },
  {
   "cell_type": "code",
   "execution_count": 8,
   "metadata": {},
   "outputs": [
    {
     "name": "stderr",
     "output_type": "stream",
     "text": [
      "/anaconda3/lib/python3.6/site-packages/ipykernel_launcher.py:1: SettingWithCopyWarning: \n",
      "A value is trying to be set on a copy of a slice from a DataFrame.\n",
      "Try using .loc[row_indexer,col_indexer] = value instead\n",
      "\n",
      "See the caveats in the documentation: http://pandas.pydata.org/pandas-docs/stable/indexing.html#indexing-view-versus-copy\n",
      "  \"\"\"Entry point for launching an IPython kernel.\n"
     ]
    },
    {
     "data": {
      "text/html": [
       "<div>\n",
       "<style scoped>\n",
       "    .dataframe tbody tr th:only-of-type {\n",
       "        vertical-align: middle;\n",
       "    }\n",
       "\n",
       "    .dataframe tbody tr th {\n",
       "        vertical-align: top;\n",
       "    }\n",
       "\n",
       "    .dataframe thead th {\n",
       "        text-align: right;\n",
       "    }\n",
       "</style>\n",
       "<table border=\"1\" class=\"dataframe\">\n",
       "  <thead>\n",
       "    <tr style=\"text-align: right;\">\n",
       "      <th></th>\n",
       "      <th>시도본부</th>\n",
       "      <th>소방서</th>\n",
       "      <th>119안전센터명</th>\n",
       "      <th>주소</th>\n",
       "      <th>시군구</th>\n",
       "    </tr>\n",
       "  </thead>\n",
       "  <tbody>\n",
       "    <tr>\n",
       "      <th>0</th>\n",
       "      <td>서울소방재난본부</td>\n",
       "      <td>종로소방서</td>\n",
       "      <td>세종로</td>\n",
       "      <td>서울특별시 종로구 종로1길 28 (수송동)</td>\n",
       "      <td></td>\n",
       "    </tr>\n",
       "    <tr>\n",
       "      <th>1</th>\n",
       "      <td>서울소방재난본부</td>\n",
       "      <td>종로소방서</td>\n",
       "      <td>신교</td>\n",
       "      <td>서울특별시 종로구 자하문로 93 (신교동)</td>\n",
       "      <td></td>\n",
       "    </tr>\n",
       "    <tr>\n",
       "      <th>2</th>\n",
       "      <td>서울소방재난본부</td>\n",
       "      <td>종로소방서</td>\n",
       "      <td>종로</td>\n",
       "      <td>서울특별시 종로구 돈화문로 30 (묘동)</td>\n",
       "      <td></td>\n",
       "    </tr>\n",
       "    <tr>\n",
       "      <th>3</th>\n",
       "      <td>서울소방재난본부</td>\n",
       "      <td>종로소방서</td>\n",
       "      <td>연건</td>\n",
       "      <td>서울특별시 종로구 대학로 91 (연건동)</td>\n",
       "      <td></td>\n",
       "    </tr>\n",
       "    <tr>\n",
       "      <th>4</th>\n",
       "      <td>서울소방재난본부</td>\n",
       "      <td>종로소방서</td>\n",
       "      <td>신영</td>\n",
       "      <td>서울특별시 종로구 진흥로 477 (신영동)</td>\n",
       "      <td></td>\n",
       "    </tr>\n",
       "  </tbody>\n",
       "</table>\n",
       "</div>"
      ],
      "text/plain": [
       "       시도본부    소방서 119안전센터명                       주소 시군구\n",
       "0  서울소방재난본부  종로소방서      세종로  서울특별시 종로구 종로1길 28 (수송동)    \n",
       "1  서울소방재난본부  종로소방서       신교  서울특별시 종로구 자하문로 93 (신교동)    \n",
       "2  서울소방재난본부  종로소방서       종로   서울특별시 종로구 돈화문로 30 (묘동)    \n",
       "3  서울소방재난본부  종로소방서       연건   서울특별시 종로구 대학로 91 (연건동)    \n",
       "4  서울소방재난본부  종로소방서       신영  서울특별시 종로구 진흥로 477 (신영동)    "
      ]
     },
     "execution_count": 8,
     "metadata": {},
     "output_type": "execute_result"
    }
   ],
   "source": [
    "firestation_seoul['시군구']= ''\n",
    "firestation_seoul.head(5)"
   ]
  },
  {
   "cell_type": "code",
   "execution_count": 9,
   "metadata": {},
   "outputs": [
    {
     "data": {
      "text/plain": [
       "'영등포구'"
      ]
     },
     "execution_count": 9,
     "metadata": {},
     "output_type": "execute_result"
    }
   ],
   "source": [
    "firestation_seoul['주소'].values[33].split()[1]"
   ]
  },
  {
   "cell_type": "code",
   "execution_count": 10,
   "metadata": {},
   "outputs": [
    {
     "data": {
      "text/html": [
       "<div>\n",
       "<style scoped>\n",
       "    .dataframe tbody tr th:only-of-type {\n",
       "        vertical-align: middle;\n",
       "    }\n",
       "\n",
       "    .dataframe tbody tr th {\n",
       "        vertical-align: top;\n",
       "    }\n",
       "\n",
       "    .dataframe thead th {\n",
       "        text-align: right;\n",
       "    }\n",
       "</style>\n",
       "<table border=\"1\" class=\"dataframe\">\n",
       "  <thead>\n",
       "    <tr style=\"text-align: right;\">\n",
       "      <th></th>\n",
       "      <th>시도본부</th>\n",
       "      <th>소방서</th>\n",
       "      <th>119안전센터명</th>\n",
       "      <th>주소</th>\n",
       "      <th>시군구</th>\n",
       "    </tr>\n",
       "  </thead>\n",
       "  <tbody>\n",
       "    <tr>\n",
       "      <th>0</th>\n",
       "      <td>서울소방재난본부</td>\n",
       "      <td>종로소방서</td>\n",
       "      <td>세종로</td>\n",
       "      <td>서울특별시 종로구 종로1길 28 (수송동)</td>\n",
       "      <td>종로구</td>\n",
       "    </tr>\n",
       "    <tr>\n",
       "      <th>1</th>\n",
       "      <td>서울소방재난본부</td>\n",
       "      <td>종로소방서</td>\n",
       "      <td>신교</td>\n",
       "      <td>서울특별시 종로구 자하문로 93 (신교동)</td>\n",
       "      <td>종로구</td>\n",
       "    </tr>\n",
       "    <tr>\n",
       "      <th>2</th>\n",
       "      <td>서울소방재난본부</td>\n",
       "      <td>종로소방서</td>\n",
       "      <td>종로</td>\n",
       "      <td>서울특별시 종로구 돈화문로 30 (묘동)</td>\n",
       "      <td>종로구</td>\n",
       "    </tr>\n",
       "    <tr>\n",
       "      <th>3</th>\n",
       "      <td>서울소방재난본부</td>\n",
       "      <td>종로소방서</td>\n",
       "      <td>연건</td>\n",
       "      <td>서울특별시 종로구 대학로 91 (연건동)</td>\n",
       "      <td>종로구</td>\n",
       "    </tr>\n",
       "    <tr>\n",
       "      <th>4</th>\n",
       "      <td>서울소방재난본부</td>\n",
       "      <td>종로소방서</td>\n",
       "      <td>신영</td>\n",
       "      <td>서울특별시 종로구 진흥로 477 (신영동)</td>\n",
       "      <td>종로구</td>\n",
       "    </tr>\n",
       "  </tbody>\n",
       "</table>\n",
       "</div>"
      ],
      "text/plain": [
       "       시도본부    소방서 119안전센터명                       주소  시군구\n",
       "0  서울소방재난본부  종로소방서      세종로  서울특별시 종로구 종로1길 28 (수송동)  종로구\n",
       "1  서울소방재난본부  종로소방서       신교  서울특별시 종로구 자하문로 93 (신교동)  종로구\n",
       "2  서울소방재난본부  종로소방서       종로   서울특별시 종로구 돈화문로 30 (묘동)  종로구\n",
       "3  서울소방재난본부  종로소방서       연건   서울특별시 종로구 대학로 91 (연건동)  종로구\n",
       "4  서울소방재난본부  종로소방서       신영  서울특별시 종로구 진흥로 477 (신영동)  종로구"
      ]
     },
     "execution_count": 10,
     "metadata": {},
     "output_type": "execute_result"
    }
   ],
   "source": [
    "for n in np.arange(len(firestation_seoul)):\n",
    "    firestation_seoul['시군구'].values[n] = firestation_seoul['주소'].values[n].split()[1]\n",
    "firestation_seoul.head(5)    "
   ]
  },
  {
   "cell_type": "code",
   "execution_count": 11,
   "metadata": {},
   "outputs": [
    {
     "data": {
      "text/plain": [
       "구로구    6\n",
       "송파구    6\n",
       "종로구    6\n",
       "서초구    6\n",
       "마포구    6\n",
       "Name: 시군구, dtype: int64"
      ]
     },
     "execution_count": 11,
     "metadata": {},
     "output_type": "execute_result"
    }
   ],
   "source": [
    "firestation_seoul = firestation_seoul['시군구'].value_counts()\n",
    "firestation_seoul.head(5)"
   ]
  },
  {
   "cell_type": "code",
   "execution_count": 12,
   "metadata": {},
   "outputs": [],
   "source": [
    "firestation_seoul = firestation_seoul.sort_index()"
   ]
  },
  {
   "cell_type": "code",
   "execution_count": 13,
   "metadata": {},
   "outputs": [],
   "source": [
    "시군구 = firestation_seoul.index"
   ]
  },
  {
   "cell_type": "code",
   "execution_count": 14,
   "metadata": {},
   "outputs": [],
   "source": [
    "소방서갯수 = list(firestation_seoul)"
   ]
  },
  {
   "cell_type": "code",
   "execution_count": 15,
   "metadata": {},
   "outputs": [],
   "source": [
    "firestation_seoul = {'시군구':시군구,\n",
    "                     '소방서갯수':소방서갯수}"
   ]
  },
  {
   "cell_type": "code",
   "execution_count": 16,
   "metadata": {},
   "outputs": [
    {
     "data": {
      "text/html": [
       "<div>\n",
       "<style scoped>\n",
       "    .dataframe tbody tr th:only-of-type {\n",
       "        vertical-align: middle;\n",
       "    }\n",
       "\n",
       "    .dataframe tbody tr th {\n",
       "        vertical-align: top;\n",
       "    }\n",
       "\n",
       "    .dataframe thead th {\n",
       "        text-align: right;\n",
       "    }\n",
       "</style>\n",
       "<table border=\"1\" class=\"dataframe\">\n",
       "  <thead>\n",
       "    <tr style=\"text-align: right;\">\n",
       "      <th></th>\n",
       "      <th>시군구</th>\n",
       "      <th>소방서갯수</th>\n",
       "    </tr>\n",
       "  </thead>\n",
       "  <tbody>\n",
       "    <tr>\n",
       "      <th>0</th>\n",
       "      <td>강남구</td>\n",
       "      <td>5</td>\n",
       "    </tr>\n",
       "    <tr>\n",
       "      <th>1</th>\n",
       "      <td>강동구</td>\n",
       "      <td>5</td>\n",
       "    </tr>\n",
       "    <tr>\n",
       "      <th>2</th>\n",
       "      <td>강북구</td>\n",
       "      <td>4</td>\n",
       "    </tr>\n",
       "    <tr>\n",
       "      <th>3</th>\n",
       "      <td>강서구</td>\n",
       "      <td>5</td>\n",
       "    </tr>\n",
       "    <tr>\n",
       "      <th>4</th>\n",
       "      <td>관악구</td>\n",
       "      <td>4</td>\n",
       "    </tr>\n",
       "  </tbody>\n",
       "</table>\n",
       "</div>"
      ],
      "text/plain": [
       "   시군구  소방서갯수\n",
       "0  강남구      5\n",
       "1  강동구      5\n",
       "2  강북구      4\n",
       "3  강서구      5\n",
       "4  관악구      4"
      ]
     },
     "execution_count": 16,
     "metadata": {},
     "output_type": "execute_result"
    }
   ],
   "source": [
    "firestation_seoul = DataFrame(firestation_seoul, columns = ['시군구','소방서갯수'])\n",
    "firestation_seoul.head(5)"
   ]
  },
  {
   "cell_type": "code",
   "execution_count": 17,
   "metadata": {},
   "outputs": [
    {
     "data": {
      "text/html": [
       "<div>\n",
       "<style scoped>\n",
       "    .dataframe tbody tr th:only-of-type {\n",
       "        vertical-align: middle;\n",
       "    }\n",
       "\n",
       "    .dataframe tbody tr th {\n",
       "        vertical-align: top;\n",
       "    }\n",
       "\n",
       "    .dataframe thead th {\n",
       "        text-align: right;\n",
       "    }\n",
       "</style>\n",
       "<table border=\"1\" class=\"dataframe\">\n",
       "  <thead>\n",
       "    <tr style=\"text-align: right;\">\n",
       "      <th></th>\n",
       "      <th>기준연도</th>\n",
       "      <th>시도</th>\n",
       "      <th>시군구</th>\n",
       "      <th>회사명</th>\n",
       "      <th>단지명</th>\n",
       "      <th>설립구분</th>\n",
       "      <th>종업원수</th>\n",
       "      <th>용지면적</th>\n",
       "      <th>제조시설면적</th>\n",
       "      <th>부대시설면적</th>\n",
       "      <th>업종분류</th>\n",
       "      <th>Unnamed: 11</th>\n",
       "      <th>Unnamed: 12</th>\n",
       "      <th>Unnamed: 13</th>\n",
       "      <th>시군구.1</th>\n",
       "      <th>갯수</th>\n",
       "    </tr>\n",
       "  </thead>\n",
       "  <tbody>\n",
       "    <tr>\n",
       "      <th>0</th>\n",
       "      <td>201809</td>\n",
       "      <td>서울특별시</td>\n",
       "      <td>종로구</td>\n",
       "      <td>(주)동양그래픽커뮤니케이션</td>\n",
       "      <td></td>\n",
       "      <td>일반</td>\n",
       "      <td>13</td>\n",
       "      <td>181.94</td>\n",
       "      <td>165.46</td>\n",
       "      <td>16.48</td>\n",
       "      <td>18 인쇄 및 기록매체 복제업</td>\n",
       "      <td>NaN</td>\n",
       "      <td>NaN</td>\n",
       "      <td>NaN</td>\n",
       "      <td>종로구</td>\n",
       "      <td>44.0</td>\n",
       "    </tr>\n",
       "    <tr>\n",
       "      <th>1</th>\n",
       "      <td>201809</td>\n",
       "      <td>서울특별시</td>\n",
       "      <td>종로구</td>\n",
       "      <td>(주)작품오늘</td>\n",
       "      <td></td>\n",
       "      <td>일반</td>\n",
       "      <td>31</td>\n",
       "      <td>0.00</td>\n",
       "      <td>32.59</td>\n",
       "      <td>86.31</td>\n",
       "      <td>33 기타제품 제조업</td>\n",
       "      <td>NaN</td>\n",
       "      <td>NaN</td>\n",
       "      <td>NaN</td>\n",
       "      <td>중구</td>\n",
       "      <td>405.0</td>\n",
       "    </tr>\n",
       "    <tr>\n",
       "      <th>2</th>\n",
       "      <td>201809</td>\n",
       "      <td>서울특별시</td>\n",
       "      <td>종로구</td>\n",
       "      <td>(주)계문사</td>\n",
       "      <td></td>\n",
       "      <td>일반</td>\n",
       "      <td>15</td>\n",
       "      <td>103.65</td>\n",
       "      <td>93.05</td>\n",
       "      <td>10.60</td>\n",
       "      <td>18 인쇄 및 기록매체 복제업</td>\n",
       "      <td>NaN</td>\n",
       "      <td>NaN</td>\n",
       "      <td>NaN</td>\n",
       "      <td>용산구</td>\n",
       "      <td>21.0</td>\n",
       "    </tr>\n",
       "    <tr>\n",
       "      <th>3</th>\n",
       "      <td>201809</td>\n",
       "      <td>서울특별시</td>\n",
       "      <td>종로구</td>\n",
       "      <td>삼도실업(주)</td>\n",
       "      <td></td>\n",
       "      <td>일반</td>\n",
       "      <td>17</td>\n",
       "      <td>270.00</td>\n",
       "      <td>180.84</td>\n",
       "      <td>0.00</td>\n",
       "      <td>18 인쇄 및 기록매체 복제업</td>\n",
       "      <td>NaN</td>\n",
       "      <td>NaN</td>\n",
       "      <td>NaN</td>\n",
       "      <td>성동구</td>\n",
       "      <td>541.0</td>\n",
       "    </tr>\n",
       "    <tr>\n",
       "      <th>4</th>\n",
       "      <td>201809</td>\n",
       "      <td>서울특별시</td>\n",
       "      <td>종로구</td>\n",
       "      <td>(주)범신사</td>\n",
       "      <td></td>\n",
       "      <td>일반</td>\n",
       "      <td>14</td>\n",
       "      <td>49.64</td>\n",
       "      <td>49.64</td>\n",
       "      <td>0.00</td>\n",
       "      <td>18 인쇄 및 기록매체 복제업</td>\n",
       "      <td>NaN</td>\n",
       "      <td>NaN</td>\n",
       "      <td>NaN</td>\n",
       "      <td>광진구</td>\n",
       "      <td>36.0</td>\n",
       "    </tr>\n",
       "  </tbody>\n",
       "</table>\n",
       "</div>"
      ],
      "text/plain": [
       "     기준연도     시도  시군구             회사명 단지명 설립구분  종업원수    용지면적  제조시설면적  부대시설면적  \\\n",
       "0  201809  서울특별시  종로구  (주)동양그래픽커뮤니케이션       일반    13  181.94  165.46   16.48   \n",
       "1  201809  서울특별시  종로구         (주)작품오늘       일반    31    0.00   32.59   86.31   \n",
       "2  201809  서울특별시  종로구          (주)계문사       일반    15  103.65   93.05   10.60   \n",
       "3  201809  서울특별시  종로구         삼도실업(주)       일반    17  270.00  180.84    0.00   \n",
       "4  201809  서울특별시  종로구          (주)범신사       일반    14   49.64   49.64    0.00   \n",
       "\n",
       "               업종분류  Unnamed: 11  Unnamed: 12  Unnamed: 13 시군구.1     갯수  \n",
       "0  18 인쇄 및 기록매체 복제업          NaN          NaN          NaN   종로구   44.0  \n",
       "1       33 기타제품 제조업          NaN          NaN          NaN    중구  405.0  \n",
       "2  18 인쇄 및 기록매체 복제업          NaN          NaN          NaN   용산구   21.0  \n",
       "3  18 인쇄 및 기록매체 복제업          NaN          NaN          NaN   성동구  541.0  \n",
       "4  18 인쇄 및 기록매체 복제업          NaN          NaN          NaN   광진구   36.0  "
      ]
     },
     "execution_count": 17,
     "metadata": {},
     "output_type": "execute_result"
    }
   ],
   "source": [
    "factory = pd.read_excel('0. 공장 정보 데이터 정리.xlsx')\n",
    "factory.head(5)"
   ]
  },
  {
   "cell_type": "code",
   "execution_count": 18,
   "metadata": {},
   "outputs": [
    {
     "name": "stdout",
     "output_type": "stream",
     "text": [
      "<class 'pandas.core.frame.DataFrame'>\n",
      "RangeIndex: 68805 entries, 0 to 68804\n",
      "Data columns (total 16 columns):\n",
      "기준연도           68805 non-null int64\n",
      "시도             68805 non-null object\n",
      "시군구            68805 non-null object\n",
      "회사명            68805 non-null object\n",
      "단지명            68805 non-null object\n",
      "설립구분           68805 non-null object\n",
      "종업원수           68805 non-null int64\n",
      "용지면적           68805 non-null float64\n",
      "제조시설면적         68805 non-null float64\n",
      "부대시설면적         68805 non-null float64\n",
      "업종분류           68805 non-null object\n",
      "Unnamed: 11    0 non-null float64\n",
      "Unnamed: 12    0 non-null float64\n",
      "Unnamed: 13    0 non-null float64\n",
      "시군구.1          232 non-null object\n",
      "갯수             232 non-null float64\n",
      "dtypes: float64(7), int64(2), object(7)\n",
      "memory usage: 8.4+ MB\n"
     ]
    }
   ],
   "source": [
    "factory.info()"
   ]
  },
  {
   "cell_type": "code",
   "execution_count": 19,
   "metadata": {},
   "outputs": [
    {
     "data": {
      "text/plain": [
       "(68805, 16)"
      ]
     },
     "execution_count": 19,
     "metadata": {},
     "output_type": "execute_result"
    }
   ],
   "source": [
    "factory.shape"
   ]
  },
  {
   "cell_type": "code",
   "execution_count": 20,
   "metadata": {},
   "outputs": [
    {
     "data": {
      "text/plain": [
       "Index(['기준연도', '시도', '시군구', '회사명', '단지명', '설립구분', '종업원수', '용지면적', '제조시설면적',\n",
       "       '부대시설면적', '업종분류', 'Unnamed: 11', 'Unnamed: 12', 'Unnamed: 13', '시군구.1',\n",
       "       '갯수'],\n",
       "      dtype='object')"
      ]
     },
     "execution_count": 20,
     "metadata": {},
     "output_type": "execute_result"
    }
   ],
   "source": [
    "factory.columns"
   ]
  },
  {
   "cell_type": "code",
   "execution_count": 21,
   "metadata": {},
   "outputs": [
    {
     "data": {
      "text/html": [
       "<div>\n",
       "<style scoped>\n",
       "    .dataframe tbody tr th:only-of-type {\n",
       "        vertical-align: middle;\n",
       "    }\n",
       "\n",
       "    .dataframe tbody tr th {\n",
       "        vertical-align: top;\n",
       "    }\n",
       "\n",
       "    .dataframe thead th {\n",
       "        text-align: right;\n",
       "    }\n",
       "</style>\n",
       "<table border=\"1\" class=\"dataframe\">\n",
       "  <thead>\n",
       "    <tr style=\"text-align: right;\">\n",
       "      <th></th>\n",
       "      <th>시도</th>\n",
       "      <th>시군구</th>\n",
       "      <th>종업원수</th>\n",
       "      <th>용지면적</th>\n",
       "      <th>업종분류</th>\n",
       "    </tr>\n",
       "  </thead>\n",
       "  <tbody>\n",
       "    <tr>\n",
       "      <th>0</th>\n",
       "      <td>서울특별시</td>\n",
       "      <td>종로구</td>\n",
       "      <td>13</td>\n",
       "      <td>181.94</td>\n",
       "      <td>18 인쇄 및 기록매체 복제업</td>\n",
       "    </tr>\n",
       "    <tr>\n",
       "      <th>1</th>\n",
       "      <td>서울특별시</td>\n",
       "      <td>종로구</td>\n",
       "      <td>31</td>\n",
       "      <td>0.00</td>\n",
       "      <td>33 기타제품 제조업</td>\n",
       "    </tr>\n",
       "    <tr>\n",
       "      <th>2</th>\n",
       "      <td>서울특별시</td>\n",
       "      <td>종로구</td>\n",
       "      <td>15</td>\n",
       "      <td>103.65</td>\n",
       "      <td>18 인쇄 및 기록매체 복제업</td>\n",
       "    </tr>\n",
       "    <tr>\n",
       "      <th>3</th>\n",
       "      <td>서울특별시</td>\n",
       "      <td>종로구</td>\n",
       "      <td>17</td>\n",
       "      <td>270.00</td>\n",
       "      <td>18 인쇄 및 기록매체 복제업</td>\n",
       "    </tr>\n",
       "    <tr>\n",
       "      <th>4</th>\n",
       "      <td>서울특별시</td>\n",
       "      <td>종로구</td>\n",
       "      <td>14</td>\n",
       "      <td>49.64</td>\n",
       "      <td>18 인쇄 및 기록매체 복제업</td>\n",
       "    </tr>\n",
       "  </tbody>\n",
       "</table>\n",
       "</div>"
      ],
      "text/plain": [
       "      시도  시군구  종업원수    용지면적              업종분류\n",
       "0  서울특별시  종로구    13  181.94  18 인쇄 및 기록매체 복제업\n",
       "1  서울특별시  종로구    31    0.00       33 기타제품 제조업\n",
       "2  서울특별시  종로구    15  103.65  18 인쇄 및 기록매체 복제업\n",
       "3  서울특별시  종로구    17  270.00  18 인쇄 및 기록매체 복제업\n",
       "4  서울특별시  종로구    14   49.64  18 인쇄 및 기록매체 복제업"
      ]
     },
     "execution_count": 21,
     "metadata": {},
     "output_type": "execute_result"
    }
   ],
   "source": [
    "df_factory = factory[[\"시도\",\"시군구\",\"종업원수\",\"용지면적\",\"업종분류\"]]\n",
    "df_factory.head(5)"
   ]
  },
  {
   "cell_type": "code",
   "execution_count": 22,
   "metadata": {},
   "outputs": [
    {
     "data": {
      "text/html": [
       "<div>\n",
       "<style scoped>\n",
       "    .dataframe tbody tr th:only-of-type {\n",
       "        vertical-align: middle;\n",
       "    }\n",
       "\n",
       "    .dataframe tbody tr th {\n",
       "        vertical-align: top;\n",
       "    }\n",
       "\n",
       "    .dataframe thead th {\n",
       "        text-align: right;\n",
       "    }\n",
       "</style>\n",
       "<table border=\"1\" class=\"dataframe\">\n",
       "  <thead>\n",
       "    <tr style=\"text-align: right;\">\n",
       "      <th></th>\n",
       "      <th>시도</th>\n",
       "      <th>시군구</th>\n",
       "      <th>종업원수</th>\n",
       "      <th>용지면적</th>\n",
       "      <th>업종분류</th>\n",
       "    </tr>\n",
       "  </thead>\n",
       "  <tbody>\n",
       "    <tr>\n",
       "      <th>0</th>\n",
       "      <td>서울특별시</td>\n",
       "      <td>종로구</td>\n",
       "      <td>13</td>\n",
       "      <td>181.94</td>\n",
       "      <td>18 인쇄 및 기록매체 복제업</td>\n",
       "    </tr>\n",
       "    <tr>\n",
       "      <th>1</th>\n",
       "      <td>서울특별시</td>\n",
       "      <td>종로구</td>\n",
       "      <td>31</td>\n",
       "      <td>0.00</td>\n",
       "      <td>33 기타제품 제조업</td>\n",
       "    </tr>\n",
       "    <tr>\n",
       "      <th>2</th>\n",
       "      <td>서울특별시</td>\n",
       "      <td>종로구</td>\n",
       "      <td>15</td>\n",
       "      <td>103.65</td>\n",
       "      <td>18 인쇄 및 기록매체 복제업</td>\n",
       "    </tr>\n",
       "    <tr>\n",
       "      <th>3</th>\n",
       "      <td>서울특별시</td>\n",
       "      <td>종로구</td>\n",
       "      <td>17</td>\n",
       "      <td>270.00</td>\n",
       "      <td>18 인쇄 및 기록매체 복제업</td>\n",
       "    </tr>\n",
       "    <tr>\n",
       "      <th>4</th>\n",
       "      <td>서울특별시</td>\n",
       "      <td>종로구</td>\n",
       "      <td>14</td>\n",
       "      <td>49.64</td>\n",
       "      <td>18 인쇄 및 기록매체 복제업</td>\n",
       "    </tr>\n",
       "  </tbody>\n",
       "</table>\n",
       "</div>"
      ],
      "text/plain": [
       "      시도  시군구  종업원수    용지면적              업종분류\n",
       "0  서울특별시  종로구    13  181.94  18 인쇄 및 기록매체 복제업\n",
       "1  서울특별시  종로구    31    0.00       33 기타제품 제조업\n",
       "2  서울특별시  종로구    15  103.65  18 인쇄 및 기록매체 복제업\n",
       "3  서울특별시  종로구    17  270.00  18 인쇄 및 기록매체 복제업\n",
       "4  서울특별시  종로구    14   49.64  18 인쇄 및 기록매체 복제업"
      ]
     },
     "execution_count": 22,
     "metadata": {},
     "output_type": "execute_result"
    }
   ],
   "source": [
    "factory_seoul = df_factory.loc[df_factory[\"시도\"] == \"서울특별시\"]\n",
    "factory_seoul.head(5)"
   ]
  },
  {
   "cell_type": "code",
   "execution_count": 23,
   "metadata": {},
   "outputs": [
    {
     "data": {
      "text/plain": [
       "금천구    1199\n",
       "성동구     541\n",
       "구로구     442\n",
       "중구      269\n",
       "강서구     225\n",
       "Name: 시군구, dtype: int64"
      ]
     },
     "execution_count": 23,
     "metadata": {},
     "output_type": "execute_result"
    }
   ],
   "source": [
    "공장갯수데이터 = factory_seoul['시군구'].value_counts()\n",
    "공장갯수데이터.head(5)"
   ]
  },
  {
   "cell_type": "code",
   "execution_count": 24,
   "metadata": {},
   "outputs": [],
   "source": [
    "공장갯수데이터 = 공장갯수데이터.sort_index()"
   ]
  },
  {
   "cell_type": "code",
   "execution_count": 25,
   "metadata": {},
   "outputs": [],
   "source": [
    "시군구 = 공장갯수데이터.index"
   ]
  },
  {
   "cell_type": "code",
   "execution_count": 26,
   "metadata": {},
   "outputs": [],
   "source": [
    "공장갯수 = list(공장갯수데이터)"
   ]
  },
  {
   "cell_type": "code",
   "execution_count": 27,
   "metadata": {},
   "outputs": [],
   "source": [
    "공장갯수데이터 = {'시군구':시군구,\n",
    "              '공장갯수':공장갯수}"
   ]
  },
  {
   "cell_type": "code",
   "execution_count": 28,
   "metadata": {},
   "outputs": [
    {
     "data": {
      "text/html": [
       "<div>\n",
       "<style scoped>\n",
       "    .dataframe tbody tr th:only-of-type {\n",
       "        vertical-align: middle;\n",
       "    }\n",
       "\n",
       "    .dataframe tbody tr th {\n",
       "        vertical-align: top;\n",
       "    }\n",
       "\n",
       "    .dataframe thead th {\n",
       "        text-align: right;\n",
       "    }\n",
       "</style>\n",
       "<table border=\"1\" class=\"dataframe\">\n",
       "  <thead>\n",
       "    <tr style=\"text-align: right;\">\n",
       "      <th></th>\n",
       "      <th>시군구</th>\n",
       "      <th>공장갯수</th>\n",
       "    </tr>\n",
       "  </thead>\n",
       "  <tbody>\n",
       "    <tr>\n",
       "      <th>0</th>\n",
       "      <td>강남구</td>\n",
       "      <td>92</td>\n",
       "    </tr>\n",
       "    <tr>\n",
       "      <th>1</th>\n",
       "      <td>강동구</td>\n",
       "      <td>40</td>\n",
       "    </tr>\n",
       "    <tr>\n",
       "      <th>2</th>\n",
       "      <td>강북구</td>\n",
       "      <td>27</td>\n",
       "    </tr>\n",
       "    <tr>\n",
       "      <th>3</th>\n",
       "      <td>강서구</td>\n",
       "      <td>225</td>\n",
       "    </tr>\n",
       "    <tr>\n",
       "      <th>4</th>\n",
       "      <td>관악구</td>\n",
       "      <td>22</td>\n",
       "    </tr>\n",
       "  </tbody>\n",
       "</table>\n",
       "</div>"
      ],
      "text/plain": [
       "   시군구  공장갯수\n",
       "0  강남구    92\n",
       "1  강동구    40\n",
       "2  강북구    27\n",
       "3  강서구   225\n",
       "4  관악구    22"
      ]
     },
     "execution_count": 28,
     "metadata": {},
     "output_type": "execute_result"
    }
   ],
   "source": [
    "공장갯수데이터 = DataFrame(공장갯수데이터, columns = ['시군구','공장갯수'])\n",
    "공장갯수데이터.head(5)"
   ]
  },
  {
   "cell_type": "code",
   "execution_count": 29,
   "metadata": {},
   "outputs": [
    {
     "data": {
      "text/plain": [
       "시군구\n",
       "강남구    26.032609\n",
       "강동구    21.275000\n",
       "강북구    22.888889\n",
       "강서구    69.711111\n",
       "관악구    28.363636\n",
       "Name: 종업원수, dtype: float64"
      ]
     },
     "execution_count": 29,
     "metadata": {},
     "output_type": "execute_result"
    }
   ],
   "source": [
    "공장종업원수평균 = factory_seoul[\"종업원수\"].groupby(factory_seoul[\"시군구\"])\n",
    "공장종업원수평균데이터 = 공장종업원수평균.mean()\n",
    "공장종업원수평균데이터.head(5)"
   ]
  },
  {
   "cell_type": "code",
   "execution_count": 30,
   "metadata": {},
   "outputs": [],
   "source": [
    "공장종업원수평균데이터 = 공장종업원수평균데이터.sort_index()"
   ]
  },
  {
   "cell_type": "code",
   "execution_count": 31,
   "metadata": {},
   "outputs": [],
   "source": [
    "시군구 = 공장종업원수평균데이터.index"
   ]
  },
  {
   "cell_type": "code",
   "execution_count": 32,
   "metadata": {},
   "outputs": [],
   "source": [
    "종업원수평균 = list(공장종업원수평균데이터)"
   ]
  },
  {
   "cell_type": "code",
   "execution_count": 33,
   "metadata": {},
   "outputs": [],
   "source": [
    "공장종업원수평균데이터 = {'시군구':시군구,\n",
    "                    '종업원수평균':종업원수평균}"
   ]
  },
  {
   "cell_type": "code",
   "execution_count": 34,
   "metadata": {},
   "outputs": [
    {
     "data": {
      "text/html": [
       "<div>\n",
       "<style scoped>\n",
       "    .dataframe tbody tr th:only-of-type {\n",
       "        vertical-align: middle;\n",
       "    }\n",
       "\n",
       "    .dataframe tbody tr th {\n",
       "        vertical-align: top;\n",
       "    }\n",
       "\n",
       "    .dataframe thead th {\n",
       "        text-align: right;\n",
       "    }\n",
       "</style>\n",
       "<table border=\"1\" class=\"dataframe\">\n",
       "  <thead>\n",
       "    <tr style=\"text-align: right;\">\n",
       "      <th></th>\n",
       "      <th>시군구</th>\n",
       "      <th>종업원수평균</th>\n",
       "    </tr>\n",
       "  </thead>\n",
       "  <tbody>\n",
       "    <tr>\n",
       "      <th>0</th>\n",
       "      <td>강남구</td>\n",
       "      <td>26.032609</td>\n",
       "    </tr>\n",
       "    <tr>\n",
       "      <th>1</th>\n",
       "      <td>강동구</td>\n",
       "      <td>21.275000</td>\n",
       "    </tr>\n",
       "    <tr>\n",
       "      <th>2</th>\n",
       "      <td>강북구</td>\n",
       "      <td>22.888889</td>\n",
       "    </tr>\n",
       "    <tr>\n",
       "      <th>3</th>\n",
       "      <td>강서구</td>\n",
       "      <td>69.711111</td>\n",
       "    </tr>\n",
       "    <tr>\n",
       "      <th>4</th>\n",
       "      <td>관악구</td>\n",
       "      <td>28.363636</td>\n",
       "    </tr>\n",
       "  </tbody>\n",
       "</table>\n",
       "</div>"
      ],
      "text/plain": [
       "   시군구     종업원수평균\n",
       "0  강남구  26.032609\n",
       "1  강동구  21.275000\n",
       "2  강북구  22.888889\n",
       "3  강서구  69.711111\n",
       "4  관악구  28.363636"
      ]
     },
     "execution_count": 34,
     "metadata": {},
     "output_type": "execute_result"
    }
   ],
   "source": [
    "공장종업원수평균데이터 = DataFrame(공장종업원수평균데이터, columns = ['시군구','종업원수평균'])\n",
    "공장종업원수평균데이터.head(5)"
   ]
  },
  {
   "cell_type": "code",
   "execution_count": 35,
   "metadata": {},
   "outputs": [
    {
     "name": "stderr",
     "output_type": "stream",
     "text": [
      "/anaconda3/lib/python3.6/site-packages/ipykernel_launcher.py:1: SettingWithCopyWarning: \n",
      "A value is trying to be set on a copy of a slice from a DataFrame.\n",
      "Try using .loc[row_indexer,col_indexer] = value instead\n",
      "\n",
      "See the caveats in the documentation: http://pandas.pydata.org/pandas-docs/stable/indexing.html#indexing-view-versus-copy\n",
      "  \"\"\"Entry point for launching an IPython kernel.\n"
     ]
    }
   ],
   "source": [
    "factory_seoul['업종별점수'] = float(0)"
   ]
  },
  {
   "cell_type": "code",
   "execution_count": 36,
   "metadata": {},
   "outputs": [
    {
     "data": {
      "text/plain": [
       "시군구\n",
       "강남구    20.45\n",
       "강동구     8.00\n",
       "강북구     5.40\n",
       "강서구    52.10\n",
       "관악구     3.20\n",
       "Name: 업종별점수, dtype: float64"
      ]
     },
     "execution_count": 36,
     "metadata": {},
     "output_type": "execute_result"
    }
   ],
   "source": [
    "f = factory_seoul['업종분류']\n",
    "s = factory_seoul['업종별점수']\n",
    "for n in np.arange(len(factory_seoul)):\n",
    "    if f.values[n] == '10 식료품 제조업' or f.values[n] == '11 음료 제조업': \n",
    "        s.values[n] = 0.15\n",
    "    elif f.values[n] == '12 담배 제조' or f.values[n] == '13 섬유제품 제조업(의복제외)' or f.values[n] == '14 의복,의복엑세서리 및 모피제품 제조업' or f.values[n] == '15 가죽,가방 및 신발 제조업' or f.values[n] == '16 목재 및 나무제품 제조업(가구제외)'or f.values[n] == '17 펄프,종이 및 종이제품 제조업' or f.values[n] == '18 인쇄 및 기록매체 복제업' or f.values[n] == '32 가구 제조업':\n",
    "        s.values[n] = 0.1\n",
    "    elif f.values[n] == '19 코크스,연탄 및 석유정제품 제조업' or f.values[n] == '20 화학물질 및 화학제품 제조업(의약품제외)' or f.values[n] == '21 의료용물질 및 의약품 제조업' :\n",
    "        s.values[n] = 0.25\n",
    "    elif f.values[n] == '22 고무제품 및 플라스틱 제조업' or f.values[n] == '23 비금속 광물제품 제조업' or f.values[n] == '24 1차금속 제조업' or f.values[n] == '25 금속가공제품 제조업(기계 및 가구제외)':    \n",
    "        s.values[n] = 0.2\n",
    "    elif f.values[n] == '26 전자부품,컴퓨터,영상,음향 및 통신장비 제조업' or f.values[n] == '27 의료,정밀,광학기기 및 시계제조업' or f.values[n] == '28 전기장비 제조업' or f.values[n] == '29 기타 기계 및 장비 제조업' or f.values[n] == '30 자동차 및 트레일러 제조업' or f.values[n] == '31 기타 운송장비 제조업' or f.values[n] == '34 산업용 기계 및 장비 수리업' or f.values[n] == '33 기타제품 제조업' :\n",
    "        s.values[n] = 0.3\n",
    "가중치점수 = factory_seoul['업종별점수'].groupby(factory_seoul[\"시군구\"])\n",
    "가중치점수 = 가중치점수.sum()\n",
    "가중치점수.head(5)  "
   ]
  },
  {
   "cell_type": "code",
   "execution_count": 37,
   "metadata": {},
   "outputs": [
    {
     "data": {
      "text/plain": [
       "시군구\n",
       "강남구    20.45\n",
       "강동구     8.00\n",
       "강북구     5.40\n",
       "강서구    52.10\n",
       "관악구     3.20\n",
       "Name: 업종별점수, dtype: float64"
      ]
     },
     "execution_count": 37,
     "metadata": {},
     "output_type": "execute_result"
    }
   ],
   "source": [
    "가중치점수 = factory_seoul['업종별점수'].groupby(factory_seoul[\"시군구\"])\n",
    "가중치점수 = 가중치점수.sum()\n",
    "가중치점수.head(5)"
   ]
  },
  {
   "cell_type": "code",
   "execution_count": 38,
   "metadata": {},
   "outputs": [],
   "source": [
    "가중치점수 = 가중치점수.sort_index()"
   ]
  },
  {
   "cell_type": "code",
   "execution_count": 39,
   "metadata": {},
   "outputs": [],
   "source": [
    "시군구 = 가중치점수.index"
   ]
  },
  {
   "cell_type": "code",
   "execution_count": 40,
   "metadata": {},
   "outputs": [],
   "source": [
    "가중치점수 = list(가중치점수)"
   ]
  },
  {
   "cell_type": "code",
   "execution_count": 41,
   "metadata": {},
   "outputs": [],
   "source": [
    "가중치점수 = {'시군구':시군구,\n",
    "           '가중치점수':가중치점수}"
   ]
  },
  {
   "cell_type": "code",
   "execution_count": 42,
   "metadata": {},
   "outputs": [
    {
     "data": {
      "text/html": [
       "<div>\n",
       "<style scoped>\n",
       "    .dataframe tbody tr th:only-of-type {\n",
       "        vertical-align: middle;\n",
       "    }\n",
       "\n",
       "    .dataframe tbody tr th {\n",
       "        vertical-align: top;\n",
       "    }\n",
       "\n",
       "    .dataframe thead th {\n",
       "        text-align: right;\n",
       "    }\n",
       "</style>\n",
       "<table border=\"1\" class=\"dataframe\">\n",
       "  <thead>\n",
       "    <tr style=\"text-align: right;\">\n",
       "      <th></th>\n",
       "      <th>시군구</th>\n",
       "      <th>가중치점수</th>\n",
       "    </tr>\n",
       "  </thead>\n",
       "  <tbody>\n",
       "    <tr>\n",
       "      <th>0</th>\n",
       "      <td>강남구</td>\n",
       "      <td>20.45</td>\n",
       "    </tr>\n",
       "    <tr>\n",
       "      <th>1</th>\n",
       "      <td>강동구</td>\n",
       "      <td>8.00</td>\n",
       "    </tr>\n",
       "    <tr>\n",
       "      <th>2</th>\n",
       "      <td>강북구</td>\n",
       "      <td>5.40</td>\n",
       "    </tr>\n",
       "    <tr>\n",
       "      <th>3</th>\n",
       "      <td>강서구</td>\n",
       "      <td>52.10</td>\n",
       "    </tr>\n",
       "    <tr>\n",
       "      <th>4</th>\n",
       "      <td>관악구</td>\n",
       "      <td>3.20</td>\n",
       "    </tr>\n",
       "  </tbody>\n",
       "</table>\n",
       "</div>"
      ],
      "text/plain": [
       "   시군구  가중치점수\n",
       "0  강남구  20.45\n",
       "1  강동구   8.00\n",
       "2  강북구   5.40\n",
       "3  강서구  52.10\n",
       "4  관악구   3.20"
      ]
     },
     "execution_count": 42,
     "metadata": {},
     "output_type": "execute_result"
    }
   ],
   "source": [
    "가중치점수 = DataFrame(가중치점수, columns = ['시군구','가중치점수'])\n",
    "가중치점수.head(5)"
   ]
  },
  {
   "cell_type": "code",
   "execution_count": 43,
   "metadata": {},
   "outputs": [
    {
     "data": {
      "text/plain": [
       "시군구\n",
       "강남구     250.238478\n",
       "강동구     330.325250\n",
       "강북구     236.735185\n",
       "강서구    1945.545413\n",
       "관악구     134.387273\n",
       "Name: 용지면적, dtype: float64"
      ]
     },
     "execution_count": 43,
     "metadata": {},
     "output_type": "execute_result"
    }
   ],
   "source": [
    "용지면적평균 = factory_seoul[\"용지면적\"].groupby(factory_seoul[\"시군구\"])\n",
    "용지면적평균 = 용지면적평균.mean()\n",
    "용지면적평균.head(5)"
   ]
  },
  {
   "cell_type": "code",
   "execution_count": 44,
   "metadata": {},
   "outputs": [],
   "source": [
    "용지면적평균 = 용지면적평균.sort_index()"
   ]
  },
  {
   "cell_type": "code",
   "execution_count": 45,
   "metadata": {},
   "outputs": [],
   "source": [
    "시군구 = 용지면적평균.index"
   ]
  },
  {
   "cell_type": "code",
   "execution_count": 46,
   "metadata": {},
   "outputs": [],
   "source": [
    "용지면적평균 = list(용지면적평균)"
   ]
  },
  {
   "cell_type": "code",
   "execution_count": 47,
   "metadata": {},
   "outputs": [],
   "source": [
    "용지면적평균 = {'시군구': 시군구,\n",
    "            '용지면적평균': 용지면적평균}"
   ]
  },
  {
   "cell_type": "code",
   "execution_count": 48,
   "metadata": {},
   "outputs": [
    {
     "data": {
      "text/html": [
       "<div>\n",
       "<style scoped>\n",
       "    .dataframe tbody tr th:only-of-type {\n",
       "        vertical-align: middle;\n",
       "    }\n",
       "\n",
       "    .dataframe tbody tr th {\n",
       "        vertical-align: top;\n",
       "    }\n",
       "\n",
       "    .dataframe thead th {\n",
       "        text-align: right;\n",
       "    }\n",
       "</style>\n",
       "<table border=\"1\" class=\"dataframe\">\n",
       "  <thead>\n",
       "    <tr style=\"text-align: right;\">\n",
       "      <th></th>\n",
       "      <th>시군구</th>\n",
       "      <th>용지면적평균</th>\n",
       "    </tr>\n",
       "  </thead>\n",
       "  <tbody>\n",
       "    <tr>\n",
       "      <th>0</th>\n",
       "      <td>강남구</td>\n",
       "      <td>250.238478</td>\n",
       "    </tr>\n",
       "    <tr>\n",
       "      <th>1</th>\n",
       "      <td>강동구</td>\n",
       "      <td>330.325250</td>\n",
       "    </tr>\n",
       "    <tr>\n",
       "      <th>2</th>\n",
       "      <td>강북구</td>\n",
       "      <td>236.735185</td>\n",
       "    </tr>\n",
       "    <tr>\n",
       "      <th>3</th>\n",
       "      <td>강서구</td>\n",
       "      <td>1945.545413</td>\n",
       "    </tr>\n",
       "    <tr>\n",
       "      <th>4</th>\n",
       "      <td>관악구</td>\n",
       "      <td>134.387273</td>\n",
       "    </tr>\n",
       "  </tbody>\n",
       "</table>\n",
       "</div>"
      ],
      "text/plain": [
       "   시군구       용지면적평균\n",
       "0  강남구   250.238478\n",
       "1  강동구   330.325250\n",
       "2  강북구   236.735185\n",
       "3  강서구  1945.545413\n",
       "4  관악구   134.387273"
      ]
     },
     "execution_count": 48,
     "metadata": {},
     "output_type": "execute_result"
    }
   ],
   "source": [
    "용지면적평균 = DataFrame(용지면적평균, columns = ['시군구','용지면적평균'])\n",
    "용지면적평균.head(5)"
   ]
  },
  {
   "cell_type": "code",
   "execution_count": 49,
   "metadata": {},
   "outputs": [
    {
     "name": "stdout",
     "output_type": "stream",
     "text": [
      "25\n",
      "25\n",
      "25\n",
      "25\n",
      "25\n"
     ]
    }
   ],
   "source": [
    "print(len(firestation_seoul))\n",
    "print(len(공장갯수데이터))\n",
    "print(len(공장종업원수평균데이터))\n",
    "print(len(가중치점수))\n",
    "print(len(용지면적평균))"
   ]
  },
  {
   "cell_type": "code",
   "execution_count": 50,
   "metadata": {},
   "outputs": [
    {
     "data": {
      "text/html": [
       "<div>\n",
       "<style scoped>\n",
       "    .dataframe tbody tr th:only-of-type {\n",
       "        vertical-align: middle;\n",
       "    }\n",
       "\n",
       "    .dataframe tbody tr th {\n",
       "        vertical-align: top;\n",
       "    }\n",
       "\n",
       "    .dataframe thead th {\n",
       "        text-align: right;\n",
       "    }\n",
       "</style>\n",
       "<table border=\"1\" class=\"dataframe\">\n",
       "  <thead>\n",
       "    <tr style=\"text-align: right;\">\n",
       "      <th></th>\n",
       "      <th>시군구</th>\n",
       "      <th>소방서갯수</th>\n",
       "      <th>공장갯수</th>\n",
       "      <th>종업원수평균</th>\n",
       "      <th>가중치점수</th>\n",
       "      <th>용지면적평균</th>\n",
       "    </tr>\n",
       "  </thead>\n",
       "  <tbody>\n",
       "    <tr>\n",
       "      <th>0</th>\n",
       "      <td>강남구</td>\n",
       "      <td>5</td>\n",
       "      <td>92</td>\n",
       "      <td>26.032609</td>\n",
       "      <td>20.45</td>\n",
       "      <td>250.238478</td>\n",
       "    </tr>\n",
       "    <tr>\n",
       "      <th>1</th>\n",
       "      <td>강동구</td>\n",
       "      <td>5</td>\n",
       "      <td>40</td>\n",
       "      <td>21.275000</td>\n",
       "      <td>8.00</td>\n",
       "      <td>330.325250</td>\n",
       "    </tr>\n",
       "    <tr>\n",
       "      <th>2</th>\n",
       "      <td>강북구</td>\n",
       "      <td>4</td>\n",
       "      <td>27</td>\n",
       "      <td>22.888889</td>\n",
       "      <td>5.40</td>\n",
       "      <td>236.735185</td>\n",
       "    </tr>\n",
       "    <tr>\n",
       "      <th>3</th>\n",
       "      <td>강서구</td>\n",
       "      <td>5</td>\n",
       "      <td>225</td>\n",
       "      <td>69.711111</td>\n",
       "      <td>52.10</td>\n",
       "      <td>1945.545413</td>\n",
       "    </tr>\n",
       "    <tr>\n",
       "      <th>4</th>\n",
       "      <td>관악구</td>\n",
       "      <td>4</td>\n",
       "      <td>22</td>\n",
       "      <td>28.363636</td>\n",
       "      <td>3.20</td>\n",
       "      <td>134.387273</td>\n",
       "    </tr>\n",
       "  </tbody>\n",
       "</table>\n",
       "</div>"
      ],
      "text/plain": [
       "   시군구  소방서갯수  공장갯수     종업원수평균  가중치점수       용지면적평균\n",
       "0  강남구      5    92  26.032609  20.45   250.238478\n",
       "1  강동구      5    40  21.275000   8.00   330.325250\n",
       "2  강북구      4    27  22.888889   5.40   236.735185\n",
       "3  강서구      5   225  69.711111  52.10  1945.545413\n",
       "4  관악구      4    22  28.363636   3.20   134.387273"
      ]
     },
     "execution_count": 50,
     "metadata": {},
     "output_type": "execute_result"
    }
   ],
   "source": [
    "a = pd.merge(firestation_seoul,공장갯수데이터, on = \"시군구\")\n",
    "b = pd.merge(공장종업원수평균데이터,가중치점수, on = \"시군구\")\n",
    "c = pd.merge(a,b)\n",
    "df_final_factory = pd.merge(c,용지면적평균, on = \"시군구\")\n",
    "df_final_factory.head(5)"
   ]
  },
  {
   "cell_type": "code",
   "execution_count": 51,
   "metadata": {},
   "outputs": [
    {
     "data": {
      "text/html": [
       "<div>\n",
       "<style scoped>\n",
       "    .dataframe tbody tr th:only-of-type {\n",
       "        vertical-align: middle;\n",
       "    }\n",
       "\n",
       "    .dataframe tbody tr th {\n",
       "        vertical-align: top;\n",
       "    }\n",
       "\n",
       "    .dataframe thead th {\n",
       "        text-align: right;\n",
       "    }\n",
       "</style>\n",
       "<table border=\"1\" class=\"dataframe\">\n",
       "  <thead>\n",
       "    <tr style=\"text-align: right;\">\n",
       "      <th></th>\n",
       "      <th>시군구</th>\n",
       "      <th>소방서갯수</th>\n",
       "      <th>공장갯수</th>\n",
       "      <th>종업원수평균</th>\n",
       "      <th>가중치점수</th>\n",
       "      <th>용지면적평균</th>\n",
       "      <th>재산피해지수</th>\n",
       "      <th>인명피해지수</th>\n",
       "      <th>골든타임지수</th>\n",
       "      <th>공장규모지수</th>\n",
       "    </tr>\n",
       "  </thead>\n",
       "  <tbody>\n",
       "    <tr>\n",
       "      <th>0</th>\n",
       "      <td>강남구</td>\n",
       "      <td>5</td>\n",
       "      <td>92</td>\n",
       "      <td>26.032609</td>\n",
       "      <td>20.45</td>\n",
       "      <td>250.238478</td>\n",
       "      <td>20.45</td>\n",
       "      <td>0.104031</td>\n",
       "      <td>18.40</td>\n",
       "      <td>0.619140</td>\n",
       "    </tr>\n",
       "    <tr>\n",
       "      <th>1</th>\n",
       "      <td>강동구</td>\n",
       "      <td>5</td>\n",
       "      <td>40</td>\n",
       "      <td>21.275000</td>\n",
       "      <td>8.00</td>\n",
       "      <td>330.325250</td>\n",
       "      <td>8.00</td>\n",
       "      <td>0.064406</td>\n",
       "      <td>8.00</td>\n",
       "      <td>0.817291</td>\n",
       "    </tr>\n",
       "    <tr>\n",
       "      <th>2</th>\n",
       "      <td>강북구</td>\n",
       "      <td>4</td>\n",
       "      <td>27</td>\n",
       "      <td>22.888889</td>\n",
       "      <td>5.40</td>\n",
       "      <td>236.735185</td>\n",
       "      <td>5.40</td>\n",
       "      <td>0.096686</td>\n",
       "      <td>6.75</td>\n",
       "      <td>0.585731</td>\n",
       "    </tr>\n",
       "    <tr>\n",
       "      <th>3</th>\n",
       "      <td>강서구</td>\n",
       "      <td>5</td>\n",
       "      <td>225</td>\n",
       "      <td>69.711111</td>\n",
       "      <td>52.10</td>\n",
       "      <td>1945.545413</td>\n",
       "      <td>52.10</td>\n",
       "      <td>0.035831</td>\n",
       "      <td>45.00</td>\n",
       "      <td>4.813671</td>\n",
       "    </tr>\n",
       "    <tr>\n",
       "      <th>4</th>\n",
       "      <td>관악구</td>\n",
       "      <td>4</td>\n",
       "      <td>22</td>\n",
       "      <td>28.363636</td>\n",
       "      <td>3.20</td>\n",
       "      <td>134.387273</td>\n",
       "      <td>3.20</td>\n",
       "      <td>0.211059</td>\n",
       "      <td>5.50</td>\n",
       "      <td>0.332501</td>\n",
       "    </tr>\n",
       "  </tbody>\n",
       "</table>\n",
       "</div>"
      ],
      "text/plain": [
       "   시군구  소방서갯수  공장갯수     종업원수평균  가중치점수       용지면적평균  재산피해지수    인명피해지수  골든타임지수  \\\n",
       "0  강남구      5    92  26.032609  20.45   250.238478   20.45  0.104031   18.40   \n",
       "1  강동구      5    40  21.275000   8.00   330.325250    8.00  0.064406    8.00   \n",
       "2  강북구      4    27  22.888889   5.40   236.735185    5.40  0.096686    6.75   \n",
       "3  강서구      5   225  69.711111  52.10  1945.545413   52.10  0.035831   45.00   \n",
       "4  관악구      4    22  28.363636   3.20   134.387273    3.20  0.211059    5.50   \n",
       "\n",
       "     공장규모지수  \n",
       "0  0.619140  \n",
       "1  0.817291  \n",
       "2  0.585731  \n",
       "3  4.813671  \n",
       "4  0.332501  "
      ]
     },
     "execution_count": 51,
     "metadata": {},
     "output_type": "execute_result"
    }
   ],
   "source": [
    "df_final_factory['재산피해지수'] = df_final_factory['가중치점수']\n",
    "df_final_factory['인명피해지수'] = df_final_factory['종업원수평균'] / df_final_factory['용지면적평균']\n",
    "df_final_factory['골든타임지수'] = df_final_factory['공장갯수'] / df_final_factory['소방서갯수']\n",
    "df_final_factory['공장규모지수'] = df_final_factory['용지면적평균'] / df_final_factory['용지면적평균'].mean()\n",
    "df_final_factory.head(5)"
   ]
  },
  {
   "cell_type": "code",
   "execution_count": 52,
   "metadata": {},
   "outputs": [
    {
     "data": {
      "text/html": [
       "<div>\n",
       "<style scoped>\n",
       "    .dataframe tbody tr th:only-of-type {\n",
       "        vertical-align: middle;\n",
       "    }\n",
       "\n",
       "    .dataframe tbody tr th {\n",
       "        vertical-align: top;\n",
       "    }\n",
       "\n",
       "    .dataframe thead th {\n",
       "        text-align: right;\n",
       "    }\n",
       "</style>\n",
       "<table border=\"1\" class=\"dataframe\">\n",
       "  <thead>\n",
       "    <tr style=\"text-align: right;\">\n",
       "      <th></th>\n",
       "      <th>시군구</th>\n",
       "      <th>인명피해지수</th>\n",
       "      <th>재산피해지수</th>\n",
       "      <th>골든타임지수</th>\n",
       "      <th>공장규모지수</th>\n",
       "    </tr>\n",
       "  </thead>\n",
       "  <tbody>\n",
       "    <tr>\n",
       "      <th>0</th>\n",
       "      <td>강남구</td>\n",
       "      <td>0.104031</td>\n",
       "      <td>20.45</td>\n",
       "      <td>18.40</td>\n",
       "      <td>0.619140</td>\n",
       "    </tr>\n",
       "    <tr>\n",
       "      <th>1</th>\n",
       "      <td>강동구</td>\n",
       "      <td>0.064406</td>\n",
       "      <td>8.00</td>\n",
       "      <td>8.00</td>\n",
       "      <td>0.817291</td>\n",
       "    </tr>\n",
       "    <tr>\n",
       "      <th>2</th>\n",
       "      <td>강북구</td>\n",
       "      <td>0.096686</td>\n",
       "      <td>5.40</td>\n",
       "      <td>6.75</td>\n",
       "      <td>0.585731</td>\n",
       "    </tr>\n",
       "    <tr>\n",
       "      <th>3</th>\n",
       "      <td>강서구</td>\n",
       "      <td>0.035831</td>\n",
       "      <td>52.10</td>\n",
       "      <td>45.00</td>\n",
       "      <td>4.813671</td>\n",
       "    </tr>\n",
       "    <tr>\n",
       "      <th>4</th>\n",
       "      <td>관악구</td>\n",
       "      <td>0.211059</td>\n",
       "      <td>3.20</td>\n",
       "      <td>5.50</td>\n",
       "      <td>0.332501</td>\n",
       "    </tr>\n",
       "  </tbody>\n",
       "</table>\n",
       "</div>"
      ],
      "text/plain": [
       "   시군구    인명피해지수  재산피해지수  골든타임지수    공장규모지수\n",
       "0  강남구  0.104031   20.45   18.40  0.619140\n",
       "1  강동구  0.064406    8.00    8.00  0.817291\n",
       "2  강북구  0.096686    5.40    6.75  0.585731\n",
       "3  강서구  0.035831   52.10   45.00  4.813671\n",
       "4  관악구  0.211059    3.20    5.50  0.332501"
      ]
     },
     "execution_count": 52,
     "metadata": {},
     "output_type": "execute_result"
    }
   ],
   "source": [
    "df_final_factory_index = df_final_factory[[\"시군구\",\"인명피해지수\",\"재산피해지수\",\"골든타임지수\",\"공장규모지수\"]]\n",
    "df_final_factory_index.head(5)"
   ]
  },
  {
   "cell_type": "code",
   "execution_count": 53,
   "metadata": {},
   "outputs": [],
   "source": [
    "from sklearn.preprocessing import scale, robust_scale, minmax_scale, maxabs_scale\n",
    "from sklearn.preprocessing import normalize"
   ]
  },
  {
   "cell_type": "code",
   "execution_count": 54,
   "metadata": {},
   "outputs": [
    {
     "data": {
      "text/html": [
       "<div>\n",
       "<style scoped>\n",
       "    .dataframe tbody tr th:only-of-type {\n",
       "        vertical-align: middle;\n",
       "    }\n",
       "\n",
       "    .dataframe tbody tr th {\n",
       "        vertical-align: top;\n",
       "    }\n",
       "\n",
       "    .dataframe thead th {\n",
       "        text-align: right;\n",
       "    }\n",
       "</style>\n",
       "<table border=\"1\" class=\"dataframe\">\n",
       "  <thead>\n",
       "    <tr style=\"text-align: right;\">\n",
       "      <th></th>\n",
       "      <th>인명피해지수</th>\n",
       "      <th>재산피해지수</th>\n",
       "      <th>골든타임지수</th>\n",
       "      <th>공장규모지수</th>\n",
       "    </tr>\n",
       "    <tr>\n",
       "      <th>시군구</th>\n",
       "      <th></th>\n",
       "      <th></th>\n",
       "      <th></th>\n",
       "      <th></th>\n",
       "    </tr>\n",
       "  </thead>\n",
       "  <tbody>\n",
       "    <tr>\n",
       "      <th>강남구</th>\n",
       "      <td>0.39</td>\n",
       "      <td>0.06</td>\n",
       "      <td>0.03</td>\n",
       "      <td>0.06</td>\n",
       "    </tr>\n",
       "    <tr>\n",
       "      <th>강동구</th>\n",
       "      <td>0.16</td>\n",
       "      <td>0.02</td>\n",
       "      <td>0.01</td>\n",
       "      <td>0.11</td>\n",
       "    </tr>\n",
       "    <tr>\n",
       "      <th>강북구</th>\n",
       "      <td>0.35</td>\n",
       "      <td>0.01</td>\n",
       "      <td>0.01</td>\n",
       "      <td>0.06</td>\n",
       "    </tr>\n",
       "    <tr>\n",
       "      <th>강서구</th>\n",
       "      <td>0.00</td>\n",
       "      <td>0.17</td>\n",
       "      <td>0.07</td>\n",
       "      <td>1.00</td>\n",
       "    </tr>\n",
       "    <tr>\n",
       "      <th>관악구</th>\n",
       "      <td>1.00</td>\n",
       "      <td>0.01</td>\n",
       "      <td>0.01</td>\n",
       "      <td>0.00</td>\n",
       "    </tr>\n",
       "  </tbody>\n",
       "</table>\n",
       "</div>"
      ],
      "text/plain": [
       "     인명피해지수  재산피해지수  골든타임지수  공장규모지수\n",
       "시군구                                \n",
       "강남구    0.39    0.06    0.03    0.06\n",
       "강동구    0.16    0.02    0.01    0.11\n",
       "강북구    0.35    0.01    0.01    0.06\n",
       "강서구    0.00    0.17    0.07    1.00\n",
       "관악구    1.00    0.01    0.01    0.00"
      ]
     },
     "execution_count": 54,
     "metadata": {},
     "output_type": "execute_result"
    }
   ],
   "source": [
    "e = pd.DataFrame(minmax_scale(df_final_factory_index['인명피해지수']),columns = {'인명피해지수'},index = 시군구)\n",
    "f = pd.DataFrame(minmax_scale(df_final_factory_index['재산피해지수']),columns = {'재산피해지수'},index = 시군구)\n",
    "g = pd.DataFrame(minmax_scale(df_final_factory_index['골든타임지수']),columns = {'골든타임지수'},index = 시군구)\n",
    "h = pd.DataFrame(minmax_scale(df_final_factory_index['공장규모지수']),columns = {'공장규모지수'},index = 시군구)\n",
    "i= pd.concat([e,f],axis = 1)\n",
    "j= pd.concat([g,h],axis = 1)\n",
    "df_final_factory_scale_index = pd.concat([i,j],axis = 1)\n",
    "df_final_factory_scale_index = df_final_factory_scale_index.round(2) #소수둘쩃자리까지 표시\n",
    "df_final_factory_scale_index.head(5)"
   ]
  },
  {
   "cell_type": "code",
   "execution_count": 55,
   "metadata": {},
   "outputs": [
    {
     "data": {
      "text/html": [
       "<div>\n",
       "<style scoped>\n",
       "    .dataframe tbody tr th:only-of-type {\n",
       "        vertical-align: middle;\n",
       "    }\n",
       "\n",
       "    .dataframe tbody tr th {\n",
       "        vertical-align: top;\n",
       "    }\n",
       "\n",
       "    .dataframe thead th {\n",
       "        text-align: right;\n",
       "    }\n",
       "</style>\n",
       "<table border=\"1\" class=\"dataframe\">\n",
       "  <thead>\n",
       "    <tr style=\"text-align: right;\">\n",
       "      <th></th>\n",
       "      <th>인명피해지수</th>\n",
       "      <th>재산피해지수</th>\n",
       "      <th>골든타임지수</th>\n",
       "      <th>공장규모지수</th>\n",
       "    </tr>\n",
       "    <tr>\n",
       "      <th>시군구</th>\n",
       "      <th></th>\n",
       "      <th></th>\n",
       "      <th></th>\n",
       "      <th></th>\n",
       "    </tr>\n",
       "  </thead>\n",
       "  <tbody>\n",
       "    <tr>\n",
       "      <th>강남구</th>\n",
       "      <td>0.39</td>\n",
       "      <td>0.06</td>\n",
       "      <td>0.03</td>\n",
       "      <td>0.06</td>\n",
       "    </tr>\n",
       "    <tr>\n",
       "      <th>강동구</th>\n",
       "      <td>0.16</td>\n",
       "      <td>0.02</td>\n",
       "      <td>0.01</td>\n",
       "      <td>0.11</td>\n",
       "    </tr>\n",
       "    <tr>\n",
       "      <th>강북구</th>\n",
       "      <td>0.35</td>\n",
       "      <td>0.01</td>\n",
       "      <td>0.01</td>\n",
       "      <td>0.06</td>\n",
       "    </tr>\n",
       "    <tr>\n",
       "      <th>강서구</th>\n",
       "      <td>0.00</td>\n",
       "      <td>0.17</td>\n",
       "      <td>0.07</td>\n",
       "      <td>1.00</td>\n",
       "    </tr>\n",
       "    <tr>\n",
       "      <th>관악구</th>\n",
       "      <td>1.00</td>\n",
       "      <td>0.01</td>\n",
       "      <td>0.01</td>\n",
       "      <td>0.00</td>\n",
       "    </tr>\n",
       "  </tbody>\n",
       "</table>\n",
       "</div>"
      ],
      "text/plain": [
       "     인명피해지수  재산피해지수  골든타임지수  공장규모지수\n",
       "시군구                                \n",
       "강남구    0.39    0.06    0.03    0.06\n",
       "강동구    0.16    0.02    0.01    0.11\n",
       "강북구    0.35    0.01    0.01    0.06\n",
       "강서구    0.00    0.17    0.07    1.00\n",
       "관악구    1.00    0.01    0.01    0.00"
      ]
     },
     "execution_count": 55,
     "metadata": {},
     "output_type": "execute_result"
    }
   ],
   "source": [
    "i= pd.concat([e,f],axis = 1)\n",
    "j= pd.concat([g,h],axis = 1)\n",
    "dfinal_ff_actory_scale_index = pd.concat([i,j],axis = 1)\n",
    "df_final_factory_scale_index = df_final_factory_scale_index.round(2) #소수둘쩃자리까지 표시\n",
    "df_final_factory_scale_index.head(5)\n"
   ]
  },
  {
   "cell_type": "code",
   "execution_count": 56,
   "metadata": {},
   "outputs": [],
   "source": [
    "import matplotlib.pyplot as plt\n",
    "import seaborn as sns"
   ]
  },
  {
   "cell_type": "code",
   "execution_count": 57,
   "metadata": {},
   "outputs": [],
   "source": [
    "%matplotlib inline"
   ]
  },
  {
   "cell_type": "code",
   "execution_count": 58,
   "metadata": {},
   "outputs": [],
   "source": [
    "import matplotlib.pyplot as plt\n",
    "import matplotlib.pyplot as plt\n",
    "\n",
    "plt.rcParams[\"font.family\"] = 'AppleGothic'\n",
    "plt.rcParams['font.size'] = 9.\n",
    "plt.rcParams['xtick.labelsize'] = 9.\n",
    "plt.rcParams['ytick.labelsize'] = 9.\n",
    "plt.rcParams['axes.labelsize'] = 9."
   ]
  },
  {
   "cell_type": "code",
   "execution_count": 59,
   "metadata": {},
   "outputs": [
    {
     "data": {
      "image/png": "[encoded data removed]",
      "text/plain": [
       "<matplotlib.figure.Figure at 0x10ea26e80>"
      ]
     },
     "metadata": {},
     "output_type": "display_data"
    }
   ],
   "source": [
    "k = pd.DataFrame(df_final_factory_scale_index['인명피해지수'] + df_final_factory_scale_index['재산피해지수'],columns = {'화재피해지수'},index = 시군구)\n",
    "l = pd.DataFrame(df_final_factory_scale_index['골든타임지수'] + df_final_factory_scale_index['공장규모지수'],columns = {'화재진압지연지수'},index = 시군구)\n",
    "\n",
    "m= pd.concat([k,l],axis = 1)\n",
    "\n",
    "plt.scatter(m['화재피해지수'],m['화재진압지연지수'], color = 'r', marker = 'o')\n",
    "plt.axhline(y=0.6, color='b', linestyle=':', linewidth=2) \n",
    "plt.axvline(x=0.6, color='b', linestyle=':', linewidth=2) \n",
    "plt.xlabel('화재피해지수')\n",
    "plt.ylabel('화재진압지연지수')\n",
    "\n",
    "#plt.colorbar()\n",
    "plt.grid()\n",
    "plt.show()"
   ]
  },
  {
   "cell_type": "code",
   "execution_count": 56,
   "metadata": {},
   "outputs": [
    {
     "data": {
      "image/png": "[encoded data removed]",
      "text/plain": [
       "<matplotlib.figure.Figure at 0x10db90860>"
      ]
     },
     "metadata": {},
     "output_type": "display_data"
    }
   ],
   "source": [
    "target_col = ['인명피해지수','재산피해지수','골든타임지수','공장규모지수']\n",
    "\n",
    "plt.figure(figsize = (10, 10))\n",
    "sns.heatmap(df_final_factory_scale_index[target_col], annot=True, linewidths=.5, cmap='Reds') \n",
    "plt.show()\n"
   ]
  },
  {
   "cell_type": "code",
   "execution_count": 61,
   "metadata": {},
   "outputs": [
    {
     "name": "stderr",
     "output_type": "stream",
     "text": [
      "UsageError: %%writefile is a cell magic, but the cell body is empty.\n"
     ]
    }
   ],
   "source": [
    "%%writefile 과제.py"
   ]
  },
  {
   "cell_type": "code",
   "execution_count": null,
   "metadata": {},
   "outputs": [],
   "source": []
  }
 ],
 "metadata": {
  "kernelspec": {
   "display_name": "Python 3",
   "language": "python",
   "name": "python3"
  },
  "language_info": {
   "codemirror_mode": {
    "name": "ipython",
    "version": 3
   },
   "file_extension": ".py",
   "mimetype": "text/x-python",
   "name": "python",
   "nbconvert_exporter": "python",
   "pygments_lexer": "ipython3",
   "version": "3.6.8"
  }
 },
 "nbformat": 4,
 "nbformat_minor": 2
}
